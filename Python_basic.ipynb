{
  "nbformat": 4,
  "nbformat_minor": 0,
  "metadata": {
    "colab": {
      "provenance": [],
      "authorship_tag": "ABX9TyPIRsdtLvePb01BwMIkSPCK"
    },
    "kernelspec": {
      "name": "python3",
      "display_name": "Python 3"
    },
    "language_info": {
      "name": "python"
    }
  },
  "cells": [
    {
      "cell_type": "markdown",
      "source": [
        "# print함수 사용법 및 변수의 편리성"
      ],
      "metadata": {
        "id": "Tvx2nAAoLdx7"
      }
    },
    {
      "cell_type": "code",
      "execution_count": 114,
      "metadata": {
        "colab": {
          "base_uri": "https://localhost:8080/"
        },
        "id": "D501Prsj_2iK",
        "outputId": "30c17d3e-3741-4e49-c4d4-89f112b00ef6"
      },
      "outputs": [
        {
          "output_type": "stream",
          "name": "stdout",
          "text": [
            "5\n",
            "-10\n",
            "3.14\n",
            "1000\n",
            "8\n",
            "16\n",
            "12\n"
          ]
        }
      ],
      "source": [
        "print(5)\n",
        "print(-10)\n",
        "print(3.14)\n",
        "print(1000)\n",
        "print(5+3)\n",
        "print(2*8)\n",
        "print(3*(3+1))"
      ]
    },
    {
      "cell_type": "code",
      "source": [
        "print('풍선')\n",
        "print(\"나비\")\n",
        "print(\"ㅋㅋㅋㅋㅋㅋㅋㅋㅋㅋ\")\n",
        "# 문자열과 숫자의 곱으로 문자열 표현가능\n",
        "print(\"ㅋ\"*9)"
      ],
      "metadata": {
        "colab": {
          "base_uri": "https://localhost:8080/"
        },
        "id": "OqdApVwmKT3H",
        "outputId": "5d5fa05d-44d3-4556-90f4-5f6ca8ee1b12"
      },
      "execution_count": 115,
      "outputs": [
        {
          "output_type": "stream",
          "name": "stdout",
          "text": [
            "풍선\n",
            "나비\n",
            "ㅋㅋㅋㅋㅋㅋㅋㅋㅋㅋ\n",
            "ㅋㅋㅋㅋㅋㅋㅋㅋㅋ\n"
          ]
        }
      ]
    },
    {
      "cell_type": "code",
      "source": [
        "# 불리안 참/거짓\n",
        "print(5>10)\n",
        "print(5<10)\n",
        "print(True)\n",
        "print(False,'\\n')\n",
        "# not은 반대\n",
        "print(not True)\n",
        "print(not False)\n",
        "print(not (5>10))"
      ],
      "metadata": {
        "colab": {
          "base_uri": "https://localhost:8080/"
        },
        "id": "jHLmQMcHKT6w",
        "outputId": "1de18513-befb-4d25-c860-ea9592a6a086"
      },
      "execution_count": 116,
      "outputs": [
        {
          "output_type": "stream",
          "name": "stdout",
          "text": [
            "False\n",
            "True\n",
            "True\n",
            "False \n",
            "\n",
            "False\n",
            "True\n",
            "True\n"
          ]
        }
      ]
    },
    {
      "cell_type": "code",
      "source": [
        "# 애완동물을 소개해 주세요~\n",
        "animal = \"강아지\"\n",
        "name = \"연탄이\"\n",
        "age = 4\n",
        "hobby = \"산책\"\n",
        "is_adult = age >= 3\n",
        "\n",
        "print('\\n우리집 강아지의 이름은 연탄이예요')\n",
        "print('연탄이는 4살이며, 산책을 아주 좋아해요')\n",
        "print('연탄이는 어른일까요? True')\n",
        "\n",
        "# 변수만 바꿔주면 적용가능\n",
        "print('\\n우리집 ' + animal + '의 이름은 '+name+'예요')\n",
        "print(name + '는 ' +str(age)+ '살이며, ' + hobby + '을 아주 좋아해요')\n",
        "print(name + '는 어른일까요? ' + str(is_adult))\n",
        "\n",
        "# 콤마 사용하면 변수형 스트링으로 바꾸지않아도 바로 사용할 수 있음"
      ],
      "metadata": {
        "colab": {
          "base_uri": "https://localhost:8080/"
        },
        "id": "L_q3mluFKT-x",
        "outputId": "03bccb67-3df3-495b-b3d6-bba800bf5aa1"
      },
      "execution_count": 117,
      "outputs": [
        {
          "output_type": "stream",
          "name": "stdout",
          "text": [
            "\n",
            "우리집 강아지의 이름은 연탄이예요\n",
            "연탄이는 4살이며, 산책을 아주 좋아해요\n",
            "연탄이는 어른일까요? True\n",
            "\n",
            "우리집 강아지의 이름은 연탄이예요\n",
            "연탄이는 4살이며, 산책을 아주 좋아해요\n",
            "연탄이는 어른일까요? True\n"
          ]
        }
      ]
    },
    {
      "cell_type": "markdown",
      "source": [
        "Quiz) 변수를 이용하여 다음 문장을 출력하시오\n",
        "\n",
        "변수명\n",
        " : station\n",
        "\n",
        " 변수값 : 사당,신도림,인천공항 순서대로 입력\n",
        "\n",
        " 출력 문장 : xx 행 열차가 들어오고 있습니다"
      ],
      "metadata": {
        "id": "P5wiJMQ0KUB4"
      }
    },
    {
      "cell_type": "code",
      "source": [
        "station = '사당'\n",
        "print(station,' 행 열차가 들어오고 있습니다.')\n",
        "station = '신도림'\n",
        "print(station,' 행 열차가 들어오고 있습니다.')\n",
        "station = '인천공항'\n",
        "print(station,' 행 열차가 들어오고 있습니다.')"
      ],
      "metadata": {
        "colab": {
          "base_uri": "https://localhost:8080/"
        },
        "id": "T9ccKoRoKUE_",
        "outputId": "5a273b03-417a-4015-867b-d8147266b267"
      },
      "execution_count": 118,
      "outputs": [
        {
          "output_type": "stream",
          "name": "stdout",
          "text": [
            "사당  행 열차가 들어오고 있습니다.\n",
            "신도림  행 열차가 들어오고 있습니다.\n",
            "인천공항  행 열차가 들어오고 있습니다.\n"
          ]
        }
      ]
    },
    {
      "cell_type": "markdown",
      "source": [
        "# 연산자"
      ],
      "metadata": {
        "id": "xGU9A3GMKUIh"
      }
    },
    {
      "cell_type": "code",
      "source": [
        "print(1+1)\n",
        "print(3-2)\n",
        "print(5*2)\n",
        "print(6/3)"
      ],
      "metadata": {
        "colab": {
          "base_uri": "https://localhost:8080/"
        },
        "id": "oDStleW1KUMv",
        "outputId": "685d698e-3370-46a7-898a-89350602c38e"
      },
      "execution_count": 119,
      "outputs": [
        {
          "output_type": "stream",
          "name": "stdout",
          "text": [
            "2\n",
            "1\n",
            "10\n",
            "2.0\n"
          ]
        }
      ]
    },
    {
      "cell_type": "code",
      "source": [
        "print(2**3)\n",
        "print(5%3)\n",
        "print(10%3)\n",
        "print(5//3)\n",
        "print(10//3)"
      ],
      "metadata": {
        "colab": {
          "base_uri": "https://localhost:8080/"
        },
        "id": "HjDaZB2BLu9V",
        "outputId": "ea77663b-bf5c-4d53-92bc-9456a56ab3d9"
      },
      "execution_count": 120,
      "outputs": [
        {
          "output_type": "stream",
          "name": "stdout",
          "text": [
            "8\n",
            "2\n",
            "1\n",
            "1\n",
            "3\n"
          ]
        }
      ]
    },
    {
      "cell_type": "code",
      "source": [
        "# 비교 연산\n",
        "print(10>3)\n",
        "print(4 >= 7)\n",
        "print(10 < 3)\n",
        "print(5 <= 5)"
      ],
      "metadata": {
        "colab": {
          "base_uri": "https://localhost:8080/"
        },
        "id": "wL9kNvZNLvBq",
        "outputId": "cb660383-a9c6-4221-d8e9-eb2e581a67a4"
      },
      "execution_count": 121,
      "outputs": [
        {
          "output_type": "stream",
          "name": "stdout",
          "text": [
            "True\n",
            "False\n",
            "False\n",
            "True\n"
          ]
        }
      ]
    },
    {
      "cell_type": "code",
      "source": [
        "print(3 == 3)\n",
        "print(4 == 2)\n",
        "print(3+4 == 7)"
      ],
      "metadata": {
        "colab": {
          "base_uri": "https://localhost:8080/"
        },
        "id": "Kp5lA2Y-LvFA",
        "outputId": "326b5aeb-85c8-4bd2-ecb8-d830260caaff"
      },
      "execution_count": 122,
      "outputs": [
        {
          "output_type": "stream",
          "name": "stdout",
          "text": [
            "True\n",
            "False\n",
            "True\n"
          ]
        }
      ]
    },
    {
      "cell_type": "code",
      "source": [
        "print(1 != 3)\n",
        "print(not(1 != 3))"
      ],
      "metadata": {
        "colab": {
          "base_uri": "https://localhost:8080/"
        },
        "id": "d2MqVF11LvIO",
        "outputId": "8982246f-fd78-4841-ec75-008f3f3340c8"
      },
      "execution_count": 123,
      "outputs": [
        {
          "output_type": "stream",
          "name": "stdout",
          "text": [
            "True\n",
            "False\n"
          ]
        }
      ]
    },
    {
      "cell_type": "code",
      "source": [
        "print((3>0) and (3<5))\n",
        "print((3>0) & (3<5))\n",
        "\n",
        "print((3>0) or (3 > 5))\n",
        "print((3 > 0) | (3 > 5))\n",
        "\n",
        "print(5>4>3)\n",
        "print(5>4>7)"
      ],
      "metadata": {
        "colab": {
          "base_uri": "https://localhost:8080/"
        },
        "id": "5il1tczULvLE",
        "outputId": "faea3c77-5495-4e52-c453-3c89dc984ee9"
      },
      "execution_count": 124,
      "outputs": [
        {
          "output_type": "stream",
          "name": "stdout",
          "text": [
            "True\n",
            "True\n",
            "True\n",
            "True\n",
            "True\n",
            "False\n"
          ]
        }
      ]
    },
    {
      "cell_type": "code",
      "source": [
        "print(2 + 3*4)\n",
        "print((2+3)*4)\n",
        "number = 2+3*4\n",
        "print(number)\n",
        "number = number + 2\n",
        "print(number)\n",
        "number+=2\n",
        "print(number)\n",
        "number*=2\n",
        "print(number)\n"
      ],
      "metadata": {
        "colab": {
          "base_uri": "https://localhost:8080/"
        },
        "id": "6inOLVPLLvN3",
        "outputId": "104ee32f-a723-4a71-cc10-c224344de6c1"
      },
      "execution_count": 125,
      "outputs": [
        {
          "output_type": "stream",
          "name": "stdout",
          "text": [
            "14\n",
            "20\n",
            "14\n",
            "16\n",
            "18\n",
            "36\n"
          ]
        }
      ]
    },
    {
      "cell_type": "code",
      "source": [
        "# 간단하게 기본으로 제공하는 숫자처리 함수들\n",
        "\n",
        "print(abs(-5))\n",
        "print(pow(4,2))\n",
        "print(max(5,12))\n",
        "print(min(5,12))\n",
        "print(round(3.14))\n",
        "print(round(4.99))"
      ],
      "metadata": {
        "colab": {
          "base_uri": "https://localhost:8080/"
        },
        "id": "_e3kB2LELvQl",
        "outputId": "1256b20e-a54e-4006-f0bb-c2c421889038"
      },
      "execution_count": 126,
      "outputs": [
        {
          "output_type": "stream",
          "name": "stdout",
          "text": [
            "5\n",
            "16\n",
            "12\n",
            "5\n",
            "3\n",
            "5\n"
          ]
        }
      ]
    },
    {
      "cell_type": "code",
      "source": [
        "# 랜덤함수 사용하기\n",
        "\n",
        "from random import*\n",
        "\n",
        "print(random()) # 0.0이상 1.0미만의 임의의 값 생성\n",
        "print(random() * 10)\n",
        "print(int(random()*10))\n",
        "print(int(random()*10))\n",
        "print(int(random()*10))\n",
        "\n",
        "# 로또값 출력하기\n",
        "print(int(random()*45)+1)\n",
        "print(int(random()*45)+1)\n",
        "print(int(random()*45)+1)\n",
        "print(int(random()*45)+1)\n",
        "print(int(random()*45)+1)\n",
        "print(int(random()*45)+1)"
      ],
      "metadata": {
        "colab": {
          "base_uri": "https://localhost:8080/"
        },
        "id": "fyG9ZmVCLvTM",
        "outputId": "8633e658-d513-4fc3-ccf0-a17f8b24d7fe"
      },
      "execution_count": 127,
      "outputs": [
        {
          "output_type": "stream",
          "name": "stdout",
          "text": [
            "0.8617077787742331\n",
            "4.420936736528617\n",
            "6\n",
            "2\n",
            "0\n",
            "15\n",
            "12\n",
            "5\n",
            "6\n",
            "4\n",
            "29\n"
          ]
        }
      ]
    },
    {
      "cell_type": "code",
      "source": [
        "print(randrange(1,46)) #1부터 46미만의 임의의 숫자 생성\n",
        "print(randrange(1,46))\n",
        "print(randrange(1,46))\n",
        "print(randrange(1,46))\n",
        "print(randrange(1,46))\n",
        "print(randrange(1,46))"
      ],
      "metadata": {
        "colab": {
          "base_uri": "https://localhost:8080/"
        },
        "id": "jf9Hh3FCMtLl",
        "outputId": "d6ab6592-870e-4af1-cbe3-a0c04aa0aaad"
      },
      "execution_count": 128,
      "outputs": [
        {
          "output_type": "stream",
          "name": "stdout",
          "text": [
            "8\n",
            "29\n",
            "44\n",
            "13\n",
            "21\n",
            "6\n"
          ]
        }
      ]
    },
    {
      "cell_type": "code",
      "source": [
        "print(randint(1,45)) #1부터 45이하의\n",
        "print(randint(1,45))\n",
        "print(randint(1,45))\n",
        "print(randint(1,45))\n",
        "print(randint(1,45))\n",
        "print(randint(1,45))"
      ],
      "metadata": {
        "colab": {
          "base_uri": "https://localhost:8080/"
        },
        "id": "QkYJRDV-MtPW",
        "outputId": "1910f9ee-9c58-4e35-a234-b4116cdc188c"
      },
      "execution_count": 129,
      "outputs": [
        {
          "output_type": "stream",
          "name": "stdout",
          "text": [
            "15\n",
            "18\n",
            "28\n",
            "3\n",
            "24\n",
            "4\n"
          ]
        }
      ]
    },
    {
      "cell_type": "markdown",
      "source": [
        "quiz) 당신은 최근에 코딩 스터디 모임을 새로 만들었습니다\n",
        "\n",
        "월 4회 스터디를 하는데 3번은 온라인으로 하고 1번은 오프라인으로 하기로 했습니다\n",
        "\n",
        "아래 조건에 맞는 오프라임 모임 날짜를 정해주는 프로그램을 작성하시오\n",
        "\n",
        "조건1 : 랜덤으로 날짜를 뽑아야 함\n",
        "\n",
        "조건2 : 월별 날짜는 다름을 감안하여 최소 일수인 28이내로 정함\n",
        "\n",
        "조건3 : 매월 1~3일은 스터디 준비를 해야 하므로 제외\n",
        "\n",
        "(출력문 예제)\n",
        "\n",
        "오프라인 스터디 모임 날짜는 매월 x 일로 선정되었습니다."
      ],
      "metadata": {
        "id": "xB-mpihyMtSu"
      }
    },
    {
      "cell_type": "code",
      "source": [
        "day = randint(4,28)\n",
        "print(\"오프라인 스터디 모임 날짜는 매월\",day,\"일로 선정되었습니다.\")"
      ],
      "metadata": {
        "colab": {
          "base_uri": "https://localhost:8080/"
        },
        "id": "LvH7jU7oMtVc",
        "outputId": "d87d756c-bca4-4c37-cd3a-5420f5ee1615"
      },
      "execution_count": 130,
      "outputs": [
        {
          "output_type": "stream",
          "name": "stdout",
          "text": [
            "오프라인 스터디 모임 날짜는 매월 16 일로 선정되었습니다.\n"
          ]
        }
      ]
    },
    {
      "cell_type": "markdown",
      "source": [
        "# 문자열 처리"
      ],
      "metadata": {
        "id": "7-k2PtQEMtYl"
      }
    },
    {
      "cell_type": "code",
      "source": [
        "sentence = '나는 소년입니다'\n",
        "print(sentence)\n",
        "sentence2 = \"파이썬은 쉬워요\"\n",
        "print(sentence2)\n",
        "# 여러줄도 한번에 문자열로 처리가 가능하다\n",
        "sentence3 = \"\"\"\n",
        "나는 소년이고,\n",
        "파이썬은 쉬워요\n",
        "\"\"\"\n",
        "print(sentence3)"
      ],
      "metadata": {
        "colab": {
          "base_uri": "https://localhost:8080/"
        },
        "id": "hb8yZDIAEDkk",
        "outputId": "cfed8b35-6708-4f55-b647-d57be2716fd9"
      },
      "execution_count": 131,
      "outputs": [
        {
          "output_type": "stream",
          "name": "stdout",
          "text": [
            "나는 소년입니다\n",
            "파이썬은 쉬워요\n",
            "\n",
            "나는 소년이고,\n",
            "파이썬은 쉬워요\n",
            "\n"
          ]
        }
      ]
    },
    {
      "cell_type": "code",
      "source": [
        "# 슬라이싱 >> 정보중에 필요한 부분만 잘라서 사용하는것\n",
        "jumin = \"990120-1234567\"\n",
        "\n",
        "print(\"성별 : \",jumin[7])\n",
        "print(\"연 : \",jumin[0:2]) # 0부터 2 직전까지(0,1)\n",
        "print(\"월 : \",jumin[2:4])\n",
        "print(\"일 : \",jumin[4:6])\n",
        "\n",
        "print(\"생년월일 : \",jumin[:6]) # 처음부터 6직전까지 가져오는것\n",
        "print(\"뒤 7자리 : \",jumin[7:14])\n",
        "print(\"뒤 7자리 : \",jumin[7:]) # 7부터 끝까지\n",
        "print(\"뒤 7자리 (뒤에서부터) : \",jumin[-1:-7]) # 문자열 반대 개념으로 접근"
      ],
      "metadata": {
        "colab": {
          "base_uri": "https://localhost:8080/"
        },
        "id": "vXlPx5yCMtbf",
        "outputId": "bf8f97fa-56e7-467a-b4e1-6f4c6c6f6d93"
      },
      "execution_count": 132,
      "outputs": [
        {
          "output_type": "stream",
          "name": "stdout",
          "text": [
            "성별 :  1\n",
            "연 :  99\n",
            "월 :  01\n",
            "일 :  20\n",
            "생년월일 :  990120\n",
            "뒤 7자리 :  1234567\n",
            "뒤 7자리 :  1234567\n",
            "뒤 7자리 (뒤에서부터) :  \n"
          ]
        }
      ]
    },
    {
      "cell_type": "code",
      "source": [
        "# 문자열 처리 함수\n",
        "\n",
        "python = \"Python is Amazing\"\n",
        "print(python.lower())\n",
        "print(python.upper())\n",
        "print(python[0].isupper()) # 대문자인지 확인하는 코드\n",
        "print(len(python)) # 공백도 문자열 길이에 포함\n",
        "print(python.replace(\"Python\",\"Java\")) # 문장안에 있는 어떤값을 쉽게 바꿀수 있음"
      ],
      "metadata": {
        "colab": {
          "base_uri": "https://localhost:8080/"
        },
        "id": "S0jPOo84CW8z",
        "outputId": "19c0620c-a733-4a09-da1f-1c872b9e86ee"
      },
      "execution_count": 133,
      "outputs": [
        {
          "output_type": "stream",
          "name": "stdout",
          "text": [
            "python is amazing\n",
            "PYTHON IS AMAZING\n",
            "True\n",
            "17\n",
            "Java is Amazing\n"
          ]
        }
      ]
    },
    {
      "cell_type": "code",
      "source": [
        "index = python.index(\"n\")\n",
        "print(index)\n",
        "index = python.index(\"n\",index + 1) # 시작점을 정해져서 그 이후부터 다시 시작해서 찾게된다\n",
        "print(index)\n",
        "\n",
        "print(python.find('Java')) # 찾는값이 없으면 -1을 반환하게됨\n",
        "\n",
        "# print(python.index('Java'))\n",
        "# 찾는값이 없으면 오류를 내버린뒤 프로그램을 종료시킴\n",
        "# 종료를 시키지 않는다는 점에서 find가 더 낫다\n",
        "\n",
        "print(python.count('n'))\n",
        "\n",
        "\n"
      ],
      "metadata": {
        "colab": {
          "base_uri": "https://localhost:8080/"
        },
        "id": "tlK5nNvKCXCL",
        "outputId": "532b6ad7-e771-4b7c-8b97-cf2eec40ad7a"
      },
      "execution_count": 134,
      "outputs": [
        {
          "output_type": "stream",
          "name": "stdout",
          "text": [
            "5\n",
            "15\n",
            "-1\n",
            "2\n"
          ]
        }
      ]
    },
    {
      "cell_type": "code",
      "source": [
        "# 문자 사이에 변수 넣고 싶을때\n",
        "\n",
        "# 방법1\n",
        "\n",
        "print(\"나는 %d살입니다.\"%20)\n",
        "print(\"나는 %s을 좋아해요.\"%\"파이썬\")\n",
        "print(\"apple은 %c로 시작해요.\"%\"a\")\n",
        "\n",
        "# %d,%s,%c 단, 자료형의 타입을 지정해 주어야한다\n",
        "\n",
        "print('나는 %s색과 %s색을 좋아해요.'%('파란','빨간'))"
      ],
      "metadata": {
        "colab": {
          "base_uri": "https://localhost:8080/"
        },
        "id": "BQb95TNPCXFx",
        "outputId": "8a634dc7-c21f-48c0-ebbd-9f15f658881a"
      },
      "execution_count": 135,
      "outputs": [
        {
          "output_type": "stream",
          "name": "stdout",
          "text": [
            "나는 20살입니다.\n",
            "나는 파이썬을 좋아해요.\n",
            "apple은 a로 시작해요.\n",
            "나는 파란색과 빨간색을 좋아해요.\n"
          ]
        }
      ]
    },
    {
      "cell_type": "code",
      "source": [
        "# 방법 2\n",
        "print(\"나는 {}살입니다.\".format(20))\n",
        "print(\"나는 {}색과 {}색을 좋아해요.\".format('파란','빨간'))\n",
        "# 순서를 숫자로 지정해줄 수 있다\n",
        "print(\"나는 {0}색과 {1}색을 좋아해요.\".format('파란','빨간'))\n",
        "print(\"나는 {1}색과 {0}색을 좋아해요.\".format('파란','빨간'))\n"
      ],
      "metadata": {
        "colab": {
          "base_uri": "https://localhost:8080/"
        },
        "id": "j4wV0VZvCXJx",
        "outputId": "c7238491-4e39-466b-aa98-ebeadc15c232"
      },
      "execution_count": 136,
      "outputs": [
        {
          "output_type": "stream",
          "name": "stdout",
          "text": [
            "나는 20살입니다.\n",
            "나는 파란색과 빨간색을 좋아해요.\n",
            "나는 파란색과 빨간색을 좋아해요.\n",
            "나는 빨간색과 파란색을 좋아해요.\n"
          ]
        }
      ]
    },
    {
      "cell_type": "code",
      "source": [
        "# 방법 3\n",
        "print(\"나는 {age}살이며, {color}색을 좋아해요.\".format(age = 20,color = '빨간'))"
      ],
      "metadata": {
        "id": "FjQzwvLxCXOx",
        "colab": {
          "base_uri": "https://localhost:8080/"
        },
        "outputId": "b6973776-dc01-4f21-8967-49700a6256f1"
      },
      "execution_count": 137,
      "outputs": [
        {
          "output_type": "stream",
          "name": "stdout",
          "text": [
            "나는 20살이며, 빨간색을 좋아해요.\n"
          ]
        }
      ]
    },
    {
      "cell_type": "code",
      "source": [
        "# 방법 4\n",
        "# 나는 이게 제일 편\n",
        "age = 20\n",
        "color = \"빨간\"\n",
        "print(f\"나는 {age}살이며, {color}색을 좋아해요.\")"
      ],
      "metadata": {
        "colab": {
          "base_uri": "https://localhost:8080/"
        },
        "id": "2URqJUsuCXVW",
        "outputId": "0dcc8dac-9d24-4f05-ea4f-90e7979ef6c7"
      },
      "execution_count": 138,
      "outputs": [
        {
          "output_type": "stream",
          "name": "stdout",
          "text": [
            "나는 20살이며, 빨간색을 좋아해요.\n"
          ]
        }
      ]
    },
    {
      "cell_type": "code",
      "source": [
        "# 탈출문자\n",
        "\n",
        "# \\n : 줄바꿈\n",
        "print(\"백문이 불여일견\\n백견이 불여일타\")"
      ],
      "metadata": {
        "colab": {
          "base_uri": "https://localhost:8080/"
        },
        "id": "_r1u4kdaUY0q",
        "outputId": "287b992d-4235-4b72-9b51-a2797de4bbed"
      },
      "execution_count": 139,
      "outputs": [
        {
          "output_type": "stream",
          "name": "stdout",
          "text": [
            "백문이 불여일견\n",
            "백견이 불여일타\n"
          ]
        }
      ]
    },
    {
      "cell_type": "code",
      "source": [
        "# 저는 \"나도코딩\"입니다.\n",
        "# 문장내에서 따옴표를 오류없이 쓰고싶을때\n",
        "# \\\",\\'\n",
        "\n",
        "print('저는 \"나도코딩\"입니다.')\n",
        "print(\"저는 \\\"나도코딩\\\"입니다.\")"
      ],
      "metadata": {
        "colab": {
          "base_uri": "https://localhost:8080/"
        },
        "id": "xnka3F7AUY4K",
        "outputId": "260c06ab-e304-477f-9991-43225f01287e"
      },
      "execution_count": 140,
      "outputs": [
        {
          "output_type": "stream",
          "name": "stdout",
          "text": [
            "저는 \"나도코딩\"입니다.\n",
            "저는 \"나도코딩\"입니다.\n"
          ]
        }
      ]
    },
    {
      "cell_type": "code",
      "source": [
        "# \\\\: 문장 내에서 하나의 \\로 바뀜\n",
        "# \\ 하나는 문장에서 어떤 기능을 하기 때문에 \\\\이상을 \\하나로 취급하면\n",
        "# 그다음 증가부터는 오류가 안생길수 있음\n",
        "\n",
        "print(\"c:\\\\users\\\\nadocoding\\\\desktop\\\\pythonworkspace\")"
      ],
      "metadata": {
        "colab": {
          "base_uri": "https://localhost:8080/"
        },
        "id": "OLky1kACUY7O",
        "outputId": "693297f7-df60-40ce-bd77-d1a61cef3e1e"
      },
      "execution_count": 141,
      "outputs": [
        {
          "output_type": "stream",
          "name": "stdout",
          "text": [
            "c:\\users\\nadocoding\\desktop\\pythonworkspace\n"
          ]
        }
      ]
    },
    {
      "cell_type": "code",
      "source": [
        "# \\r : 커서를 맨 앞으로 이동\n",
        "print(\"red apple\\rpine\")\n",
        "# \\b : 백스페이스 (한 글자 삭제)\n",
        "print(\"red\\bapple\")\n",
        "# \\t : 탭만큼 띄어쓰기를 해주\n",
        "print(\"red\\tapple\")\n"
      ],
      "metadata": {
        "colab": {
          "base_uri": "https://localhost:8080/"
        },
        "id": "0Cc3_AdpUY-M",
        "outputId": "417d6291-73f2-4ad8-a5e8-38ae4ef3c283"
      },
      "execution_count": 142,
      "outputs": [
        {
          "output_type": "stream",
          "name": "stdout",
          "text": [
            "red apple\rpine\n",
            "red\bapple\n",
            "red\tapple\n"
          ]
        }
      ]
    },
    {
      "cell_type": "markdown",
      "source": [
        "quiz) 사이트별로 비밀번호를 만들어 주는 프로그램을 작성하시오.\n",
        "\n",
        "예)http:\\\\naver.com\n",
        "\n",
        "규칙1 : http:\\\\ 부분은 제외 >> naver.com\n",
        "\n",
        "규칙2 : 처음 만나는 점(.)이후 부분은 제외 >> naver\n",
        "\n",
        "규칙3 : 남은 글자 중 처음 세자리 + 글자 갯수 + 글자 내 'e'갯수 +\"!\"로 구성\n",
        "\n",
        "생성된 비밀번호) nav51!"
      ],
      "metadata": {
        "id": "Usgm_t7iXgBj"
      }
    },
    {
      "cell_type": "code",
      "source": [
        "url = \"http:\\\\naver.com\"\n",
        "my_str = url.replace(\"http:\\\\\",\"\") #규칙 1, 여백으로 대체하는것은 지운다는뜻\n",
        "# print(my_str)\n",
        "\n",
        "my_str = my_str[:my_str.index(\".\")] # 0부터 .직전까지만 출력\n",
        "# print(my_str)\n",
        "\n",
        "# count 함수는 개수를 찾는것이고, index 함수는 인덱스 위치를 찾는것임!!!\n",
        "password = my_str[:3] + str(len(my_str)) + str(my_str.count(\"e\")) + \"!\"\n",
        "print(f\"{url}의 비밀번호는{password}입니다.\")"
      ],
      "metadata": {
        "colab": {
          "base_uri": "https://localhost:8080/"
        },
        "id": "DxUWbv-5UZA5",
        "outputId": "c5aaf4fc-c2ca-4dc9-a5d5-20397d1ddd30"
      },
      "execution_count": 143,
      "outputs": [
        {
          "output_type": "stream",
          "name": "stdout",
          "text": [
            "http:\\naver.com의 비밀번호는nav51!입니다.\n"
          ]
        }
      ]
    },
    {
      "cell_type": "markdown",
      "source": [
        "# 자료구조"
      ],
      "metadata": {
        "id": "jOvYbZVaWqiW"
      }
    },
    {
      "cell_type": "code",
      "source": [
        " # 리스트 [] >> 순서를 가지는 객체의 집합\n",
        "\n",
        " # 지하철 칸별로 10명, 20명, 30명\n",
        " # 하나로 연속적인 공간에 묶어버림\n",
        "\n",
        "subway = [10,20,30]\n",
        "print(subway)\n",
        "\n",
        "subway = [\"유재석\",\"조세호\",\"박명수\"]\n",
        "print(subway)\n",
        "\n",
        "# 조세호씨가 몇 번째 칸에 타고 있는가?\n",
        "print(subway.index(\"조세호\"))\n",
        "\n",
        "# 하하씨가 다음 정류장에서 다음 칸에 탐\n",
        "subway.append(\"하하\")\n",
        "print(subway)\n",
        "\n",
        "# 정형돈씨를 유재석,조세호 사이에 태워봄\n",
        "subway.insert(1,\"정형돈\")\n",
        "print(subway)\n",
        "\n",
        "# 지하철에 있는 사람을 한 명씩 뒤에서 꺼냄\n",
        "print(subway.pop())\n",
        "print(subway)\n",
        "\n",
        "print(subway.pop())\n",
        "print(subway)\n",
        "\n",
        "print(subway.pop())\n",
        "print(subway)\n",
        "\n",
        "#같은 이름의 사람이 몇 명 있는지 확인\n",
        "subway.append(\"유재석\")\n",
        "print(subway)\n",
        "print(subway.count(\"유재석\"))"
      ],
      "metadata": {
        "colab": {
          "base_uri": "https://localhost:8080/"
        },
        "id": "PR2VuWXDWql8",
        "outputId": "1ffb3653-8157-47b9-a073-779e5b7f2ce6"
      },
      "execution_count": 144,
      "outputs": [
        {
          "output_type": "stream",
          "name": "stdout",
          "text": [
            "[10, 20, 30]\n",
            "['유재석', '조세호', '박명수']\n",
            "1\n",
            "['유재석', '조세호', '박명수', '하하']\n",
            "['유재석', '정형돈', '조세호', '박명수', '하하']\n",
            "하하\n",
            "['유재석', '정형돈', '조세호', '박명수']\n",
            "박명수\n",
            "['유재석', '정형돈', '조세호']\n",
            "조세호\n",
            "['유재석', '정형돈']\n",
            "['유재석', '정형돈', '유재석']\n",
            "2\n"
          ]
        }
      ]
    },
    {
      "cell_type": "code",
      "source": [
        "# 정렬도 가능\n",
        "num_list = [5,2,4,3,1]\n",
        "num_list.sort()\n",
        "print(num_list)\n",
        "\n",
        "# 순서 뒤집기 가능\n",
        "num_list.reverse()\n",
        "print(num_list)\n",
        "\n",
        "# 리스트는 다양한 자료형을 섞어서 사용할 수 있다\n",
        "mix_list = [\"조세호\",20,True]\n",
        "print(mix_list)\n",
        "\n",
        "# 리스트 확장\n",
        "num_list.extend(mix_list)\n",
        "print(num_list)"
      ],
      "metadata": {
        "colab": {
          "base_uri": "https://localhost:8080/"
        },
        "id": "E6_Ncl5gWqoy",
        "outputId": "c8036d24-a9f2-4451-8af6-ab56fe9293f2"
      },
      "execution_count": 145,
      "outputs": [
        {
          "output_type": "stream",
          "name": "stdout",
          "text": [
            "[1, 2, 3, 4, 5]\n",
            "[5, 4, 3, 2, 1]\n",
            "['조세호', 20, True]\n",
            "[5, 4, 3, 2, 1, '조세호', 20, True]\n"
          ]
        }
      ]
    },
    {
      "cell_type": "code",
      "source": [
        "# 모두 지우기\n",
        "num_list.clear()\n",
        "print(num_list)"
      ],
      "metadata": {
        "colab": {
          "base_uri": "https://localhost:8080/"
        },
        "id": "JpenO4kdWqut",
        "outputId": "d5741462-f14d-4ce0-dd33-09b5144de32a"
      },
      "execution_count": 146,
      "outputs": [
        {
          "output_type": "stream",
          "name": "stdout",
          "text": [
            "[]\n"
          ]
        }
      ]
    },
    {
      "cell_type": "code",
      "source": [
        "# 사전 - diction\n",
        "# key와 value값으로 나누어 지게 됨\n",
        "# 키는 중복이 안되고 항상 그에 해당하는 사물함만 열 수 있음\n",
        "\n",
        "cabinet = {3:\"유재석\",100:\"김태호\"}\n",
        "print(cabinet[3])\n",
        "print(cabinet[100])\n",
        "\n",
        "# 다른 방법\n",
        "print(cabinet.get(3))\n",
        "\n",
        "# 대괄호 일때 값이 없으면 오류 뜨고 프로그램 종료, get 쓰면 none이라 뜨고 종료는 안됨\n",
        "\n",
        "print(cabinet.get(5,\"사용가능\"))"
      ],
      "metadata": {
        "id": "bQKas5HpWqx9",
        "colab": {
          "base_uri": "https://localhost:8080/"
        },
        "outputId": "cb58a2de-5cb2-42b5-e035-b9f03b53b659"
      },
      "execution_count": 147,
      "outputs": [
        {
          "output_type": "stream",
          "name": "stdout",
          "text": [
            "유재석\n",
            "김태호\n",
            "유재석\n",
            "사용가능\n"
          ]
        }
      ]
    },
    {
      "cell_type": "code",
      "source": [
        "# 키값 여부 확인\n",
        "print(3 in cabinet)\n",
        "print(5 in cabinet)"
      ],
      "metadata": {
        "id": "-VgCIDo8Wq1c",
        "colab": {
          "base_uri": "https://localhost:8080/"
        },
        "outputId": "b79c45c1-d6b2-4f9b-eb83-3f471fda8bdc"
      },
      "execution_count": 148,
      "outputs": [
        {
          "output_type": "stream",
          "name": "stdout",
          "text": [
            "True\n",
            "False\n"
          ]
        }
      ]
    },
    {
      "cell_type": "code",
      "source": [
        "# 스트링도 키값으로 활용 할 수 있음\n",
        "cabinet = {\"a-3\":\"유재석\",\"b-100\":\"김태호\"}\n",
        "print(cabinet[\"a-3\"])\n",
        "print(cabinet[\"b-100\"])"
      ],
      "metadata": {
        "id": "fj5OKF8nWq3k",
        "colab": {
          "base_uri": "https://localhost:8080/"
        },
        "outputId": "6b0b51ca-b694-4079-acab-47c99cd96ac1"
      },
      "execution_count": 149,
      "outputs": [
        {
          "output_type": "stream",
          "name": "stdout",
          "text": [
            "유재석\n",
            "김태호\n"
          ]
        }
      ]
    },
    {
      "cell_type": "code",
      "source": [
        "# 새 손님\n",
        "print(cabinet)\n",
        "cabinet[\"a-3\"] = \"김종국\"\n",
        "cabinet[\"c-20\"] = \"조세호\"\n",
        "print(cabinet)\n",
        "\n",
        "# 겹치는 키값은 덮어씌어지고, 새로운 키값은 추가 되는 것을 알 수 있음"
      ],
      "metadata": {
        "id": "Wvkhz_DRdBrV",
        "colab": {
          "base_uri": "https://localhost:8080/"
        },
        "outputId": "3015569c-2f17-4086-f9f5-22d01f2141cc"
      },
      "execution_count": 150,
      "outputs": [
        {
          "output_type": "stream",
          "name": "stdout",
          "text": [
            "{'a-3': '유재석', 'b-100': '김태호'}\n",
            "{'a-3': '김종국', 'b-100': '김태호', 'c-20': '조세호'}\n"
          ]
        }
      ]
    },
    {
      "cell_type": "code",
      "source": [
        "# 간 손님\n",
        "del cabinet[\"a-3\"]\n",
        "print(cabinet)"
      ],
      "metadata": {
        "id": "9xKyWw4_dBuI",
        "colab": {
          "base_uri": "https://localhost:8080/"
        },
        "outputId": "300fc033-286e-490f-cc15-0bae2ece4ae6"
      },
      "execution_count": 151,
      "outputs": [
        {
          "output_type": "stream",
          "name": "stdout",
          "text": [
            "{'b-100': '김태호', 'c-20': '조세호'}\n"
          ]
        }
      ]
    },
    {
      "cell_type": "code",
      "source": [
        "# key 들만 출력\n",
        "print(cabinet.keys())\n",
        "\n",
        "# value 들만 출력\n",
        "print(cabinet.values())\n",
        "\n",
        "# key, value 쌍으로 출력\n",
        "print(cabinet.items())\n",
        "\n",
        "# 목욕탕 폐점\n",
        "cabinet.clear()\n",
        "print(cabinet)"
      ],
      "metadata": {
        "id": "OcJpwjmLdBw6",
        "colab": {
          "base_uri": "https://localhost:8080/"
        },
        "outputId": "33390c80-aec8-4792-e124-1a2b657e2a9b"
      },
      "execution_count": 152,
      "outputs": [
        {
          "output_type": "stream",
          "name": "stdout",
          "text": [
            "dict_keys(['b-100', 'c-20'])\n",
            "dict_values(['김태호', '조세호'])\n",
            "dict_items([('b-100', '김태호'), ('c-20', '조세호')])\n",
            "{}\n"
          ]
        }
      ]
    },
    {
      "cell_type": "code",
      "source": [
        "# 튜플 >> 리스트와 다르게 변경할 수 없음\n",
        "\n",
        "menu = (\"돈까스\",\"치즈까스\")\n",
        "print(menu[0])\n",
        "print(menu[1])\n",
        "\n",
        "# 튜플은 add라는 기능 제공x, 값 추가하거나 지우는것 불가"
      ],
      "metadata": {
        "id": "d9WsFTS0dBzj",
        "colab": {
          "base_uri": "https://localhost:8080/"
        },
        "outputId": "a3af3bb4-3273-443f-eef8-d8e8a5ce52fb"
      },
      "execution_count": 153,
      "outputs": [
        {
          "output_type": "stream",
          "name": "stdout",
          "text": [
            "돈까스\n",
            "치즈까스\n"
          ]
        }
      ]
    },
    {
      "cell_type": "code",
      "source": [
        "name = \"김종국\"\n",
        "age = 20\n",
        "hobby = \"코딩\"\n",
        "print(name,age,hobby)"
      ],
      "metadata": {
        "id": "Num-qZT4gu_e",
        "colab": {
          "base_uri": "https://localhost:8080/"
        },
        "outputId": "ff0b149a-e841-4d8b-81cb-78c5354e882d"
      },
      "execution_count": 154,
      "outputs": [
        {
          "output_type": "stream",
          "name": "stdout",
          "text": [
            "김종국 20 코딩\n"
          ]
        }
      ]
    },
    {
      "cell_type": "code",
      "source": [
        "# 한번에 각각 지정가능\n",
        "tup = (name,age,hobby) = (\"김종국\",20,\"코딩\")\n",
        "print((name,age,hobby))\n",
        "print(tup)"
      ],
      "metadata": {
        "id": "_qWdglEFgvC0",
        "colab": {
          "base_uri": "https://localhost:8080/"
        },
        "outputId": "b93d571b-c1cb-4974-965c-a072880dd7d6"
      },
      "execution_count": 155,
      "outputs": [
        {
          "output_type": "stream",
          "name": "stdout",
          "text": [
            "('김종국', 20, '코딩')\n",
            "('김종국', 20, '코딩')\n"
          ]
        }
      ]
    },
    {
      "cell_type": "code",
      "source": [
        "# 집합 (set)\n",
        "# 중복 안되고 순서도 없음. 인덱스 접근 불가\n",
        "\n",
        "my_set = {1,2,3,3,3}\n",
        "print(my_set)\n",
        "\n",
        "java = {\"유재석\",\"김태호\",\"양세형\"}\n",
        "python = set([\"유재석\",\"박명수\"]) #set함수 리스트를 집합으로"
      ],
      "metadata": {
        "id": "r1gKfMQNgvGS",
        "colab": {
          "base_uri": "https://localhost:8080/"
        },
        "outputId": "4ce51aff-8f22-41b4-be85-77df0a1dda0a"
      },
      "execution_count": 156,
      "outputs": [
        {
          "output_type": "stream",
          "name": "stdout",
          "text": [
            "{1, 2, 3}\n"
          ]
        }
      ]
    },
    {
      "cell_type": "code",
      "source": [
        "# 교집합 (java 와 python을 모두 할 수 있는 개발자)\n",
        "print(java and python)\n",
        "print(java.intersection(python))\n"
      ],
      "metadata": {
        "id": "AM8c58CJgvJF",
        "colab": {
          "base_uri": "https://localhost:8080/"
        },
        "outputId": "59967141-4c57-4f36-89dd-138c3d0146ef"
      },
      "execution_count": 157,
      "outputs": [
        {
          "output_type": "stream",
          "name": "stdout",
          "text": [
            "{'유재석', '박명수'}\n",
            "{'유재석'}\n"
          ]
        }
      ]
    },
    {
      "cell_type": "code",
      "source": [
        "# 합집합 (java도 할수 있거나 python을 할 수 있는 개발자)\n",
        "print(java | python)\n",
        "print(java.union(python))"
      ],
      "metadata": {
        "id": "a33DznOZgvL1",
        "colab": {
          "base_uri": "https://localhost:8080/"
        },
        "outputId": "56ddeb33-8027-43b3-a0cb-4404d6629571"
      },
      "execution_count": 158,
      "outputs": [
        {
          "output_type": "stream",
          "name": "stdout",
          "text": [
            "{'유재석', '양세형', '김태호', '박명수'}\n",
            "{'유재석', '양세형', '김태호', '박명수'}\n"
          ]
        }
      ]
    },
    {
      "cell_type": "code",
      "source": [
        "# 차집합 (java 할 수 있지만 python은 할 줄 모르는 개발자)\n",
        "print(java - python)\n",
        "print(java.difference(python))"
      ],
      "metadata": {
        "id": "6CyeJ8JSgvPE",
        "colab": {
          "base_uri": "https://localhost:8080/"
        },
        "outputId": "9e200828-a64e-4918-8d27-bc02217968e4"
      },
      "execution_count": 159,
      "outputs": [
        {
          "output_type": "stream",
          "name": "stdout",
          "text": [
            "{'양세형', '김태호'}\n",
            "{'양세형', '김태호'}\n"
          ]
        }
      ]
    },
    {
      "cell_type": "code",
      "source": [
        "# python을 할 줄 아는 사람이 늘어남\n",
        "python.add(\"김태호\")\n",
        "print(python)"
      ],
      "metadata": {
        "id": "DMLwUO7FgvRQ",
        "colab": {
          "base_uri": "https://localhost:8080/"
        },
        "outputId": "e19a7eb3-c294-4e47-c40e-c8650bc882b2"
      },
      "execution_count": 160,
      "outputs": [
        {
          "output_type": "stream",
          "name": "stdout",
          "text": [
            "{'유재석', '김태호', '박명수'}\n"
          ]
        }
      ]
    },
    {
      "cell_type": "code",
      "source": [
        "# java 를 잊었어요\n",
        "java.remove(\"김태호\")\n",
        "print(java)"
      ],
      "metadata": {
        "id": "g_1ZEMI2dB2e",
        "colab": {
          "base_uri": "https://localhost:8080/"
        },
        "outputId": "cefb2b0d-a306-4b51-ca01-8825c940484a"
      },
      "execution_count": 161,
      "outputs": [
        {
          "output_type": "stream",
          "name": "stdout",
          "text": [
            "{'양세형', '유재석'}\n"
          ]
        }
      ]
    },
    {
      "cell_type": "code",
      "source": [
        "# 자료구조의 변경\n",
        "# 자료구조 변경 함수를 사용해서 바꿔주면 된다\n",
        "\n",
        "# 커피숍\n",
        "\n",
        "menu = {\"커피\",\"우유\",\"주스\"}\n",
        "print(menu, type(menu))\n",
        "\n",
        "menu = list(menu)\n",
        "print(menu, type(menu))\n",
        "\n",
        "menu = tuple(menu)\n",
        "print(menu, type(menu))\n",
        "\n",
        "menu = set(menu)\n",
        "print(menu, type(menu))"
      ],
      "metadata": {
        "id": "zlJBeA4EdB5D",
        "colab": {
          "base_uri": "https://localhost:8080/"
        },
        "outputId": "ff246a55-4eca-49cb-c328-156b20021ea5"
      },
      "execution_count": 162,
      "outputs": [
        {
          "output_type": "stream",
          "name": "stdout",
          "text": [
            "{'주스', '우유', '커피'} <class 'set'>\n",
            "['주스', '우유', '커피'] <class 'list'>\n",
            "('주스', '우유', '커피') <class 'tuple'>\n",
            "{'주스', '우유', '커피'} <class 'set'>\n"
          ]
        }
      ]
    },
    {
      "cell_type": "markdown",
      "source": [
        "quiz) 당신의 학교에서는 파이썬 코딩 대회를 주최합니다\n",
        "참석률을 높이기 위해 댓글 이벤트를 진행하기로 하였습니다\n",
        "댓글 작성자들 중에 추첨을 통해 1명은 치킨, 3명은 커피 쿠폰을 받게 됩니다\n",
        "추첨 프로그램을 작성하시오\n",
        "\n",
        "조건1: 편의상 댓글은 20명이 작성하였고 아이디는 1~20 이라고 가정\n",
        "\n",
        "조건2: 댓글 내용과 상관 없이 무작위로 추첨하되 중복 불가\n",
        "\n",
        "조건3: random 모듈의 shuffle 과 sample을 활용\n",
        "\n",
        "(출력 예제)\n",
        "\n",
        "-- 당첨자 발표 --\n",
        "\n",
        "치킨 당첨자 : 1\n",
        "\n",
        "커피 당첨자 : [2,3,4]\n",
        "\n",
        "-- 축하합니다 --\n",
        "\n",
        "(활용 예제)\n",
        "\n",
        "from random import *\n",
        "\n",
        "print(list)\n",
        "\n",
        "shuffle(list)\n",
        "\n",
        "print(list)\n",
        "\n",
        "print(sample(list,1))\n"
      ],
      "metadata": {
        "id": "Vj3uyUb9dB8a"
      }
    },
    {
      "cell_type": "code",
      "source": [
        "from random import *\n",
        "ids = [1,2,3,4,5,6,7,8,9,10,11,12,13,14,15,16,17,18,19,20]\n",
        "# print(ids)\n",
        "\n",
        "shuffle(ids)\n",
        "# print(ids)\n",
        "\n",
        "chicken = sample(ids,1)\n",
        "# print(chicken)\n",
        "\n",
        "ids = set(ids)\n",
        "chicken = set(chicken)\n",
        "\n",
        "ids = list(ids - chicken)\n",
        "# print(ids)\n",
        "\n",
        "coffee = sample(ids,3)\n",
        "# print(coffee)\n",
        "\n",
        "print(f\"\"\"\n",
        "--- 당첨자 발표---\n",
        "치킨 당첨자 : {chicken}\n",
        "커피 당첨자 : {coffee}\n",
        "--- 축하합니다 ---\n",
        "\"\"\")"
      ],
      "metadata": {
        "id": "NFX7sNCkdB-l",
        "colab": {
          "base_uri": "https://localhost:8080/"
        },
        "outputId": "98480e3d-f3a2-4856-9cdc-bcade016357e"
      },
      "execution_count": 163,
      "outputs": [
        {
          "output_type": "stream",
          "name": "stdout",
          "text": [
            "\n",
            "--- 당첨자 발표---\n",
            "치킨 당첨자 : {11}\n",
            "커피 당첨자 : [17, 7, 2]\n",
            "--- 축하합니다 ---\n",
            "\n"
          ]
        }
      ]
    },
    {
      "cell_type": "code",
      "source": [
        "from random import *\n",
        "users = list(range(1,21)) #range 타입을 list타입으로 변환\n",
        "print(users)\n",
        "\n",
        "shuffle(users)\n",
        "print(users)\n",
        "\n",
        "# 중복될 수 있으므로 한번에 4명을 뽑아 버림\n",
        "winners = sample(users,4)\n",
        "\n",
        "chicken = winners[0]\n",
        "coffee = winners[1:]\n",
        "\n",
        "print(f\"\"\"\n",
        "--- 당첨자 발표---\n",
        "치킨 당첨자 : {chicken}\n",
        "커피 당첨자 : {coffee}\n",
        "--- 축하합니다 ---\n",
        "\"\"\")"
      ],
      "metadata": {
        "colab": {
          "base_uri": "https://localhost:8080/"
        },
        "id": "awBqXQCuPngD",
        "outputId": "3fef9603-9f31-4b57-ea96-1f0bb7928336"
      },
      "execution_count": 164,
      "outputs": [
        {
          "output_type": "stream",
          "name": "stdout",
          "text": [
            "[1, 2, 3, 4, 5, 6, 7, 8, 9, 10, 11, 12, 13, 14, 15, 16, 17, 18, 19, 20]\n",
            "[5, 14, 10, 20, 17, 19, 16, 11, 3, 18, 7, 9, 2, 6, 12, 8, 4, 1, 15, 13]\n",
            "\n",
            "--- 당첨자 발표---\n",
            "치킨 당첨자 : 17\n",
            "커피 당첨자 : [9, 14, 1]\n",
            "--- 축하합니다 ---\n",
            "\n"
          ]
        }
      ]
    },
    {
      "cell_type": "markdown",
      "source": [
        "# 제어문"
      ],
      "metadata": {
        "id": "HQ2_tSDvPnmx"
      }
    },
    {
      "cell_type": "code",
      "source": [
        "# 분기\n",
        "# 이런상황에서는 이런 코드를 사용 저런 상황에서는 저런 코드를 사용\n",
        "# 날씨에 따라 서로다른 준비물을 챙겨야 되는 경우\n",
        "\n",
        "weather = input(\"오늘 날씨는 어때요?\")\n",
        "\n",
        "if weather == \"비\" or weather == \"눈\":\n",
        "  print(\"우산을 챙기세요\")\n",
        "elif weather == \"미세먼지\":\n",
        "  print(\"마스크를 챙기세요\")\n",
        "else:\n",
        "  print(\"준비물 필요 없어요\")\n",
        "\n",
        "# 조건 만족하면 바로 빠져나오고, 아닐시 밑으로 계속 내려감 마지막은 else로 끝나게 됨\n",
        "\n"
      ],
      "metadata": {
        "colab": {
          "base_uri": "https://localhost:8080/"
        },
        "id": "yeyRzMBjPnrD",
        "outputId": "3213a7bb-fb7f-4c1b-84bb-ac458e50d12d"
      },
      "execution_count": 165,
      "outputs": [
        {
          "output_type": "stream",
          "name": "stdout",
          "text": [
            "오늘 날씨는 어때요?굿\n",
            "준비물 필요 없어요\n"
          ]
        }
      ]
    },
    {
      "cell_type": "code",
      "source": [
        "temp = int(input(\"기온은 어때요? \"))\n",
        "if 30 <= temp:\n",
        "  print(\"너무 더워요. 나가지 마세요\")\n",
        "elif 10 <= temp and temp < 30:\n",
        "  print(\"괜찮은 날씨에요\")\n",
        "elif 0 <= temp and temp <10:\n",
        "  print(\"외투를 챙기세요\")\n",
        "else:\n",
        "  print(\"너무 추워요. 나가지 마세요\")"
      ],
      "metadata": {
        "colab": {
          "base_uri": "https://localhost:8080/"
        },
        "id": "0EOYcNxyPnuW",
        "outputId": "28d431e2-38ae-4462-fd9d-5ab887b65788"
      },
      "execution_count": 166,
      "outputs": [
        {
          "output_type": "stream",
          "name": "stdout",
          "text": [
            "기온은 어때요? 1\n",
            "외투를 챙기세요\n"
          ]
        }
      ]
    },
    {
      "cell_type": "code",
      "source": [
        "# print(\"대기번호 : 1\")\n",
        "# print(\"대기번호 : 2\")\n",
        "# print(\"대기번호 : 3\")\n",
        "# print(\"대기번호 : 4\")\n",
        "\n",
        "# 대기번호가 엄청 많을때는 어떻게 해야할까\n",
        "\n",
        "for wating in range(1,5): #1,2,3,4 까지\n",
        "  print(f\"대기번호 : {wating}\")"
      ],
      "metadata": {
        "id": "KfIr6LByPnx_",
        "colab": {
          "base_uri": "https://localhost:8080/"
        },
        "outputId": "15c672ca-d991-4722-cb8c-5e5fe1c29040"
      },
      "execution_count": 167,
      "outputs": [
        {
          "output_type": "stream",
          "name": "stdout",
          "text": [
            "대기번호 : 1\n",
            "대기번호 : 2\n",
            "대기번호 : 3\n",
            "대기번호 : 4\n"
          ]
        }
      ]
    },
    {
      "cell_type": "code",
      "source": [
        "# 스타벅스에 손님들이 왔음\n",
        "starbucks = [\"아이언맨\",\"토르\",\"아이엠 그루트\"]\n",
        "for customer in starbucks:\n",
        "  print(f\"{customer}, 커피가 준비되었습니다\")"
      ],
      "metadata": {
        "id": "WAqsonQzPn0-",
        "colab": {
          "base_uri": "https://localhost:8080/"
        },
        "outputId": "af07b49a-9f2c-4d19-f500-f0fcc34fd43c"
      },
      "execution_count": 168,
      "outputs": [
        {
          "output_type": "stream",
          "name": "stdout",
          "text": [
            "아이언맨, 커피가 준비되었습니다\n",
            "토르, 커피가 준비되었습니다\n",
            "아이엠 그루트, 커피가 준비되었습니다\n"
          ]
        }
      ]
    },
    {
      "cell_type": "code",
      "source": [
        "# while\n",
        "# 어떤 조건이 만족할 '때까지' 반복을 하는것\n",
        "\n",
        "customer = \"토르\"\n",
        "index = 5\n",
        "while index >= 1:\n",
        "  print(f\"{customer}, 커피가 준비 되었습니다. {index}번 남았어요\")\n",
        "  index -=1\n",
        "  if index == 0:\n",
        "    print(\"커피는 폐기처분되었습니다\")"
      ],
      "metadata": {
        "id": "d6lRBPiaPn3M",
        "colab": {
          "base_uri": "https://localhost:8080/"
        },
        "outputId": "b45d5d57-f5a0-4ac3-c8c9-767b771e5eb3"
      },
      "execution_count": 169,
      "outputs": [
        {
          "output_type": "stream",
          "name": "stdout",
          "text": [
            "토르, 커피가 준비 되었습니다. 5번 남았어요\n",
            "토르, 커피가 준비 되었습니다. 4번 남았어요\n",
            "토르, 커피가 준비 되었습니다. 3번 남았어요\n",
            "토르, 커피가 준비 되었습니다. 2번 남았어요\n",
            "토르, 커피가 준비 되었습니다. 1번 남았어요\n",
            "커피는 폐기처분되었습니다\n"
          ]
        }
      ]
    },
    {
      "cell_type": "code",
      "source": [
        "## 주석풀면 무한루프\n",
        "\n",
        "# customer = \"토르\"\n",
        "# index = 1\n",
        "# while True:\n",
        "#   print(f\"{customer}, 커피가 준비 되었습니다. 호출 {index}회\")\n",
        "#   index += 1"
      ],
      "metadata": {
        "id": "ZVyBb10dPn5k"
      },
      "execution_count": 170,
      "outputs": []
    },
    {
      "cell_type": "code",
      "source": [
        "customer = \"토르\"\n",
        "person = \"unknown\"\n",
        "\n",
        "while person != customer: # 조건 만족할때까지 계속 반복\n",
        "  print(f\"{customer}, 커피가 준비 되었습니다.\")\n",
        "  person = input(\"성함이 어떻게 되세요?\")\n",
        "  if customer != person: #while 안의 반복\n",
        "    print(\"고객님 커피는 아직 준비가 안되었어요\")\n",
        "  else:\n",
        "    print(\"커피 여기드릴게요\")"
      ],
      "metadata": {
        "id": "aUjpR70iPn8h",
        "colab": {
          "base_uri": "https://localhost:8080/"
        },
        "outputId": "6a087a66-e14d-45cb-faf9-997dcf82eb71"
      },
      "execution_count": 171,
      "outputs": [
        {
          "output_type": "stream",
          "name": "stdout",
          "text": [
            "토르, 커피가 준비 되었습니다.\n",
            "성함이 어떻게 되세요?토르\n",
            "커피 여기드릴게요\n"
          ]
        }
      ]
    },
    {
      "cell_type": "code",
      "source": [
        "# continue, break\n",
        "\n",
        "# 결석 할색은 빼고싶을때\n",
        "absent = [2,5] #결석\n",
        "no_book = [7] #책을 깜빡했음\n",
        "for student in range(1,11): #1,2,3,4,5,6,7,8,9,10\n",
        "  if student in absent:\n",
        "    continue\n",
        "  elif student in no_book:\n",
        "    print(f\"오늘 수업은 여기까지. {student}는 교무실로 따라와\")\n",
        "    break\n",
        "  print(f\"{student}, 책을 읽어줄래?\")\n",
        "\n"
      ],
      "metadata": {
        "id": "EcACmUz6Pn_U",
        "colab": {
          "base_uri": "https://localhost:8080/"
        },
        "outputId": "88244549-f9d2-4fac-8c6b-0b83f7726e09"
      },
      "execution_count": 172,
      "outputs": [
        {
          "output_type": "stream",
          "name": "stdout",
          "text": [
            "1, 책을 읽어줄래?\n",
            "3, 책을 읽어줄래?\n",
            "4, 책을 읽어줄래?\n",
            "6, 책을 읽어줄래?\n",
            "오늘 수업은 여기까지. 7는 교무실로 따라와\n"
          ]
        }
      ]
    },
    {
      "cell_type": "code",
      "source": [
        "# 한줄 for문 활용\n",
        "# 출석번호가 1,2,3,4 였는데 앞에 100을 붙이기로함 >> 101,102,103,104\n",
        "\n",
        "students = [1,2,3,4,5]\n",
        "print(students)\n",
        "\n",
        "students = [i+100 for i in students]\n",
        "print(students)"
      ],
      "metadata": {
        "id": "K8nPEmvqPoDK",
        "colab": {
          "base_uri": "https://localhost:8080/"
        },
        "outputId": "220c6ba4-1002-4062-ef65-f4ee02b72298"
      },
      "execution_count": 173,
      "outputs": [
        {
          "output_type": "stream",
          "name": "stdout",
          "text": [
            "[1, 2, 3, 4, 5]\n",
            "[101, 102, 103, 104, 105]\n"
          ]
        }
      ]
    },
    {
      "cell_type": "code",
      "source": [
        "# 학생 이름을 길이로 변환\n",
        "\n",
        "students = [\"iron man\",\"thor\",\"i am groot\"]\n",
        "students = [len(i) for i in students]\n",
        "print(students)"
      ],
      "metadata": {
        "id": "vOco9TR0PoGM",
        "colab": {
          "base_uri": "https://localhost:8080/"
        },
        "outputId": "f8b0c5d7-5737-4dfa-8320-a3a334d6c948"
      },
      "execution_count": 174,
      "outputs": [
        {
          "output_type": "stream",
          "name": "stdout",
          "text": [
            "[8, 4, 10]\n"
          ]
        }
      ]
    },
    {
      "cell_type": "code",
      "source": [
        "# 학생 이름을 대문자로 변환\n",
        "\n",
        "\n",
        "students = [\"iron man\",\"thor\",\"i am groot\"]\n",
        "students = [i.upper() for i in students]\n",
        "print(students)"
      ],
      "metadata": {
        "id": "uKhcwmP1PoIt",
        "colab": {
          "base_uri": "https://localhost:8080/"
        },
        "outputId": "ca4f7ce9-7ff8-4a0b-9fd4-680a124ac0cf"
      },
      "execution_count": 175,
      "outputs": [
        {
          "output_type": "stream",
          "name": "stdout",
          "text": [
            "['IRON MAN', 'THOR', 'I AM GROOT']\n"
          ]
        }
      ]
    },
    {
      "cell_type": "markdown",
      "source": [
        "quiz) 당신은 cocoa 서비스를 이용하는 택시 기사님입니다\n",
        "\n",
        "50명의 승객과 매칭 기회가 있을 때, 총 탑승 승객 수를 구하는 프로그램을 작성하시오.\n",
        "\n",
        "조건1: 승객별 운행 소요 시간은 5분~50분 사이의 난수로 정해집니다\n",
        "\n",
        "조건2: 당신은 소요 시간 5분~15분 사이의 승객만 매칭해야 합니다\n",
        "\n",
        "(출력문 예제)\n",
        "[0] 1번째 손님 (소요시간 : 15분)\n",
        "\n",
        "[x] 2번째 손님 (소요시간 : 50분)\n",
        "\n",
        "[0] 3f번째 손님 (소요시간 : 5분)\n",
        "\n",
        "...\n",
        "\n",
        "[x] 50번째 손님 (소요시간 : 16분)\n",
        "\n",
        "총 탑승 승객 : 2분\n"
      ],
      "metadata": {
        "id": "6slYQxbXPoNt"
      }
    },
    {
      "cell_type": "code",
      "source": [
        "from random import *\n",
        "\n",
        "customers = list(range(1,51))\n",
        "\n",
        "take_customers = 0\n",
        "\n",
        "for i in customers:\n",
        "  time = randrange(5,51)\n",
        "  if time >= 5 and time <= 15:\n",
        "    print(f\"[O] {i}번째 손님 (소요시간 : {time}분)\")\n",
        "    take_customers += 1\n",
        "  else:\n",
        "    print(f\"[] {i}번째 손님 (소요시간 : {time}분)\")\n",
        "print(\"\\n\",f\"총 탑승 승객 : {take_customers} 명\")\n"
      ],
      "metadata": {
        "id": "IYWLZHQXPoQc",
        "colab": {
          "base_uri": "https://localhost:8080/"
        },
        "outputId": "e3a9e680-07f8-4602-d95d-07ccaef9625e"
      },
      "execution_count": 176,
      "outputs": [
        {
          "output_type": "stream",
          "name": "stdout",
          "text": [
            "[] 1번째 손님 (소요시간 : 24분)\n",
            "[] 2번째 손님 (소요시간 : 40분)\n",
            "[] 3번째 손님 (소요시간 : 32분)\n",
            "[] 4번째 손님 (소요시간 : 25분)\n",
            "[] 5번째 손님 (소요시간 : 50분)\n",
            "[O] 6번째 손님 (소요시간 : 12분)\n",
            "[] 7번째 손님 (소요시간 : 33분)\n",
            "[] 8번째 손님 (소요시간 : 25분)\n",
            "[] 9번째 손님 (소요시간 : 49분)\n",
            "[] 10번째 손님 (소요시간 : 41분)\n",
            "[] 11번째 손님 (소요시간 : 18분)\n",
            "[] 12번째 손님 (소요시간 : 16분)\n",
            "[] 13번째 손님 (소요시간 : 31분)\n",
            "[] 14번째 손님 (소요시간 : 30분)\n",
            "[] 15번째 손님 (소요시간 : 50분)\n",
            "[] 16번째 손님 (소요시간 : 36분)\n",
            "[] 17번째 손님 (소요시간 : 36분)\n",
            "[] 18번째 손님 (소요시간 : 37분)\n",
            "[O] 19번째 손님 (소요시간 : 13분)\n",
            "[] 20번째 손님 (소요시간 : 24분)\n",
            "[O] 21번째 손님 (소요시간 : 13분)\n",
            "[] 22번째 손님 (소요시간 : 40분)\n",
            "[] 23번째 손님 (소요시간 : 39분)\n",
            "[O] 24번째 손님 (소요시간 : 8분)\n",
            "[] 25번째 손님 (소요시간 : 26분)\n",
            "[] 26번째 손님 (소요시간 : 17분)\n",
            "[O] 27번째 손님 (소요시간 : 15분)\n",
            "[O] 28번째 손님 (소요시간 : 15분)\n",
            "[] 29번째 손님 (소요시간 : 39분)\n",
            "[] 30번째 손님 (소요시간 : 30분)\n",
            "[] 31번째 손님 (소요시간 : 49분)\n",
            "[] 32번째 손님 (소요시간 : 16분)\n",
            "[] 33번째 손님 (소요시간 : 47분)\n",
            "[] 34번째 손님 (소요시간 : 48분)\n",
            "[] 35번째 손님 (소요시간 : 50분)\n",
            "[] 36번째 손님 (소요시간 : 37분)\n",
            "[O] 37번째 손님 (소요시간 : 11분)\n",
            "[] 38번째 손님 (소요시간 : 35분)\n",
            "[] 39번째 손님 (소요시간 : 26분)\n",
            "[] 40번째 손님 (소요시간 : 28분)\n",
            "[] 41번째 손님 (소요시간 : 48분)\n",
            "[O] 42번째 손님 (소요시간 : 13분)\n",
            "[] 43번째 손님 (소요시간 : 30분)\n",
            "[] 44번째 손님 (소요시간 : 32분)\n",
            "[] 45번째 손님 (소요시간 : 23분)\n",
            "[] 46번째 손님 (소요시간 : 23분)\n",
            "[O] 47번째 손님 (소요시간 : 6분)\n",
            "[O] 48번째 손님 (소요시간 : 12분)\n",
            "[] 49번째 손님 (소요시간 : 37분)\n",
            "[] 50번째 손님 (소요시간 : 27분)\n",
            "\n",
            " 총 탑승 승객 : 10 명\n"
          ]
        }
      ]
    },
    {
      "cell_type": "code",
      "source": [
        "from random import *\n",
        "cnt = 0 # 총 탑승 승객 수\n",
        "for i in range(1,51):\n",
        "  time = randrange(5,51)\n",
        "  if 5 <= time and time <= 15:\n",
        "    print(f\"[0] {i}번째 손님 (소요시간 {time}분)\") # 매칭 성공\n",
        "    cnt += 1\n",
        "  else:\n",
        "    print(f\"[] {i}번째 손님 (소요시간 {time}분)\") # 매칭 실패\n",
        "print(f\"총 탑승 승객 : {cnt}명\")"
      ],
      "metadata": {
        "id": "TRIwDXk3PoTC",
        "colab": {
          "base_uri": "https://localhost:8080/"
        },
        "outputId": "a30bae09-74a0-4844-f31a-286bca35e910"
      },
      "execution_count": 177,
      "outputs": [
        {
          "output_type": "stream",
          "name": "stdout",
          "text": [
            "[] 1번째 손님 (소요시간 28분)\n",
            "[] 2번째 손님 (소요시간 47분)\n",
            "[] 3번째 손님 (소요시간 26분)\n",
            "[] 4번째 손님 (소요시간 47분)\n",
            "[] 5번째 손님 (소요시간 29분)\n",
            "[0] 6번째 손님 (소요시간 6분)\n",
            "[] 7번째 손님 (소요시간 20분)\n",
            "[] 8번째 손님 (소요시간 22분)\n",
            "[] 9번째 손님 (소요시간 27분)\n",
            "[] 10번째 손님 (소요시간 39분)\n",
            "[0] 11번째 손님 (소요시간 15분)\n",
            "[0] 12번째 손님 (소요시간 11분)\n",
            "[0] 13번째 손님 (소요시간 12분)\n",
            "[0] 14번째 손님 (소요시간 7분)\n",
            "[] 15번째 손님 (소요시간 25분)\n",
            "[] 16번째 손님 (소요시간 33분)\n",
            "[] 17번째 손님 (소요시간 40분)\n",
            "[] 18번째 손님 (소요시간 21분)\n",
            "[] 19번째 손님 (소요시간 46분)\n",
            "[0] 20번째 손님 (소요시간 15분)\n",
            "[] 21번째 손님 (소요시간 38분)\n",
            "[] 22번째 손님 (소요시간 24분)\n",
            "[] 23번째 손님 (소요시간 34분)\n",
            "[] 24번째 손님 (소요시간 50분)\n",
            "[] 25번째 손님 (소요시간 18분)\n",
            "[0] 26번째 손님 (소요시간 12분)\n",
            "[] 27번째 손님 (소요시간 43분)\n",
            "[] 28번째 손님 (소요시간 49분)\n",
            "[] 29번째 손님 (소요시간 29분)\n",
            "[] 30번째 손님 (소요시간 48분)\n",
            "[] 31번째 손님 (소요시간 16분)\n",
            "[] 32번째 손님 (소요시간 41분)\n",
            "[0] 33번째 손님 (소요시간 13분)\n",
            "[] 34번째 손님 (소요시간 46분)\n",
            "[] 35번째 손님 (소요시간 28분)\n",
            "[0] 36번째 손님 (소요시간 5분)\n",
            "[] 37번째 손님 (소요시간 43분)\n",
            "[] 38번째 손님 (소요시간 35분)\n",
            "[] 39번째 손님 (소요시간 32분)\n",
            "[] 40번째 손님 (소요시간 48분)\n",
            "[0] 41번째 손님 (소요시간 9분)\n",
            "[] 42번째 손님 (소요시간 16분)\n",
            "[] 43번째 손님 (소요시간 38분)\n",
            "[0] 44번째 손님 (소요시간 8분)\n",
            "[] 45번째 손님 (소요시간 28분)\n",
            "[0] 46번째 손님 (소요시간 12분)\n",
            "[] 47번째 손님 (소요시간 24분)\n",
            "[0] 48번째 손님 (소요시간 10분)\n",
            "[0] 49번째 손님 (소요시간 14분)\n",
            "[] 50번째 손님 (소요시간 35분)\n",
            "총 탑승 승객 : 14명\n"
          ]
        }
      ]
    },
    {
      "cell_type": "markdown",
      "source": [
        "# 함수"
      ],
      "metadata": {
        "id": "zDvxwcH6tmbP"
      }
    },
    {
      "cell_type": "code",
      "source": [
        "def open_account():\n",
        "  print(\"새로운 계좌가 생성되었습니다.\")\n",
        "\n",
        "open_account()"
      ],
      "metadata": {
        "id": "9cLpFe0KtmmV",
        "colab": {
          "base_uri": "https://localhost:8080/"
        },
        "outputId": "34d4da89-3d8b-4523-caba-0d3426cc9c5c"
      },
      "execution_count": 178,
      "outputs": [
        {
          "output_type": "stream",
          "name": "stdout",
          "text": [
            "새로운 계좌가 생성되었습니다.\n"
          ]
        }
      ]
    },
    {
      "cell_type": "code",
      "source": [
        "# 값을 받는 함수\n",
        "\n",
        "def deposit(balance,money): # 입금 함수 잔액과 현재 입금한 금액을 전달 받음\n",
        "  print(f\"입금이 완료되었습니다. 잔액은{balance + money} 원입니다.\")\n",
        "  return balance + money\n",
        "\n",
        "def withdraw(balance,money): # 출금 함수\n",
        "  if balance >= money:\n",
        "    print(f\"출금이 완료되었습니다. 잔액은{balance - money} 원입니다.\")\n",
        "    return balance - money\n",
        "  else:\n",
        "    print(f\"출금이 완료되지 않았습니다. 잔액은 {balance} 원입니다\")\n",
        "    return balance\n",
        "def withdraw_night(balance,money): #저녁에 출금  추가요금\n",
        "  commission = 100\n",
        "  return commission,balance-money-commission # 여라개의 값을 반환\n",
        "balance = 0 #잔\n",
        "balance = deposit(balance,1000)\n",
        "balance = withdraw(balance,100)\n",
        "commission,balance = withdraw_night(balance,500)\n",
        "print(f\"수수료는 {commission} 원이며, 잔액은 {balance}입니다\")"
      ],
      "metadata": {
        "id": "hkdEOAggtmri",
        "colab": {
          "base_uri": "https://localhost:8080/"
        },
        "outputId": "848bc717-36bd-465d-9d10-498f9d54bd8c"
      },
      "execution_count": 179,
      "outputs": [
        {
          "output_type": "stream",
          "name": "stdout",
          "text": [
            "입금이 완료되었습니다. 잔액은1000 원입니다.\n",
            "출금이 완료되었습니다. 잔액은900 원입니다.\n",
            "수수료는 100 원이며, 잔액은 300입니다\n"
          ]
        }
      ]
    },
    {
      "cell_type": "code",
      "source": [
        "# 함수에서 기본값을 설정하는 방법\n",
        "\n",
        "def profile(name,age,main_lang):\n",
        "  print(f\"이름 : {name} ,나이 : {age}, 주 사용 언어 : {main_lang}\")\n",
        "\n",
        "profile(\"유재석\",20,\"파이썬\")\n",
        "profile(\"김태호\",25,\"자바\")\n"
      ],
      "metadata": {
        "id": "maRucZUYtmuA",
        "colab": {
          "base_uri": "https://localhost:8080/"
        },
        "outputId": "46797c5f-8dc3-4ed8-b13e-0d6c63992830"
      },
      "execution_count": 180,
      "outputs": [
        {
          "output_type": "stream",
          "name": "stdout",
          "text": [
            "이름 : 유재석 ,나이 : 20, 주 사용 언어 : 파이썬\n",
            "이름 : 김태호 ,나이 : 25, 주 사용 언어 : 자바\n"
          ]
        }
      ]
    },
    {
      "cell_type": "code",
      "source": [
        "# 같은 학교 같은 학년 같은 반 같은 수업\n",
        "# 겹치는 경우가 많으면 중복되는 부분을 기본값으로 설정할 수 있다\n",
        "\n",
        "def profile(name,age = 17,main_lang = \"파이썬\"):\n",
        "  print(f\"이름 : {name} ,나이 : {age}, 주 사용 언어 : {main_lang}\")\n",
        "\n",
        "profile(\"유재석\")\n",
        "profile(\"김태호\")\n"
      ],
      "metadata": {
        "id": "H9nT3g9ttmwD",
        "colab": {
          "base_uri": "https://localhost:8080/"
        },
        "outputId": "63d8b102-34f9-4493-c1ad-f5476a93ffe2"
      },
      "execution_count": 181,
      "outputs": [
        {
          "output_type": "stream",
          "name": "stdout",
          "text": [
            "이름 : 유재석 ,나이 : 17, 주 사용 언어 : 파이썬\n",
            "이름 : 김태호 ,나이 : 17, 주 사용 언어 : 파이썬\n"
          ]
        }
      ]
    },
    {
      "cell_type": "code",
      "source": [
        "# 키워드 값을 이용한 함수 호출\n",
        "\n",
        "def profile(name,age,main_lang):\n",
        "    print(name,age,main_lang)\n",
        "\n",
        "# 값을 지정해주면 인자 순서와 상관없이 사용가\n",
        "profile(name = \"유재석\",main_lang = \"파이썬\", age = 20)\n",
        "profile(main_lang = \"자바\",age = 20, name = \"김태호\")"
      ],
      "metadata": {
        "id": "bAUh6jiAtmye",
        "colab": {
          "base_uri": "https://localhost:8080/"
        },
        "outputId": "44df9b0b-6ab0-4ec2-b332-b63a305bd422"
      },
      "execution_count": 182,
      "outputs": [
        {
          "output_type": "stream",
          "name": "stdout",
          "text": [
            "유재석 20 파이썬\n",
            "김태호 20 자바\n"
          ]
        }
      ]
    },
    {
      "cell_type": "code",
      "source": [
        "# 가변 인자를 이용한 함수 호출\n",
        "\n",
        "def profile(name,age,lang1,lang2,lang3,lang4,lang5):\n",
        "  print(f\"이름 {name} 나이 {age}\",end = \" \") # end를 지정하면 한번에 이어서 호출됨\n",
        "  print(lang1,lang2,lang3,lang4,lang5)\n",
        "\n",
        "profile(\"유재석\",20,\"파이썬\",\"자바\",\"씨\",\"씨플\",\"씨샵\")\n",
        "profile(\"김태호\",20,\"코틀린\",\"스위프트\",\"\",\"\",\"\") # 매번 빈값을 넣어줘야 할까?\n",
        "\n",
        "# 만약 유재석이 언어를 하나더 마스터해서 인자를 늘려야 한다면?\n",
        "\n",
        "# 가변인자를 사용해야한다"
      ],
      "metadata": {
        "id": "Zq9mVn_2tm1L",
        "colab": {
          "base_uri": "https://localhost:8080/"
        },
        "outputId": "a86f8b25-f402-4b9e-f3c9-ea926a90b384"
      },
      "execution_count": 183,
      "outputs": [
        {
          "output_type": "stream",
          "name": "stdout",
          "text": [
            "이름 유재석 나이 20 파이썬 자바 씨 씨플 씨샵\n",
            "이름 김태호 나이 20 코틀린 스위프트   \n"
          ]
        }
      ]
    },
    {
      "cell_type": "code",
      "source": [
        "# 가변인자 사용하기\n",
        "\n",
        "def profile(name,age,*language):\n",
        "  print(f\"이름 {name} 나이 {age}\",end = \" \") # end를 지정하면 한번에 이어서 호출됨\n",
        "  for lang in language: # lang이라는 변수 만들어서 한번씩 출력\n",
        "    print(lang, end = \" \")\n",
        "  print()\n",
        "\n",
        "\n",
        "profile(\"유재석\",20,\"파이썬\",\"자바\",\"씨\",\"씨플\",\"씨샵\",\"자바 스크립트\")\n",
        "profile(\"김태호\",20,\"코틀린\",\"스위프트\")\n"
      ],
      "metadata": {
        "id": "u53Jz7Rgtm32",
        "colab": {
          "base_uri": "https://localhost:8080/"
        },
        "outputId": "5b6d0e3d-a59f-4a78-eacc-550fd62fb142"
      },
      "execution_count": 184,
      "outputs": [
        {
          "output_type": "stream",
          "name": "stdout",
          "text": [
            "이름 유재석 나이 20 파이썬 자바 씨 씨플 씨샵 자바 스크립트 \n",
            "이름 김태호 나이 20 코틀린 스위프트 \n"
          ]
        }
      ]
    },
    {
      "cell_type": "code",
      "source": [
        "# 지역변수와 전역변수\n",
        "# 지역변수 >> 함수 호출시에만 생성되고 사라지는것\n",
        "# 전역변수 >> 어디서나 호출 가능한 함수\n",
        "\n",
        "# 군대\n",
        "\n",
        "gun = 10 #전역변수\n",
        "\n",
        "def checkpoint(soldiers): # 경계근무\n",
        "  gun = 20 #지역변수\n",
        "  gun = gun - soldiers\n",
        "  print(f\"남은총 : {gun}\")\n",
        "\n",
        "print(f\"전체총 : {gun}\")\n",
        "\n",
        "#지역변수와 전역변수에 의해 차이가 발생할 것\n",
        "checkpoint(2)\n",
        "print(f\"남은총 : {gun}\")"
      ],
      "metadata": {
        "id": "_61eTpyUtm7D",
        "colab": {
          "base_uri": "https://localhost:8080/"
        },
        "outputId": "f4e4871e-1231-41fc-bcee-d4fe8081daeb"
      },
      "execution_count": 185,
      "outputs": [
        {
          "output_type": "stream",
          "name": "stdout",
          "text": [
            "전체총 : 10\n",
            "남은총 : 18\n",
            "남은총 : 10\n"
          ]
        }
      ]
    },
    {
      "cell_type": "code",
      "source": [
        "gun = 10\n",
        "\n",
        "def checkpoint(soldiers): # 경계근무\n",
        "  global gun # 전역 공간에 있는 gun 사용\n",
        "  gun = gun - soldiers\n",
        "  print(f\"남은총 : {gun}\")\n",
        "\n",
        "print(f\"전체총 : {gun}\")\n",
        "\n",
        "# 차이가 사라짐\n",
        "checkpoint(2)\n",
        "print(f\"남은총 : {gun}\")"
      ],
      "metadata": {
        "id": "2fLcTpMqtm9v",
        "colab": {
          "base_uri": "https://localhost:8080/"
        },
        "outputId": "83e73b0d-24ba-4fb6-de31-d5eaaa5de8b5"
      },
      "execution_count": 186,
      "outputs": [
        {
          "output_type": "stream",
          "name": "stdout",
          "text": [
            "전체총 : 10\n",
            "남은총 : 8\n",
            "남은총 : 8\n"
          ]
        }
      ]
    },
    {
      "cell_type": "code",
      "source": [
        "# 전역변수를 너무 자주 사용하면 오류가 발생 하기에\n",
        "# 원래 전역변수에 지역변수를 사용해 값을 리턴하는 것을 주로 사용한\n",
        "\n",
        "def checkpoint_ret(gun,soldiers):\n",
        "  gun = gun - soldiers\n",
        "  print(f\"남은총 : {gun}\")\n",
        "  return gun\n",
        "\n",
        "checkpoint_ret(10,2)"
      ],
      "metadata": {
        "id": "6uFglm-NtnCc",
        "colab": {
          "base_uri": "https://localhost:8080/"
        },
        "outputId": "22880509-0872-4139-9a41-296079637236"
      },
      "execution_count": 187,
      "outputs": [
        {
          "output_type": "stream",
          "name": "stdout",
          "text": [
            "남은총 : 8\n"
          ]
        },
        {
          "output_type": "execute_result",
          "data": {
            "text/plain": [
              "8"
            ]
          },
          "metadata": {},
          "execution_count": 187
        }
      ]
    },
    {
      "cell_type": "markdown",
      "source": [
        "quiz) 표준 체중을 구하는 프로그램을 작성하시오\n",
        "\n",
        "* 표준 체중 : 각 개인의 키에 적당한 체중\n",
        "\n",
        "(성별에 따른 공식)\n",
        "\n",
        "남자 : 키(m) * 키(m) * 22\n",
        "\n",
        "여자 : 키(m) * 키(m) * 21\n",
        "\n",
        "조건 1 : 표준 체중은 별도의 함수 내에서 계산\n",
        "\n",
        "  함수명 : std_weigh\n",
        "\n",
        "  전달값 : 키 height 성별 gender\n",
        "\n",
        "조건 2 : 표준 체중은 소수점 둘째자리까지 표시\n",
        "\n",
        "(출력 예제)\n",
        "\n",
        "키175cm 남자의 표준 체중은 67.38kg 입니다."
      ],
      "metadata": {
        "id": "m-qBgQH0tnEb"
      }
    },
    {
      "cell_type": "code",
      "source": [
        "def std_weight(gender,height):\n",
        "  if gender == \"남자\":\n",
        "    std_weight = height/100*height/100*22\n",
        "    print(f\"키 {height}cm 남자의 표준 체중은 {round(std_weight,2)}입니다.\") # round 함수 반올림\n",
        "  elif gender == \"여자\":\n",
        "    std_weight = height/100*height/100*21\n",
        "    print(f\"키 {height}cm 남자의 표준 체중은 {round(std_weight,2)}입니다.\")\n",
        "  else:\n",
        "    print(\"성별을 남자,여자로만 입력해주세요\")\n",
        "\n",
        "std_weight(\"남자\",175)\n",
        "std_weight(\"여자\",165)\n",
        "std_weight(\"여\",165)"
      ],
      "metadata": {
        "id": "Mt93RPswtnIi",
        "colab": {
          "base_uri": "https://localhost:8080/"
        },
        "outputId": "e4e5f59b-156b-4213-8df9-8edc8c23d8a1"
      },
      "execution_count": 188,
      "outputs": [
        {
          "output_type": "stream",
          "name": "stdout",
          "text": [
            "키 175cm 남자의 표준 체중은 67.38입니다.\n",
            "키 165cm 남자의 표준 체중은 57.17입니다.\n",
            "성별을 남자,여자로만 입력해주세요\n"
          ]
        }
      ]
    },
    {
      "cell_type": "code",
      "source": [
        "# 답\n",
        "\n",
        "def std_weight(height,gender): # 키 m 단위 (실수), 성별 \"남자\"/\"여자\"\n",
        "  if gender == \"남자\":\n",
        "    return height*height*22\n",
        "  else:\n",
        "    return height*height*21\n",
        "\n",
        "height = 175\n",
        "gender = \"남자\"\n",
        "weight = round(std_weight(height / 100,gender),2)\n",
        "print(f\"키 {height}cm {gender}의 표준 체중은{weight}kg 입니다.\")"
      ],
      "metadata": {
        "id": "YLPCkQLhtnKc",
        "colab": {
          "base_uri": "https://localhost:8080/"
        },
        "outputId": "2b5e598e-4f6a-49c4-8d61-902e5a0dd140"
      },
      "execution_count": 189,
      "outputs": [
        {
          "output_type": "stream",
          "name": "stdout",
          "text": [
            "키 175cm 남자의 표준 체중은67.38kg 입니다.\n"
          ]
        }
      ]
    },
    {
      "cell_type": "markdown",
      "source": [
        "# 표준 입출력"
      ],
      "metadata": {
        "id": "OL8MU16jtnMk"
      }
    },
    {
      "cell_type": "code",
      "source": [
        "# sep >> 통해 공백에 문자를 집어 넣을수가 있다\n",
        "# end >> 문장의 끝 부분을 지정할 수 있다 디폴트는 줄바 꿈이었음\n",
        "print(\"python\",\"java\",\"java script\",sep=\" vs \",end=\"?\")\n",
        "print(\"무엇이 더 재밌을까요?\")"
      ],
      "metadata": {
        "id": "xsSB5c-5tnPV",
        "colab": {
          "base_uri": "https://localhost:8080/"
        },
        "outputId": "ae8fc630-c10c-4356-8191-5ab9c85558eb"
      },
      "execution_count": 190,
      "outputs": [
        {
          "output_type": "stream",
          "name": "stdout",
          "text": [
            "python vs java vs java script?무엇이 더 재밌을까요?\n"
          ]
        }
      ]
    },
    {
      "cell_type": "code",
      "source": [
        "import sys\n",
        "print(\"python\",\"java\",file=sys.stdout) # 표준 출력으로 문장이 처리됨\n",
        "print(\"python\",\"java\",file=sys.stderr) # 표준 에러로 처리되는 부분"
      ],
      "metadata": {
        "id": "68_U8A2Idm5P",
        "colab": {
          "base_uri": "https://localhost:8080/"
        },
        "outputId": "212a373f-75a3-4416-bec8-48e2ff06ed74"
      },
      "execution_count": 191,
      "outputs": [
        {
          "output_type": "stream",
          "name": "stdout",
          "text": [
            "python java\n"
          ]
        },
        {
          "output_type": "stream",
          "name": "stderr",
          "text": [
            "python java\n"
          ]
        }
      ]
    },
    {
      "cell_type": "code",
      "source": [
        "# 시험 성적\n",
        "scores = {\"수학\":0, \"영어\":50, \"코딩\":100}\n",
        "for subject,score in scores.items():\n",
        "  print(subject.ljust(8) ,str(score).rjust(4),sep = \":\") #lefr right 공백만큼을 인자로 넣어서 정렬"
      ],
      "metadata": {
        "id": "Uyu2JAiFdnCY",
        "colab": {
          "base_uri": "https://localhost:8080/"
        },
        "outputId": "7e41edfe-fec9-435c-e5d7-c2ab05a63725"
      },
      "execution_count": 192,
      "outputs": [
        {
          "output_type": "stream",
          "name": "stdout",
          "text": [
            "수학      :   0\n",
            "영어      :  50\n",
            "코딩      : 100\n"
          ]
        }
      ]
    },
    {
      "cell_type": "code",
      "source": [
        "# 은행 대기순번표\n",
        "# 001 002 003 ......\n",
        "\n",
        "for num in range(1,21):\n",
        "  print(\"대기번호 : \" + str(num).zfill(3)) # 영 3개의 공간만큼으로 채우자"
      ],
      "metadata": {
        "id": "ziFu9JXTdnLQ",
        "colab": {
          "base_uri": "https://localhost:8080/"
        },
        "outputId": "60f96fc0-c597-45c5-d1f5-4a228cf7f600"
      },
      "execution_count": 193,
      "outputs": [
        {
          "output_type": "stream",
          "name": "stdout",
          "text": [
            "대기번호 : 001\n",
            "대기번호 : 002\n",
            "대기번호 : 003\n",
            "대기번호 : 004\n",
            "대기번호 : 005\n",
            "대기번호 : 006\n",
            "대기번호 : 007\n",
            "대기번호 : 008\n",
            "대기번호 : 009\n",
            "대기번호 : 010\n",
            "대기번호 : 011\n",
            "대기번호 : 012\n",
            "대기번호 : 013\n",
            "대기번호 : 014\n",
            "대기번호 : 015\n",
            "대기번호 : 016\n",
            "대기번호 : 017\n",
            "대기번호 : 018\n",
            "대기번호 : 019\n",
            "대기번호 : 020\n"
          ]
        }
      ]
    },
    {
      "cell_type": "code",
      "source": [
        "# 표준 입력\n",
        "\n",
        "answer = input(\"아무 값이나 입력하세요 : \")\n",
        "print(type(answer))\n",
        "print(\"입력하신 값은 \" +answer+\"입니다.\") # 값을 받게 되면 항상 문자열의 형태로 값이 저장된다는것"
      ],
      "metadata": {
        "id": "urWx_u4HdnUy",
        "colab": {
          "base_uri": "https://localhost:8080/"
        },
        "outputId": "b65602b4-1782-4027-bfe1-92f560fb4d3d"
      },
      "execution_count": 194,
      "outputs": [
        {
          "output_type": "stream",
          "name": "stdout",
          "text": [
            "아무 값이나 입력하세요 : 3\n",
            "<class 'str'>\n",
            "입력하신 값은 3입니다.\n"
          ]
        }
      ]
    },
    {
      "cell_type": "code",
      "source": [
        "# 다양한 출력 포맷\n",
        "\n",
        "# 빈 자리는 빈공간으로 두고, 오른쪽 정렬을 하되, 총 10자리 공간을 확보\n",
        "num = 500\n",
        "print(f\"{num:>10}\")\n",
        "\n",
        "# 양수일 땐 +로 표시, 음수일 땐 -로 표시\n",
        "print(f\"{num: >+10}\")\n",
        "num = -500\n",
        "print(f\"{num: >+10}\") # 음수일때는 원래 -였으므로 티는 안나지만, +는 표시가 된다는걸 알 수 있음\n",
        "\n",
        "# 왼쪽 정렬하고, 빈칸에 _로 채움\n",
        "num = 500\n",
        "print(f\"{num:_<+10}\") # 10칸을 확보하고 나머지를 ______로 채움\n",
        "\n",
        "# 3자리 마다 콤마를 찍어주기\n",
        "num = 10000000000000000\n",
        "print(f\"{num:,}\")\n",
        "\n",
        "# 3자리 마다 콤마를 찍어주기,+- 부호도 붙이기\n",
        "print(f\"{num:+,}\")\n",
        "\n",
        "# 3자리 마다 콤마를 찍어주기, 부호도 붙이고, 자릿수 확보하기\n",
        "# 돈이 많으면 행복하니까 빈 자리는 ^로 채워주기\n",
        "\n",
        "print(f\"{num:^<+30,}\")\n",
        "\n",
        "# 소수점 출력\n",
        "num = 5/3\n",
        "print(f\"{num}\")\n",
        "\n",
        "# 소수점 특정 자리수 까지만 표시 (소수점 3째 자리에서 반올림)\n",
        "print(f\"{num:.2f}\")\n"
      ],
      "metadata": {
        "id": "Hk4Vw5cTdneJ",
        "colab": {
          "base_uri": "https://localhost:8080/"
        },
        "outputId": "fd3c4783-142a-4714-bd7c-fdfb08193e99"
      },
      "execution_count": 195,
      "outputs": [
        {
          "output_type": "stream",
          "name": "stdout",
          "text": [
            "       500\n",
            "      +500\n",
            "      -500\n",
            "+500______\n",
            "10,000,000,000,000,000\n",
            "+10,000,000,000,000,000\n",
            "+10,000,000,000,000,000^^^^^^^\n",
            "1.6666666666666667\n",
            "1.67\n"
          ]
        }
      ]
    },
    {
      "cell_type": "code",
      "source": [
        "# 파일 입출력\n",
        "\n",
        "score_file = open(\"score.text\",\"w\",encoding = \"utf8\") # 한글을 사용하기 위해 utf8을 해야함\n",
        "print(\"수학 : 0\",file=score_file)\n",
        "print(\"영어 : 50\",file=score_file)\n",
        "score_file.close() # 파일은 항상 닫아줘야함\n",
        "# 실행하면 파일창에 파일이 생긴걸 확인할 수 있음"
      ],
      "metadata": {
        "id": "NJB8LqZwdnnv"
      },
      "execution_count": 196,
      "outputs": []
    },
    {
      "cell_type": "code",
      "source": [
        "score_file = open(\"score.text\",\"a\",encoding = \"utf8\") #append 덮어쓰지 않고 싶을때 이어 붙이는 용도\n",
        "score_file.write(\"과학 : 80\")\n",
        "score_file.write(\"\\n코딩 : 100\") # 바로 쓸때는 줄바꿈이 자동으로 안되므로 줄바꿈 넣어줘야\n"
      ],
      "metadata": {
        "colab": {
          "base_uri": "https://localhost:8080/"
        },
        "id": "OpRotiKpdj1D",
        "outputId": "f5ebc600-b833-4c83-8bea-d4b085c59ffc"
      },
      "execution_count": 197,
      "outputs": [
        {
          "output_type": "execute_result",
          "data": {
            "text/plain": [
              "9"
            ]
          },
          "metadata": {},
          "execution_count": 197
        }
      ]
    },
    {
      "cell_type": "code",
      "source": [
        "score_file = open(\"score.text\",\"r\",encoding = \"utf8\") #read 파일을 읽겠다\n",
        "\n",
        "print(score_file.read())\n",
        "score_file.close()"
      ],
      "metadata": {
        "colab": {
          "base_uri": "https://localhost:8080/"
        },
        "id": "gXsJ19Wodj_w",
        "outputId": "72e2f7d1-f387-480a-b29e-5022bb098be2"
      },
      "execution_count": 198,
      "outputs": [
        {
          "output_type": "stream",
          "name": "stdout",
          "text": [
            "수학 : 0\n",
            "영어 : 50\n",
            "과학 : 80\n",
            "코딩 : 100\n"
          ]
        }
      ]
    },
    {
      "cell_type": "code",
      "source": [
        "score_file = open(\"score.text\",\"r\",encoding = \"utf8\")\n",
        "print(score_file.readline()) # 줄별로 읽기,한 줄 읽고 커서는 다음 줄로 이동\n",
        "print(score_file.readline())\n",
        "print(score_file.readline())\n",
        "print(score_file.readline())\n",
        "score_file.close()"
      ],
      "metadata": {
        "colab": {
          "base_uri": "https://localhost:8080/"
        },
        "id": "mes191KWdkKA",
        "outputId": "acde6a13-a6ff-4ef2-86d2-fda4c85698d0"
      },
      "execution_count": 199,
      "outputs": [
        {
          "output_type": "stream",
          "name": "stdout",
          "text": [
            "수학 : 0\n",
            "\n",
            "영어 : 50\n",
            "\n",
            "과학 : 80\n",
            "\n",
            "코딩 : 100\n"
          ]
        }
      ]
    },
    {
      "cell_type": "code",
      "source": [
        "# 다른 사람의 파일을 가져온 경우는 몇줄인지 모르는 경우가 있으니까\n",
        "\n",
        "score_file = open(\"score.text\",\"r\",encoding = \"utf8\")\n",
        "while True:\n",
        "  line = score_file.readline()\n",
        "  if not line:\n",
        "    break\n",
        "  print(line)\n",
        "score_file.close()"
      ],
      "metadata": {
        "colab": {
          "base_uri": "https://localhost:8080/"
        },
        "id": "9DWrTtJOdkXV",
        "outputId": "155135f1-f756-4dad-c093-f61445cd6e3c"
      },
      "execution_count": 200,
      "outputs": [
        {
          "output_type": "stream",
          "name": "stdout",
          "text": [
            "수학 : 0\n",
            "\n",
            "영어 : 50\n",
            "\n",
            "과학 : 80\n",
            "\n",
            "코딩 : 100\n"
          ]
        }
      ]
    },
    {
      "cell_type": "code",
      "source": [
        "# 리스트에다가 값을 다 넣어서 처리할 수 있음\n",
        "\n",
        "score_file = open(\"score.text\",\"r\",encoding = \"utf8\")\n",
        "lines = score_file.readlines() # list 형태로 저장\n",
        "\n",
        "for line in lines:\n",
        "  print(line,end=\"\")\n",
        "\n",
        "score_file.close()"
      ],
      "metadata": {
        "colab": {
          "base_uri": "https://localhost:8080/"
        },
        "id": "TQQepRu1dkly",
        "outputId": "9cb207a8-46af-4e3d-b9cb-f17cde9deaca"
      },
      "execution_count": 201,
      "outputs": [
        {
          "output_type": "stream",
          "name": "stdout",
          "text": [
            "수학 : 0\n",
            "영어 : 50\n",
            "과학 : 80\n",
            "코딩 : 100"
          ]
        }
      ]
    },
    {
      "cell_type": "code",
      "source": [
        "# 피클?\n",
        "# 프로그램상에서 사용하고 있는 데이터를 파일로 저장하는것\n",
        "\n",
        "import pickle\n",
        "\n",
        "profile_file = open(\"profile.pickle\",\"wb\") #피클을 쓰기 위해서는 항상 바이너리 타입을 지정해야함\n",
        "profile = {\"이름\":\"박명수\",\"나이\":30,\"취미\":[\"축구\",\"골프\",\"코딩\"]}\n",
        "print(profile)\n",
        "\n",
        "pickle.dump(profile,profile_file) # profile에 있는 정보를 file에 저장\n",
        "profile_file.close()"
      ],
      "metadata": {
        "colab": {
          "base_uri": "https://localhost:8080/"
        },
        "id": "hC46K7fedkup",
        "outputId": "ace17dcb-5150-4fcf-d0e2-34b2f5da7985"
      },
      "execution_count": 202,
      "outputs": [
        {
          "output_type": "stream",
          "name": "stdout",
          "text": [
            "{'이름': '박명수', '나이': 30, '취미': ['축구', '골프', '코딩']}\n"
          ]
        }
      ]
    },
    {
      "cell_type": "code",
      "source": [
        "# profile에 있는 정보 file을 물러오기\n",
        "import pickle\n",
        "\n",
        "profile_file = open(\"profile.pickle\",\"rb\") # 읽기 전용파일로 열겠다 마찬가지로 바이너리 타입 지정\n",
        "profile = pickle.load(profile_file) # file에 있는 정보를 profile에 불러오기\n",
        "print(profile)\n",
        "profile_file.close()"
      ],
      "metadata": {
        "colab": {
          "base_uri": "https://localhost:8080/"
        },
        "id": "rLo0D7opdk45",
        "outputId": "338611e2-a9db-4c13-e085-357ed4b44b97"
      },
      "execution_count": 203,
      "outputs": [
        {
          "output_type": "stream",
          "name": "stdout",
          "text": [
            "{'이름': '박명수', '나이': 30, '취미': ['축구', '골프', '코딩']}\n"
          ]
        }
      ]
    },
    {
      "cell_type": "code",
      "source": [
        "# with\n",
        "import pickle\n",
        "\n",
        "with open(\"profile.pickle\",\"rb\") as profile_file:\n",
        "  print(pickle.load(profile_file))\n",
        "# 열었던 파일에 대해서 close를 할 필요가 없음"
      ],
      "metadata": {
        "id": "OqfWyNJ1tnSf",
        "colab": {
          "base_uri": "https://localhost:8080/"
        },
        "outputId": "a1f5689d-0311-46df-b0a0-f81698cde35a"
      },
      "execution_count": 204,
      "outputs": [
        {
          "output_type": "stream",
          "name": "stdout",
          "text": [
            "{'이름': '박명수', '나이': 30, '취미': ['축구', '골프', '코딩']}\n"
          ]
        }
      ]
    },
    {
      "cell_type": "code",
      "source": [
        "# 활용하기\n",
        "\n",
        "with open(\"study.txt\",\"w\",encoding = \"utf8\") as study_file:\n",
        "  study_file.write(\"파이썬을 열심히 공부하고 있어요\")"
      ],
      "metadata": {
        "id": "kcVjx0pItnVA"
      },
      "execution_count": 205,
      "outputs": []
    },
    {
      "cell_type": "code",
      "source": [
        "with open(\"study.txt\",\"r\",encoding = \"utf8\") as study_file:\n",
        "  print(study_file.read())"
      ],
      "metadata": {
        "id": "uBIVR6wPtnYS",
        "colab": {
          "base_uri": "https://localhost:8080/"
        },
        "outputId": "012ec2ed-8a07-4e50-a566-2eb97997a5d8"
      },
      "execution_count": 206,
      "outputs": [
        {
          "output_type": "stream",
          "name": "stdout",
          "text": [
            "파이썬을 열심히 공부하고 있어요\n"
          ]
        }
      ]
    },
    {
      "cell_type": "markdown",
      "source": [
        "quiz) 당신의 회사에서는 매주 1회 작성해야 하는 보고서가 있습니다\n",
        "\n",
        "보고서는 항상 아래와 같은 형태로 출력되어야 합니다\n",
        "\n",
        "-X 주차 주간보고-\n",
        "\n",
        "부서 :\n",
        "\n",
        "이름 :\n",
        "\n",
        "업무 요약 :\n",
        "\n",
        "1주차부터 50주차까지의 보고서 파일을 만드는 프로그램을 작성하시오\n",
        "\n",
        "조건 : 파일명은 '1주차.txt', '2주차.txt'...\n",
        "와 같이 만듭니다\n"
      ],
      "metadata": {
        "id": "GIXeBxnotna-"
      }
    },
    {
      "cell_type": "code",
      "source": [
        "for i in range(1,51):\n",
        "  with open(f\"{str(i)}주차.txt\",\"w\",encoding = \"utf8\") as week_file:\n",
        "    week_file.write(f\"\"\"\n",
        "    -{str(i)}주차 주간보고-\n",
        "\n",
        "    부서:\n",
        "\n",
        "    이름:\n",
        "\n",
        "    업무 요약:\n",
        "    \"\"\")\n"
      ],
      "metadata": {
        "id": "pp0pPz9XxT9l"
      },
      "execution_count": 207,
      "outputs": []
    },
    {
      "cell_type": "code",
      "source": [
        "for i in range(1,51):\n",
        "  with open(str(i) + \"주차.txt\",\"w\",encoding = \"utf8\") as report_file:\n",
        "    report_file.write(\"- {0} 주차 주간보고 -\".format(i))\n",
        "    report_file.write(\"\\n부서 : \")\n",
        "    report_file.write(\"\\n이름 : \")\n",
        "    report_file.write(\"\\n업무 요약 : \")\n"
      ],
      "metadata": {
        "id": "B1k17Ag7xUCE"
      },
      "execution_count": 208,
      "outputs": []
    },
    {
      "cell_type": "markdown",
      "source": [
        "# 클래스"
      ],
      "metadata": {
        "id": "mTYSgiSfxUNZ"
      }
    },
    {
      "cell_type": "code",
      "source": [
        "# 스타크래프트\n",
        "\n",
        "# 마린 : 공격 유닛, 군인, 총을 쏠 수 있음\n",
        "name = \"마린\"\n",
        "hp = 40\n",
        "damage = 5\n",
        "\n",
        "print(f\"{name} 유닛이 생성되었습니다\")\n",
        "print(f\"체력 {hp}, 공격력 {damage}\\n\")\n",
        "\n",
        "# 탱크 : 공격 유닛, 탱크, 포를 쏠 수 있는데 일반모드/ 시즈모드\n",
        "tank_name = \"탱크\"\n",
        "tank_hp = 150\n",
        "tank_damage = 35\n",
        "\n",
        "print(f\"{tank_name} 유닛이 생성되었습니다\")\n",
        "print(f\"체력 {tank_hp}, 공격력 {tank_damage}\\n\")\n",
        "\n",
        "# 만약에 탱크 하나가 더 추가된다면? (마지막 코드)\n",
        "tank2_name = \"탱크\"\n",
        "tank2_hp = 150\n",
        "tank2_damage = 35\n",
        "\n",
        "def attack(name,location,damage):\n",
        "  print(f\"{name} : {location} 방향으로 적군을 공격 합니다. [공격력 {damage}]\")\n",
        "\n",
        "attack(name,\"1시\",damage)\n",
        "attack(tank_name,\"1시\",tank_damage)\n",
        "attack(tank2_name,\"1시\",tank_damage)"
      ],
      "metadata": {
        "colab": {
          "base_uri": "https://localhost:8080/"
        },
        "id": "dIdFJDzJxUSI",
        "outputId": "e187154b-1e59-4e89-fed5-bb5361db2241"
      },
      "execution_count": 209,
      "outputs": [
        {
          "output_type": "stream",
          "name": "stdout",
          "text": [
            "마린 유닛이 생성되었습니다\n",
            "체력 40, 공격력 5\n",
            "\n",
            "탱크 유닛이 생성되었습니다\n",
            "체력 150, 공격력 35\n",
            "\n",
            "마린 : 1시 방향으로 적군을 공격 합니다. [공격력 5]\n",
            "탱크 : 1시 방향으로 적군을 공격 합니다. [공격력 35]\n",
            "탱크 : 1시 방향으로 적군을 공격 합니다. [공격력 35]\n"
          ]
        }
      ]
    },
    {
      "cell_type": "code",
      "source": [
        "# 유닛이 계속 추가된다면 어떻게 해야할까?\n",
        "# >>>> 그래서 클래스의 개념이 필요하다\n",
        "\n",
        "# 일반 유닛\n",
        "class Unit:\n",
        "  def __init__(self,name,hp,damage):\n",
        "    self.name = name\n",
        "    self.hp = hp\n",
        "    self.damage = damage\n",
        "    print(f\"{self.name} 유닛이 생성되었습니다\")\n",
        "    print(f\"체력 {self.hp}, 공격력 {self.damage}\")\n",
        "\n",
        "marine1 = Unit(\"마린\",40,5)\n",
        "marine2 = Unit(\"마린\",40,5)\n",
        "tank = Unit(\"탱크\",150,35)"
      ],
      "metadata": {
        "colab": {
          "base_uri": "https://localhost:8080/"
        },
        "id": "GfD15zQQxUWn",
        "outputId": "06f42058-9b6c-4e84-b2a7-1cb12f3e2cbf"
      },
      "execution_count": 210,
      "outputs": [
        {
          "output_type": "stream",
          "name": "stdout",
          "text": [
            "마린 유닛이 생성되었습니다\n",
            "체력 40, 공격력 5\n",
            "마린 유닛이 생성되었습니다\n",
            "체력 40, 공격력 5\n",
            "탱크 유닛이 생성되었습니다\n",
            "체력 150, 공격력 35\n"
          ]
        }
      ]
    },
    {
      "cell_type": "code",
      "source": [
        "# __init__ 함수는 도대체 무엇일까??\n",
        "\n",
        "# 파이썬에서 쓰이는 생성자임\n",
        "\n",
        "# __init__ 함수에 정의된 개수만큼 인자가 정의되어야만 객체를 만들 수 있음"
      ],
      "metadata": {
        "id": "XQDeRaK2xUbc"
      },
      "execution_count": 211,
      "outputs": []
    },
    {
      "cell_type": "code",
      "source": [
        "# 멤버변수???\n",
        "# 어떤 클래스내에서 정의된 변수고 그 변수를 가지고 초기화하고 쓸 수 있음\n",
        "\n",
        "# 레이스 : 공중 유닛, 비행기 ,클로킹 (상대방에게 보이지 않음)\n",
        "wraith1 = Unit(\"레이스\",80,5)\n",
        "print(f\"유닛 이름 : {wraith1.name}, 공격력 : {wraith1.damage}\")\n",
        "\n",
        "# 다크아칸이 마인드 컨트롤\n",
        "wraith2 = Unit(\"빼앗은 레이스\",80,5)\n",
        "wraith2.clocking = True\n",
        "# 외부에서 객체에 변수를 추가로 할당,but wraith1에는 변수가 할당되지 않는다는것을 알 수 있\n",
        "\n",
        "if wraith2.clocking == True:\n",
        "  print(f\"{wraith2.name}는 현재 클로킹 상태입니 \")"
      ],
      "metadata": {
        "colab": {
          "base_uri": "https://localhost:8080/"
        },
        "id": "xZpARstCxUgK",
        "outputId": "2c4d93c3-ce00-474e-d348-e0876000aec0"
      },
      "execution_count": 212,
      "outputs": [
        {
          "output_type": "stream",
          "name": "stdout",
          "text": [
            "레이스 유닛이 생성되었습니다\n",
            "체력 80, 공격력 5\n",
            "유닛 이름 : 레이스, 공격력 : 5\n",
            "빼앗은 레이스 유닛이 생성되었습니다\n",
            "체력 80, 공격력 5\n",
            "빼앗은 레이스는 현재 클로킹 상태입니 \n"
          ]
        }
      ]
    },
    {
      "cell_type": "code",
      "source": [
        "# 메소드??\n",
        "\n",
        "# 공격 유닛\n",
        "class AttackUnit:\n",
        "  def __init__(self,name,hp,damage): # self는 자기 자신을 의미함\n",
        "    self.name = name\n",
        "    self.hp = hp\n",
        "    self.damage = damage\n",
        "\n",
        "  def attack(self,location): # location은 전달 받은 값을 씀\n",
        "    print(f\"{self.name} : {location}방향으로 적군을 공격합니다. [공격력 {self.damage}]\")\n",
        "\n",
        "  def damaged(self,damage):\n",
        "    print(f\"{self.name} : {damage} 데미지를 입었습니다.\")\n",
        "    self.hp -= damage\n",
        "    print(f\"{self.name} : 현재 체력은 {self.hp}입니다.\")\n",
        "    if self.hp <= 0:\n",
        "      print(f\"{self.name} : 파괴되었습니다.\")\n",
        "\n",
        "# 파이어뱃 : 공격 유닛, 화염방사기\n",
        "\n",
        "firebat1 = AttackUnit(\"파이어뱃\",50,16)\n",
        "firebat1.attack(\"5시\")\n",
        "\n",
        "#공격 2번 받는다고 가정\n",
        "firebat1.damaged(25)\n",
        "firebat1.damaged(25)"
      ],
      "metadata": {
        "colab": {
          "base_uri": "https://localhost:8080/"
        },
        "id": "segeYkg-xTai",
        "outputId": "d5aa19dd-71e6-48df-c01d-cde3dc400c06"
      },
      "execution_count": 213,
      "outputs": [
        {
          "output_type": "stream",
          "name": "stdout",
          "text": [
            "파이어뱃 : 5시방향으로 적군을 공격합니다. [공격력 16]\n",
            "파이어뱃 : 25 데미지를 입었습니다.\n",
            "파이어뱃 : 현재 체력은 25입니다.\n",
            "파이어뱃 : 25 데미지를 입었습니다.\n",
            "파이어뱃 : 현재 체력은 0입니다.\n",
            "파이어뱃 : 파괴되었습니다.\n"
          ]
        }
      ]
    },
    {
      "cell_type": "code",
      "source": [
        "# 상속??\n",
        "\n",
        "# 일반 유닛\n",
        "class Unit:\n",
        "  def __init__(self,name,hp,speed):\n",
        "    self.name = name\n",
        "    self.hp = hp\n",
        "    self.speed = speed\n",
        "\n",
        "  def move(self, location):\n",
        "    print(\"[지상 유닛 이동]\")\n",
        "    print(f\"{self.name} : {location} 방향으로 이동합니다. [속도 {self.speed}]\")\n",
        "\n",
        "# 유닛의 속성 부분이 겹치는데 어떻게 해야 될까?\n",
        "\n",
        "\n",
        "# 공격 유닛\n",
        "class AttackUnit(Unit): # 상속 받고싶은 클래스를 정의 해주는것\n",
        "  def __init__(self,name,hp,damage,speed):\n",
        "    Unit.__init__(self,name,hp,speed)\n",
        "    self.damage = damage\n",
        "\n",
        "  def attack(self,location):\n",
        "    print(f\"{self.name} : {location}방향으로 적군을 공격합니다. [공격력 {self.damage}]\")\n",
        "\n",
        "  def damaged(self,damage):\n",
        "    print(f\"{self.name} : {damage} 데미지를 입었습니다.\")\n",
        "    self.hp -= damage\n",
        "    print(f\"{self.name} : 현재 체력은 {self.hp}입니다.\")\n",
        "    if self.hp <= 0:\n",
        "      print(f\"{self.name} : 파괴되었습니다.\")\n",
        "\n",
        "# 상속해도 잘 돌아가는지 확인\n",
        "\n",
        "firebat1 = AttackUnit(\"파이어뱃\",50,16,5)\n",
        "firebat1.attack(\"5시\")\n",
        "firebat1.damaged(25)\n",
        "firebat1.damaged(25)"
      ],
      "metadata": {
        "id": "XcrJDLT7tndr",
        "colab": {
          "base_uri": "https://localhost:8080/"
        },
        "outputId": "2fe6c28a-f32b-4970-c349-a22449b8fb51"
      },
      "execution_count": 214,
      "outputs": [
        {
          "output_type": "stream",
          "name": "stdout",
          "text": [
            "파이어뱃 : 5시방향으로 적군을 공격합니다. [공격력 16]\n",
            "파이어뱃 : 25 데미지를 입었습니다.\n",
            "파이어뱃 : 현재 체력은 25입니다.\n",
            "파이어뱃 : 25 데미지를 입었습니다.\n",
            "파이어뱃 : 현재 체력은 0입니다.\n",
            "파이어뱃 : 파괴되었습니다.\n"
          ]
        }
      ]
    },
    {
      "cell_type": "code",
      "source": [
        "# 다중 상속\n",
        "# 부모 클래스를 두번 상속 받는것\n",
        "\n",
        "# 공중유닛도 레이스같은 공격유닛이 있고, 드랍쉽같은 수송유닛이 있다(공격은 불가함)\n",
        "\n",
        "# 날 수 있는 기능을 가진 클래스\n",
        "class Flyable:\n",
        "  def __init__(self,flying_speed):\n",
        "    self.flying_speed = flying_speed\n",
        "\n",
        "  def fly(self,name,location):\n",
        "    print(f\"{name} : {location} 방향으로 날아갑니다. [속도 {self.flying_speed}]\")\n",
        "\n",
        "# 공중 공격 유닛 클래스\n",
        "class FlyableAttackUnit(AttackUnit,Flyable):\n",
        "  def __init__(self,name,hp,damage,flying_speed):\n",
        "    AttackUnit.__init__(self,name,hp,damage,0) # 지상 speed 0 으로 처리\n",
        "    Flyable.__init__(self,flying_speed)\n",
        "\n",
        "  def move(self,location): # 따로 처리하는거 번거로우므로 오버라이딩, >>> 재정의!!!\n",
        "    print(\"[공중 유닛 이동]\")\n",
        "    self.fly(self.name,location)\n",
        "\n",
        "# 발키리 소환\n",
        "valkyre =  FlyableAttackUnit(\"발키리\",200,6,5)\n",
        "valkyre.fly(valkyre.name,\"3시\")"
      ],
      "metadata": {
        "id": "w5fWcbR0tngW",
        "colab": {
          "base_uri": "https://localhost:8080/"
        },
        "outputId": "ba1a5183-06fa-4297-e226-712ae62ed708"
      },
      "execution_count": 215,
      "outputs": [
        {
          "output_type": "stream",
          "name": "stdout",
          "text": [
            "발키리 : 3시 방향으로 날아갑니다. [속도 5]\n"
          ]
        }
      ]
    },
    {
      "cell_type": "code",
      "source": [
        "# 메소드 오버라이딩\n",
        "\n",
        "# 부모클래스에서 정의한 메소드말고\n",
        "# 자식클래스에서 메소드를 새로 정의해서 사용하고싶을때\n",
        "\n",
        "# 벌쳐\n",
        "vulture = AttackUnit(\"벌쳐\",80,10,10)\n",
        "\n",
        "# 배틀크루저\n",
        "battlecrusier = FlyableAttackUnit(\"배틀크루저\",500,25,3)\n",
        "\n",
        "vulture.move(\"11시\")\n",
        "battlecrusier.fly(\"배틀크루저\",\"9시\")\n",
        "# 매번 이동할때마다 공중,지상을 나눠서 해야하므로 매우 불편하다\n",
        "# 공중공격 유닛에 새로운 메소드를 만들자\n",
        "\n",
        "battlecrusier.move(\"9시\")\n",
        "\n"
      ],
      "metadata": {
        "id": "jmpaBRNjtnjQ",
        "colab": {
          "base_uri": "https://localhost:8080/"
        },
        "outputId": "be4374e2-0d3d-4b2b-d9aa-a19ec4ff7f00"
      },
      "execution_count": 216,
      "outputs": [
        {
          "output_type": "stream",
          "name": "stdout",
          "text": [
            "[지상 유닛 이동]\n",
            "벌쳐 : 11시 방향으로 이동합니다. [속도 10]\n",
            "배틀크루저 : 9시 방향으로 날아갑니다. [속도 3]\n",
            "[공중 유닛 이동]\n",
            "배틀크루저 : 9시 방향으로 날아갑니다. [속도 3]\n"
          ]
        }
      ]
    },
    {
      "cell_type": "code",
      "source": [
        "# 패스??\n",
        "\n",
        "# 건물\n",
        "class BuildingUnit(Unit):\n",
        "  def __init__(self, name, hp, location):\n",
        "    pass # <<<<<<  추가작성안하고 일단은 넘어간다\n",
        "\n",
        "# 서플라이 디폿 : 인구수 채워주는 건물\n",
        "supply_depot = BuildingUnit(\"서플라이 디폿\",500,\"7시\")"
      ],
      "metadata": {
        "id": "90LpvNNv4zWt"
      },
      "execution_count": 217,
      "outputs": []
    },
    {
      "cell_type": "code",
      "source": [
        "# 함수에서도 pass\n",
        "\n",
        "def game_start():\n",
        "  print(\"알림, 새로운 게임을 시작합니다\")\n",
        "\n",
        "def game_over():\n",
        "  pass\n",
        "\n",
        "game_start()\n",
        "game_over()"
      ],
      "metadata": {
        "colab": {
          "base_uri": "https://localhost:8080/"
        },
        "id": "bxOPzf6X4zir",
        "outputId": "711a32e5-1764-4275-beb8-9695a3c54e23"
      },
      "execution_count": 218,
      "outputs": [
        {
          "output_type": "stream",
          "name": "stdout",
          "text": [
            "알림, 새로운 게임을 시작합니다\n"
          ]
        }
      ]
    },
    {
      "cell_type": "code",
      "source": [
        "# 슈퍼??\n",
        "# 클래스를 상속받을때는 부모부분도 상속받았어야 했음\n",
        "\n",
        "# 건물\n",
        "class BuildingUnit(Unit):\n",
        "  def __init__(self, name, hp, location):\n",
        "    # Unit.__init__(self,name,hp,0)\n",
        "    super().__init__(name,hp,0) # self 생략하고 부모클래스 바로 초기화 할 수 있음\n",
        "    self.location = location"
      ],
      "metadata": {
        "id": "KbNN2m5y4ztV"
      },
      "execution_count": 219,
      "outputs": []
    },
    {
      "cell_type": "code",
      "source": [
        "# super() 다중 상속에서는 어떻게 될까?\n",
        "\n",
        "class Unit:\n",
        "  def __init__(self):\n",
        "    print(\"Unit 생성자\")\n",
        "\n",
        "class Flyable:\n",
        "  def __init__(self):\n",
        "    print(\"Flyable 생성자\")\n",
        "\n",
        "class FlyableUnit(Unit,Flyable):\n",
        "  def __init__(self):\n",
        "    super().__init__()\n",
        "\n",
        "# 드랍쉽\n",
        "dropship = FlyableUnit()"
      ],
      "metadata": {
        "colab": {
          "base_uri": "https://localhost:8080/"
        },
        "id": "9a6isIWM4z0T",
        "outputId": "823888c7-df7a-4f0c-8a44-c09a96d71413"
      },
      "execution_count": 220,
      "outputs": [
        {
          "output_type": "stream",
          "name": "stdout",
          "text": [
            "Unit 생성자\n"
          ]
        }
      ]
    },
    {
      "cell_type": "code",
      "source": [
        "class Unit:\n",
        "  def __init__(self):\n",
        "    print(\"Unit 생성자\")\n",
        "\n",
        "class Flyable:\n",
        "  def __init__(self):\n",
        "    print(\"Flyable 생성자\")\n",
        "\n",
        "class FlyableUnit(Flyable,Unit):\n",
        "  def __init__(self):\n",
        "    super().__init__()\n",
        "\n",
        "# 드랍쉽\n",
        "dropship = FlyableUnit()\n",
        "\n",
        "# 상속인자로 들어가는 순서에 따라서 달라진다는 것을 알 수 있다\n",
        "# >>>>> 다중 상속을 받을때는 각각의 생성자를 초기해 줘야 한다는것을 알 수 있다"
      ],
      "metadata": {
        "colab": {
          "base_uri": "https://localhost:8080/"
        },
        "id": "4KxY4G5Z4z7C",
        "outputId": "9ff9f517-fef9-4d55-ba13-3f8a747b16e9"
      },
      "execution_count": 221,
      "outputs": [
        {
          "output_type": "stream",
          "name": "stdout",
          "text": [
            "Flyable 생성자\n"
          ]
        }
      ]
    },
    {
      "cell_type": "code",
      "source": [
        "# 스타크래프트 전반전\n",
        "\n",
        "\n",
        "# 일반 유닛\n",
        "class Unit:\n",
        "  def __init__(self,name,hp,speed):\n",
        "    self.name = name\n",
        "    self.hp = hp\n",
        "    self.speed = speed\n",
        "    print(f\"{self.name}이 생성되었습니다.\")\n",
        "\n",
        "\n",
        "  def move(self, location):\n",
        "    print(f\"{self.name} : {location} 방향으로 이동합니다. [속도 {self.speed}]\")\n",
        "\n",
        "\n",
        "  def damaged(self,damage):\n",
        "    print(f\"{self.name} : {damage} 데미지를 입었습니다.\")\n",
        "    self.hp -= damage\n",
        "    print(f\"{self.name} : 현재 체력은 {self.hp}입니다.\")\n",
        "    if self.hp <= 0:\n",
        "      print(f\"{self.name} : 파괴되었습니다.\")\n",
        "\n",
        "# 공격 유닛\n",
        "class AttackUnit(Unit): # 상속 받고싶은 클래스를 정의 해주는것\n",
        "  def __init__(self,name,hp,damage,speed):\n",
        "    Unit.__init__(self,name,hp,speed)\n",
        "    self.damage = damage\n",
        "\n",
        "  def attack(self,location):\n",
        "    print(f\"{self.name} : {location}방향으로 적군을 공격합니다. [공격력 {self.damage}]\")\n",
        "\n",
        "# 마린 클래스\n",
        "class Marine(AttackUnit):\n",
        "  def __init__(self):\n",
        "    AttackUnit.__init__(self,\"마린\",40,1,5)\n",
        "\n",
        "  # 스팀팩\n",
        "  def stimpack(self):\n",
        "    if self.hp > 10:\n",
        "      self.hp -= 10\n",
        "      print(f\"{self.name} : 스팀팩을 사용합니다. (hp 10 감소)\")\n",
        "    else:\n",
        "      print(f\"{self.name} : 체력이 부족하여 스팀팩을 사용할 수 없습니다\")\n",
        "\n",
        "# 탱크 클래스\n",
        "class Tank(AttackUnit):\n",
        "\n",
        "  seize_developed = False # 시즈모드 개발여부\n",
        "\n",
        "  def __init__(self):\n",
        "    AttackUnit.__init__(self,\"탱크\",150,1,35)\n",
        "    self.seize_mode = False\n",
        "\n",
        "  # 시즈모드\n",
        "  def set_seize_mode(self):\n",
        "    if Tank.seize_developed == False:\n",
        "      return\n",
        "\n",
        "    if self.seize_mode == false:\n",
        "      print(f\"{self.name} : 시즈모드로 전환합니다\")\n",
        "      self.damage *= 2\n",
        "      self.seize_mode = True\n",
        "    else:\n",
        "      print(f\"{self.name} : 시즈모드를 해제합니다\")\n",
        "      self.damage /= 2\n",
        "      self.seize_mode = False\n",
        "\n",
        "# 레이크 클래스\n",
        "class Wraith(FlyableAttackUnit):\n",
        "  def __init__(self):\n",
        "    FlyableAttackUnit.__init__(self,\"레이스\",80,20,5)\n",
        "    self.clocked = False # 클로킹모드 (해제 상태)\n",
        "\n",
        "  def clocking(self):\n",
        "\n",
        "    if self.clocked == False:\n",
        "      print(f\"{self.name} : 클로킹모드로 전환합니다\")\n",
        "      self.clocked = True\n",
        "    else:\n",
        "      print(f\"{self.name} : 클로킹모드를 해제합니다\")\n",
        "      self.clocked = False\n",
        "\n",
        "\n",
        "# 날 수 있는 기능을 가진 클래스\n",
        "class Flyable:\n",
        "  def __init__(self,flying_speed):\n",
        "    self.flying_speed = flying_speed\n",
        "\n",
        "  def fly(self,name,location):\n",
        "    print(f\"{name} : {location} 방향으로 날아갑니다. [속도 {self.flying_speed}]\")\n",
        "\n",
        "# 공중 공격 유닛 클래스\n",
        "class FlyableAttackUnit(AttackUnit,Flyable):\n",
        "  def __init__(self,name,hp,damage,flying_speed):\n",
        "    AttackUnit.__init__(self,name,hp,damage,0) # 지상 speed 0 으로 처리\n",
        "    Flyable.__init__(self,flying_speed)\n",
        "\n",
        "  def move(self,location):\n",
        "    self.fly(self.name,location)\n",
        "\n",
        "def game_start():\n",
        "  print(\"[알림] 새로운 게임을 시작합니다\")\n",
        "\n",
        "def game_over():\n",
        "  print(\"player : gg\")\n",
        "  print(\"[player] 님이 게임에서 퇴장하셨습니다\")"
      ],
      "metadata": {
        "id": "Argj8FfQ40BE"
      },
      "execution_count": 222,
      "outputs": []
    },
    {
      "cell_type": "code",
      "source": [
        "from random import *\n",
        "\n",
        "# 게임 시작\n",
        "game_start()\n",
        "\n",
        "# 마린 3명 생성\n",
        "m1 = Marine()\n",
        "m2 = Marine()\n",
        "m3 = Marine()\n",
        "\n",
        "# 탱크 2기 생성\n",
        "t1 = Tank()\n",
        "t2 = Tank()\n",
        "\n",
        "# 레이스 1기 생성\n",
        "w1 = Wraith()\n",
        "\n",
        "# 유닛 일괄 관리 (생성된 모든 유닛 append)\n",
        "attack_units = []\n",
        "attack_units.append(m1)\n",
        "attack_units.append(m2)\n",
        "attack_units.append(m3)\n",
        "attack_units.append(t1)\n",
        "attack_units.append(t2)\n",
        "attack_units.append(w1)\n",
        "\n",
        "# 전군 이동\n",
        "for unit in attack_units:\n",
        "  unit.move(\"1시\")\n",
        "\n",
        "# 탱크 시즈모드 개발\n",
        "Tank.seize_devloped = True\n",
        "print(\"[알림] 탱크 시즈 모드 개발이 완료되었습니\")\n",
        "\n",
        "# 공격 모드 준비 (마린 : 스팀팩, 탱크 : 시즈, 레이스 : 클로킹)\n",
        "for unit in attack_units:\n",
        "  if isinstance(unit,Marine): # 인자값을 넣어서 어디 클래스의 인스턴스인지 확인하는것\n",
        "    unit.stimpack()\n",
        "  elif isinstance(unit,Tank):\n",
        "    unit.set_seize_mode()\n",
        "  elif isinstance(unit,Wraith):\n",
        "    unit.clocking()\n",
        "\n",
        "# 전군 공격\n",
        "for unit in attack_units:\n",
        "  unit.attack(\"1시\")\n",
        "\n",
        "# 전군 피해\n",
        "for unit in attack_units:\n",
        "  unit.damaged(randint(5,21)) # 공격은 랜덤으로 받음\n",
        "\n",
        "# 게임 종료\n",
        "game_over()"
      ],
      "metadata": {
        "colab": {
          "base_uri": "https://localhost:8080/"
        },
        "id": "nfXff9kJ40Ib",
        "outputId": "73fea81b-6d44-4b26-9a5e-03f22bae0a3d"
      },
      "execution_count": 223,
      "outputs": [
        {
          "output_type": "stream",
          "name": "stdout",
          "text": [
            "[알림] 새로운 게임을 시작합니다\n",
            "마린이 생성되었습니다.\n",
            "마린이 생성되었습니다.\n",
            "마린이 생성되었습니다.\n",
            "탱크이 생성되었습니다.\n",
            "탱크이 생성되었습니다.\n",
            "레이스이 생성되었습니다.\n",
            "마린 : 1시 방향으로 이동합니다. [속도 5]\n",
            "마린 : 1시 방향으로 이동합니다. [속도 5]\n",
            "마린 : 1시 방향으로 이동합니다. [속도 5]\n",
            "탱크 : 1시 방향으로 이동합니다. [속도 35]\n",
            "탱크 : 1시 방향으로 이동합니다. [속도 35]\n",
            "[공중 유닛 이동]\n",
            "레이스 : 1시 방향으로 날아갑니다. [속도 5]\n",
            "[알림] 탱크 시즈 모드 개발이 완료되었습니\n",
            "마린 : 스팀팩을 사용합니다. (hp 10 감소)\n",
            "마린 : 스팀팩을 사용합니다. (hp 10 감소)\n",
            "마린 : 스팀팩을 사용합니다. (hp 10 감소)\n",
            "레이스 : 클로킹모드로 전환합니다\n",
            "마린 : 1시방향으로 적군을 공격합니다. [공격력 1]\n",
            "마린 : 1시방향으로 적군을 공격합니다. [공격력 1]\n",
            "마린 : 1시방향으로 적군을 공격합니다. [공격력 1]\n",
            "탱크 : 1시방향으로 적군을 공격합니다. [공격력 1]\n",
            "탱크 : 1시방향으로 적군을 공격합니다. [공격력 1]\n",
            "레이스 : 1시방향으로 적군을 공격합니다. [공격력 20]\n",
            "마린 : 5 데미지를 입었습니다.\n",
            "마린 : 현재 체력은 25입니다.\n",
            "마린 : 12 데미지를 입었습니다.\n",
            "마린 : 현재 체력은 18입니다.\n",
            "마린 : 15 데미지를 입었습니다.\n",
            "마린 : 현재 체력은 15입니다.\n",
            "탱크 : 8 데미지를 입었습니다.\n",
            "탱크 : 현재 체력은 142입니다.\n",
            "탱크 : 10 데미지를 입었습니다.\n",
            "탱크 : 현재 체력은 140입니다.\n",
            "레이스 : 20 데미지를 입었습니다.\n",
            "레이스 : 현재 체력은 60입니다.\n",
            "player : gg\n",
            "[player] 님이 게임에서 퇴장하셨습니다\n"
          ]
        }
      ]
    },
    {
      "cell_type": "code",
      "source": [],
      "metadata": {
        "id": "ZEmn7YOltORP"
      },
      "execution_count": 223,
      "outputs": []
    },
    {
      "cell_type": "code",
      "source": [],
      "metadata": {
        "id": "9V0CgHQPtOqR"
      },
      "execution_count": 223,
      "outputs": []
    },
    {
      "cell_type": "code",
      "source": [],
      "metadata": {
        "id": "UVKrxXFJtO4_"
      },
      "execution_count": 223,
      "outputs": []
    },
    {
      "cell_type": "markdown",
      "source": [
        "# 예외처리\n"
      ],
      "metadata": {
        "id": "lWgqLgik40QD"
      }
    },
    {
      "cell_type": "code",
      "source": [
        "# 예외 처리?\n",
        "# 어떤 에러가 발생했을때 그에 대해 처리하는것\n",
        "try:\n",
        "  print(\"나누기 전용 계산기입니다.\")\n",
        "  nums = []\n",
        "  nums.append(int(input(\"첫 번째 숫자를 입력하세요 : \")))\n",
        "  nums.append(int(input(\" 번째 숫자를 입력하세요 : \")))\n",
        "  nums.append(int(nums[0] / nums[1]))\n",
        "  print(f\"{nums[0]}/{nums[1]} = {int(nums[2])}\")\n",
        "except ValueError:\n",
        "  print(\"에러! 잘못된 값을 입력하였습니다.\")\n",
        "except ZeroDivisionError as err:\n",
        "  print(err)"
      ],
      "metadata": {
        "colab": {
          "base_uri": "https://localhost:8080/"
        },
        "id": "elXUK2EQ40XE",
        "outputId": "0d7765a7-c152-4444-8bae-3bebcc185f22"
      },
      "execution_count": 224,
      "outputs": [
        {
          "output_type": "stream",
          "name": "stdout",
          "text": [
            "나누기 전용 계산기입니다.\n",
            "첫 번째 숫자를 입력하세요 : 5\n",
            " 번째 숫자를 입력하세요 : 3\n",
            "5/3 = 1\n"
          ]
        }
      ]
    },
    {
      "cell_type": "code",
      "source": [
        "try:\n",
        "  print(\"나누기 전용 계산기입니다.\")\n",
        "  nums = []\n",
        "  nums.append(int(input(\"첫 번째 숫자를 입력하세요 : \")))\n",
        "  nums.append(int(input(\" 두 번째 숫자를 입력하세요 : \")))\n",
        "  # nums.append(int(nums[0] / nums[1])) << 새로운 배열 추가하는것을 까먹음\n",
        "  print(f\"{nums[0]}/{nums[1]} = {int(nums[2])}\")\n",
        "except ValueError:\n",
        "  print(\"에러! 잘못된 값을 입력하였습니다.\")\n",
        "except ZeroDivisionError as err:\n",
        "  print(err)\n",
        "# 에러 어떻게 처리할까?\n",
        "# 나머지 모든 에러 처리\n",
        "except Exception as err:\n",
        "  print(\"알 수 없는 에러가 발생하였습니다.\")\n",
        "  print(err)"
      ],
      "metadata": {
        "colab": {
          "base_uri": "https://localhost:8080/"
        },
        "id": "5SwmFrvO40fZ",
        "outputId": "6715fa7a-838d-44d4-f551-3542322284fa"
      },
      "execution_count": 225,
      "outputs": [
        {
          "output_type": "stream",
          "name": "stdout",
          "text": [
            "나누기 전용 계산기입니다.\n",
            "첫 번째 숫자를 입력하세요 : 2\n",
            " 번째 숫자를 입력하세요 : 4\n",
            "알 수 없는 에러가 발생하였습니다.\n",
            "list index out of range\n"
          ]
        }
      ]
    },
    {
      "cell_type": "code",
      "source": [
        "# 의도적으로 에러 발생시키기\n",
        "\n",
        "try:\n",
        "  print(\"한 자리 숫자 나누기 전용 계산기입니다.\")\n",
        "  num1 = int(input(\"첫 번째 숫자를 입력하세요 : \"))\n",
        "  num2 = int(input(\"두 번째 숫자를 입력하세요 : \"))\n",
        "  if num1 >= 10 or num2 >= 10:\n",
        "    raise ValueError # 의도적으로 필요할때 어떤 에러를 발생 시키는것\n",
        "  print(f\"{num1} / {num2} = {int(num1/num2)}\")\n",
        "\n",
        "except ValueError:\n",
        "  print(\"잘못된 값을 입력하였습니다.한 자리 숫자만 입력하세요.\")\n"
      ],
      "metadata": {
        "colab": {
          "base_uri": "https://localhost:8080/"
        },
        "id": "B71VW3M3bTvT",
        "outputId": "8ee18a0b-dea6-4237-fa87-fc71450222fa"
      },
      "execution_count": 226,
      "outputs": [
        {
          "output_type": "stream",
          "name": "stdout",
          "text": [
            "한 자리 숫자 나누기 전용 계산기입니다.\n",
            "첫 번째 숫자를 입력하세요 : 2\n",
            "두 번째 숫자를 입력하세요 : 4\n",
            "2 / 4 = 0\n"
          ]
        }
      ]
    },
    {
      "cell_type": "code",
      "source": [
        "# 사용자 정의 에러 처리\n",
        "\n",
        "class BighNumberError(Exception):\n",
        "  pass\n",
        "\n",
        "try:\n",
        "  print(\"한 자리 숫자 나누기 전용 계산기입니다.\")\n",
        "  num1 = int(input(\"첫 번째 숫자를 입력하세요 : \"))\n",
        "  num2 = int(input(\"두 번째 숫자를 입력하세요 : \"))\n",
        "  if num1 >= 10 or num2 >= 10:\n",
        "    raise BighNumberError # 사용자가 정의한 에러로 처리하기\n",
        "  print(f\"{num1} / {num2} = {int(num1/num2)}\")\n",
        "\n",
        "except ValueError:\n",
        "  print(\"잘못된 값을 입력하였습니다.한 자리 숫자만 입력하세요.\")\n",
        "except BighNumberError:\n",
        "  print(\"에러가 발생하였습니다.한 자리 숫자만 입력하세요.\")"
      ],
      "metadata": {
        "colab": {
          "base_uri": "https://localhost:8080/"
        },
        "id": "Y7ibKuTsbT3w",
        "outputId": "3829ef8c-9b84-4a27-cbe2-f6655d18d8e8"
      },
      "execution_count": 227,
      "outputs": [
        {
          "output_type": "stream",
          "name": "stdout",
          "text": [
            "한 자리 숫자 나누기 전용 계산기입니다.\n",
            "첫 번째 숫자를 입력하세요 : 2\n",
            "두 번째 숫자를 입력하세요 : 4\n",
            "2 / 4 = 0\n"
          ]
        }
      ]
    },
    {
      "cell_type": "code",
      "source": [
        "class BighNumberError(Exception):\n",
        "  def __init__(self,msg):\n",
        "    self.msg=msg\n",
        "  def __str__(self): # <<< 이건 무슨 기능을 하는 함수 일꼬?\n",
        "    return self.msg\n",
        "\n",
        "\n",
        "try:\n",
        "  print(\"한 자리 숫자 나누기 전용 계산기입니다.\")\n",
        "  num1 = int(input(\"첫 번째 숫자를 입력하세요 : \"))\n",
        "  num2 = int(input(\"두 번째 숫자를 입력하세요 : \"))\n",
        "  if num1 >= 10 or num2 >= 10:\n",
        "    raise BighNumberError(f\"입력값 : {num1},{num2}\") # 사용자가 정의한 에러로 처리하기\n",
        "  print(f\"{num1} / {num2} = {int(num1/num2)}\")\n",
        "\n",
        "except ValueError:\n",
        "  print(\"잘못된 값을 입력하였습니다.한 자리 숫자만 입력하세요.\")\n",
        "except BighNumberError as err:\n",
        "  print(\"에러가 발생하였습니다.한 자리 숫자만 입력하세요.\")\n",
        "  print(err)"
      ],
      "metadata": {
        "colab": {
          "base_uri": "https://localhost:8080/"
        },
        "id": "-Ld3Nli_bT-u",
        "outputId": "bdbd5d39-1eeb-4c24-d379-bff0c13197d9"
      },
      "execution_count": 228,
      "outputs": [
        {
          "output_type": "stream",
          "name": "stdout",
          "text": [
            "한 자리 숫자 나누기 전용 계산기입니다.\n",
            "첫 번째 숫자를 입력하세요 : 4\n",
            "두 번째 숫자를 입력하세요 : 2\n",
            "4 / 2 = 2\n"
          ]
        }
      ]
    },
    {
      "cell_type": "code",
      "source": [
        "# finally\n",
        "# 오류가 발생하건,실행되건\n",
        "# 무조건 실행되는 내용\n",
        "\n",
        "try:\n",
        "  print(\"한 자리 숫자 나누기 전용 계산기입니다.\")\n",
        "  num1 = int(input(\"첫 번째 숫자를 입력하세요 : \"))\n",
        "  num2 = int(input(\"두 번째 숫자를 입력하세요 : \"))\n",
        "  if num1 >= 10 or num2 >= 10:\n",
        "    raise ValueError # 의도적으로 필요할때 어떤 에러를 발생 시키는것\n",
        "  print(f\"{num1} / {num2} = {int(num1/num2)}\")\n",
        "\n",
        "except ValueError:\n",
        "  print(\"잘못된 값을 입력하였습니다.한 자리 숫자만 입력하세요.\")\n",
        "finally: # 무조건 실행되는 내용\n",
        "  print(\"계산기를 이용해 주셔서 감사합니다.\")"
      ],
      "metadata": {
        "colab": {
          "base_uri": "https://localhost:8080/"
        },
        "id": "y80fRP67bUFg",
        "outputId": "65f1f897-66eb-4e79-c5af-54c7ac42f571"
      },
      "execution_count": 229,
      "outputs": [
        {
          "output_type": "stream",
          "name": "stdout",
          "text": [
            "한 자리 숫자 나누기 전용 계산기입니다.\n",
            "첫 번째 숫자를 입력하세요 : 4\n",
            "두 번째 숫자를 입력하세요 : 2\n",
            "4 / 2 = 2\n",
            "계산기를 이용해 주셔서 감사합니다.\n"
          ]
        }
      ]
    },
    {
      "cell_type": "code",
      "source": [],
      "metadata": {
        "id": "92skchIDtQ8W"
      },
      "execution_count": 229,
      "outputs": []
    },
    {
      "cell_type": "code",
      "source": [],
      "metadata": {
        "id": "G6G45sYAtRKr"
      },
      "execution_count": 229,
      "outputs": []
    },
    {
      "cell_type": "code",
      "source": [],
      "metadata": {
        "id": "f-BGeBtrtRXT"
      },
      "execution_count": 229,
      "outputs": []
    },
    {
      "cell_type": "markdown",
      "source": [
        "# 모듈과 패키지\n"
      ],
      "metadata": {
        "id": "qEXlaXGebUMs"
      }
    },
    {
      "cell_type": "code",
      "source": [
        "# 모듈?\n",
        "# 어떤 필요한것들끼리 부품처럼 잘 만들어진 파일\n",
        "# 자동차를 예로들면 타이어만 교체하거나,범퍼가 고장나면 범퍼만 교체하면 되는데\n",
        "# 소프트웨어도 어떤 기능을 하는 부분만 교체 하면됨\n",
        "\n",
        "# 현금만 받는 극장\n",
        "\n",
        "# 일반가격\n",
        "def price(people):\n",
        "  print(f\"{people}명 가격은 {people*10000}원 입니다.\")\n",
        "\n",
        "# 조조 할인 가격\n",
        "def price_morning(people):\n",
        "  print(f\"{people}명 조조 할인 가격은 {people*6000}원 입니다.\")\n",
        "\n",
        "# 군인 할인 가격\n",
        "def price_soldier(people):\n",
        "  print(f\"{people}명 군인 할인 가격은 {people*4000}원 입니다.\")"
      ],
      "metadata": {
        "id": "dZxHgMShbUUX"
      },
      "execution_count": 230,
      "outputs": []
    },
    {
      "cell_type": "code",
      "source": [
        "# 구글 코랩에서는 특별한 과정을 거쳐서 모듈을 생성할 수 있다.\n",
        "\n",
        "import os\n",
        "\n",
        "module_directory = \"/content/modules\"\n",
        "if not os.path.exists(module_directory):\n",
        "    os.makedirs(module_directory)\n",
        "\n",
        "# 저장하기 위한 내용\n",
        "module_code = '''\n",
        "# 일반가격\n",
        "def price(people):\n",
        "    print(f\"{people}명 가격은 {people * 10000}원 입니다.\")\n",
        "\n",
        "# 조조 할인 가격\n",
        "def price_morning(people):\n",
        "    print(f\"{people}명 조조 할인 가격은 {people * 6000}원 입니다.\")\n",
        "\n",
        "# 군인 할인 가격\n",
        "def price_soldier(people):\n",
        "    print(f\"{people}명 군인 할인 가격은 {people * 4000}원 입니다.\")\n",
        "'''\n",
        "\n",
        "# 모듈 저장 및 쓰기모드로 작성\n",
        "module_filename = \"/content/modules/theater_module.py\"\n",
        "with open(module_filename, \"w\") as file:\n",
        "    file.write(module_code)\n",
        "\n",
        "# 모듈 출력 메세지\n",
        "print(f\"모듈 파일 {module_filename}이 생성되었습니다.\")\n",
        "\n"
      ],
      "metadata": {
        "colab": {
          "base_uri": "https://localhost:8080/"
        },
        "id": "SgTlM9mDbUcI",
        "outputId": "dd97d6e0-2098-4152-dd55-07c34940c16d"
      },
      "execution_count": 231,
      "outputs": [
        {
          "output_type": "stream",
          "name": "stdout",
          "text": [
            "모듈 파일 /content/modules/theater_module.py이 생성되었습니다.\n"
          ]
        }
      ]
    },
    {
      "cell_type": "code",
      "source": [
        "import sys\n",
        "sys.path.append(\"/content/modules\") # 모듈 파일 경로 추가해줘야\n",
        "\n",
        "import theater_module as mv # 그냥 편하게 일단 mv라 함\n",
        "mv.price(3)\n",
        "mv.price_morning(4)\n",
        "mv.price_soldier(5)"
      ],
      "metadata": {
        "colab": {
          "base_uri": "https://localhost:8080/"
        },
        "id": "1CjGZbL4bUj9",
        "outputId": "e85f5c54-b2d6-4785-fdd5-d3fd26b4032f"
      },
      "execution_count": 232,
      "outputs": [
        {
          "output_type": "stream",
          "name": "stdout",
          "text": [
            "3명 가격은 30000원 입니다.\n",
            "4명 조조 할인 가격은 24000원 입니다.\n",
            "5명 군인 할인 가격은 20000원 입니다.\n"
          ]
        }
      ]
    },
    {
      "cell_type": "code",
      "source": [
        "# 다른 방법\n",
        "from theater_module import * # 모듈 이름 없이 메소드를 사용할 수 있음\n",
        "price(3)\n",
        "price_morning(4)\n",
        "price_soldier(5)"
      ],
      "metadata": {
        "colab": {
          "base_uri": "https://localhost:8080/"
        },
        "id": "J6SIdgzBtI8B",
        "outputId": "a27e27b4-2164-4567-9cba-dc8f7e5b7cf0"
      },
      "execution_count": 233,
      "outputs": [
        {
          "output_type": "stream",
          "name": "stdout",
          "text": [
            "3명 가격은 30000원 입니다.\n",
            "4명 조조 할인 가격은 24000원 입니다.\n",
            "5명 군인 할인 가격은 20000원 입니다.\n"
          ]
        }
      ]
    },
    {
      "cell_type": "code",
      "source": [
        "# 다른 방법\n",
        "from theater_module import price,price_morning # 원하는 함수만 호출해서 사용할 수 있음\n",
        "price(3)\n",
        "price_morning(4)"
      ],
      "metadata": {
        "colab": {
          "base_uri": "https://localhost:8080/"
        },
        "id": "J5KmGcPutJC8",
        "outputId": "ac236fa9-3024-44db-8224-044137200855"
      },
      "execution_count": 234,
      "outputs": [
        {
          "output_type": "stream",
          "name": "stdout",
          "text": [
            "3명 가격은 30000원 입니다.\n",
            "4명 조조 할인 가격은 24000원 입니다.\n"
          ]
        }
      ]
    },
    {
      "cell_type": "markdown",
      "source": [
        "패키지"
      ],
      "metadata": {
        "id": "Wfb3WDjOzyrV"
      }
    },
    {
      "cell_type": "code",
      "source": [
        "# 패키지? <<<<<< 모듈들을 모아놓은 집합\n",
        "import os\n",
        "\n",
        "module_directory = \"/content/travel\" # 패키지 생성해줘야 함\n",
        "if not os.path.exists(module_directory):\n",
        "    os.makedirs(module_directory)"
      ],
      "metadata": {
        "id": "O9Kz2YAytJO8"
      },
      "execution_count": 235,
      "outputs": []
    },
    {
      "cell_type": "code",
      "source": [
        "# 하나의 함수만 사용하고 싶다면?\n",
        "from theater_module import price_soldier as price # 메소를 편리하게 이름을 작성해서 사용할 수 있음\n",
        "price(5)"
      ],
      "metadata": {
        "colab": {
          "base_uri": "https://localhost:8080/"
        },
        "id": "YMHyDQgAtJJH",
        "outputId": "8ee50d64-3fc3-4570-f223-a14a497fe27d"
      },
      "execution_count": 236,
      "outputs": [
        {
          "output_type": "stream",
          "name": "stdout",
          "text": [
            "5명 군인 할인 가격은 20000원 입니다.\n"
          ]
        }
      ]
    },
    {
      "cell_type": "code",
      "source": [
        "# __init__.py 파일 만들기\n",
        "\n",
        "module_code = '''\n",
        "__all__ = ['Thailand', 'Vietnam']\n",
        "'''\n",
        "\n",
        "module_filename = os.path.join(module_directory, \"__init__.py\")\n",
        "with open(module_filename, \"w\") as file:\n",
        "    file.write(module_code)\n"
      ],
      "metadata": {
        "id": "YYZr9znYtJiS"
      },
      "execution_count": 252,
      "outputs": []
    },
    {
      "cell_type": "code",
      "source": [
        "# 타일랜드 패키지 모듈 만들기\n",
        "\n",
        "module_code = '''\n",
        "class ThailandPackage:\n",
        "  def detail(self):\n",
        "    print(\"[태국 패키지 3박 5일] 방콕, 파타야 여행 (야시장 투어) 50만원\")\n",
        "'''\n",
        "\n",
        "module_filename = \"/content/travel/Thailand.py\"\n",
        "with open(module_filename, \"w\") as file:\n",
        "    file.write(module_code)\n",
        "\n",
        "print(f\"모듈 파일 {module_filename}이 생성되었습니다.\")\n",
        "\n"
      ],
      "metadata": {
        "colab": {
          "base_uri": "https://localhost:8080/"
        },
        "id": "9SWNCKZCtJUd",
        "outputId": "0222e078-c35d-443d-e06c-7911acd8275d"
      },
      "execution_count": 253,
      "outputs": [
        {
          "output_type": "stream",
          "name": "stdout",
          "text": [
            "모듈 파일 /content/travel/Thailand.py이 생성되었습니다.\n"
          ]
        }
      ]
    },
    {
      "cell_type": "code",
      "source": [
        "# 베트남 패키지 모듈 만들기\n",
        "\n",
        "module_code = '''\n",
        "class VietnamPackage:\n",
        "  def detail(self):\n",
        "    print(\"[베트남 패키지 3박 5일] 다낭 효도 여행 60만\")\n",
        "'''\n",
        "\n",
        "module_filename = \"/content/travel/Vietnam.py\"\n",
        "with open(module_filename, \"w\") as file:\n",
        "    file.write(module_code)\n",
        "\n",
        "print(f\"모듈 파일 {module_filename}이 생성되었습니다.\")\n"
      ],
      "metadata": {
        "colab": {
          "base_uri": "https://localhost:8080/"
        },
        "id": "8ROqP_BFtJbW",
        "outputId": "23ba461d-a7ed-4e22-bd5e-cb6abd7b9b52"
      },
      "execution_count": 254,
      "outputs": [
        {
          "output_type": "stream",
          "name": "stdout",
          "text": [
            "모듈 파일 /content/travel/Vietnam.py이 생성되었습니다.\n"
          ]
        }
      ]
    },
    {
      "cell_type": "code",
      "source": [
        "# 패키지 사용해보기\n",
        "import travel.Thailand # 여기서 클래스를 바로 임포트 하는것은 불가능\n",
        "trip_to = travel.Thailand.ThailandPackage()\n",
        "trip_to.detail()"
      ],
      "metadata": {
        "colab": {
          "base_uri": "https://localhost:8080/"
        },
        "id": "3wDCxa1rtJpf",
        "outputId": "c5e07251-1e1c-48e7-d980-697955ee33bb"
      },
      "execution_count": 255,
      "outputs": [
        {
          "output_type": "stream",
          "name": "stdout",
          "text": [
            "[태국 패키지 3박 5일] 방콕, 파타야 여행 (야시장 투어) 50만원\n"
          ]
        }
      ]
    },
    {
      "cell_type": "code",
      "source": [
        "# 단 from을 이용하면 패키지를 임포트 할 수 있음\n",
        "from travel.Thailand import ThailandPackage\n",
        "trip_to = ThailandPackage()\n",
        "trip_to.detail()\n"
      ],
      "metadata": {
        "colab": {
          "base_uri": "https://localhost:8080/"
        },
        "id": "UmOGXBn_tJvW",
        "outputId": "3fd22724-ac27-475a-ed05-92b5dac9b196"
      },
      "execution_count": 256,
      "outputs": [
        {
          "output_type": "stream",
          "name": "stdout",
          "text": [
            "[태국 패키지 3박 5일] 방콕, 파타야 여행 (야시장 투어) 50만원\n"
          ]
        }
      ]
    },
    {
      "cell_type": "code",
      "source": [
        "# 베트남 모듈 사용해보기\n",
        "from travel import Vietnam # 트래벌 패키지에 있는 베트남 모듈을 호출 하기\n",
        "trip_to = Vietnam.VietnamPackage()\n",
        "trip_to.detail()"
      ],
      "metadata": {
        "colab": {
          "base_uri": "https://localhost:8080/"
        },
        "id": "IRooFg0e3zwX",
        "outputId": "46100657-0b6f-4ac3-8000-a07b89e40653"
      },
      "execution_count": 257,
      "outputs": [
        {
          "output_type": "stream",
          "name": "stdout",
          "text": [
            "[베트남 패키지 3박 5일] 다낭 효도 여행 60만\n"
          ]
        }
      ]
    },
    {
      "cell_type": "code",
      "source": [
        "# __all__<<<<<<< 무엇을 뜻할까?\n",
        "from travel import *\n",
        "# 개발자가 공개범위를 설정 해줘야 가능한것\n",
        "# 아마 디폴트로 공개된듯 하다 <<< 추가로 알아봐야 하는 상황\n",
        "trip_to = Vietnam.VietnamPackage()\n",
        "trip_to.detail()"
      ],
      "metadata": {
        "id": "QILfF6IJ3z3_",
        "colab": {
          "base_uri": "https://localhost:8080/"
        },
        "outputId": "7f426470-4924-43cb-90bd-312c0ea4b209"
      },
      "execution_count": 258,
      "outputs": [
        {
          "output_type": "stream",
          "name": "stdout",
          "text": [
            "[베트남 패키지 3박 5일] 다낭 효도 여행 60만\n"
          ]
        }
      ]
    },
    {
      "cell_type": "code",
      "source": [
        "# 패키지나 모듈을 만들때는 모듈이 잘 동작하는지 확인해 보아야함\n",
        "# 작동확인 구문 추가한 새로운 파일 덮어쓰기\n",
        "\n",
        "module_code = '''\n",
        "class ThailandPackage:\n",
        "  def detail(self):\n",
        "    print(\"[태국 패키지 3박 5일] 방콕, 파타야 여행 (야시장 투어) 50만원\")\n",
        "\n",
        "if __name__ == \"__main__\":\n",
        "  print(\"Thailand 모듈을 직접 실행\")\n",
        "  print(\"이 문장은 모듈을 직접 실행할 때만 실행돼요\")\n",
        "  trip_to = ThailandPackage()\n",
        "  trip_to.detail()\n",
        "else:\n",
        "  print(\"Thailand 외부에서 모듈 호출\")\n",
        "'''\n",
        "\n",
        "module_filename = \"/content/travel/Thailand.py\"\n",
        "with open(module_filename, \"w\") as file:\n",
        "    file.write(module_code)\n",
        "\n",
        "print(f\"모듈 파일 {module_filename}이 생성되었습니다.\")\n"
      ],
      "metadata": {
        "id": "j_Q7joTj30I9",
        "colab": {
          "base_uri": "https://localhost:8080/"
        },
        "outputId": "1b04d158-ebdd-4b02-b65b-21b5decc0f29"
      },
      "execution_count": 259,
      "outputs": [
        {
          "output_type": "stream",
          "name": "stdout",
          "text": [
            "모듈 파일 /content/travel/Thailand.py이 생성되었습니다.\n"
          ]
        }
      ]
    },
    {
      "cell_type": "code",
      "source": [
        "class ThailandPackage:\n",
        "\n",
        "  def detail(self):\n",
        "    print(\"[태국 패키지 3박 5일] 방콕, 파타야 여행 (야시장 투어) 50만원\")\n",
        "\n",
        "  if __name__ == \"__main__\":\n",
        "    print(\"Thailand 모듈을 직접 실행\")\n",
        "    print(\"이 문장은 모듈을 직접 실행할 때만 실행돼요\")\n",
        "    trip_to = ThailandPackage()\n",
        "    trip_to.detail()\n",
        "  else:\n",
        "    print(\"Thailand 외부에서 모듈 호출\")\n"
      ],
      "metadata": {
        "id": "NGK2nhMF30AT",
        "colab": {
          "base_uri": "https://localhost:8080/"
        },
        "outputId": "a2a8aa17-8c10-41c6-beed-1e34c622b80f"
      },
      "execution_count": 260,
      "outputs": [
        {
          "output_type": "stream",
          "name": "stdout",
          "text": [
            "Thailand 모듈을 직접 실행\n",
            "이 문장은 모듈을 직접 실행할 때만 실행돼요\n",
            "[태국 패키지 3박 5일] 방콕, 파타야 여행 (야시장 투어) 50만원\n"
          ]
        }
      ]
    },
    {
      "cell_type": "code",
      "source": [
        "# 위쪽과 타일랜드 호출 차이 보기\n",
        "# 코랩에서는 작동방식이 달라서 확인 되진 않\n",
        "\n",
        "import travel.Thailand # 여기서 클래스를 바로 임포트 하는것은 불가능\n",
        "trip_to = travel.Thailand.ThailandPackage()\n",
        "trip_to.detail()"
      ],
      "metadata": {
        "id": "ONvpxt8T30QU",
        "colab": {
          "base_uri": "https://localhost:8080/"
        },
        "outputId": "8697b1af-714d-4fea-bf4c-1dab3c612292"
      },
      "execution_count": 261,
      "outputs": [
        {
          "output_type": "stream",
          "name": "stdout",
          "text": [
            "[태국 패키지 3박 5일] 방콕, 파타야 여행 (야시장 투어) 50만원\n"
          ]
        }
      ]
    },
    {
      "cell_type": "code",
      "source": [
        "# 모듈이 어디의 위치에 있는지 확인해보기\n",
        "\n",
        "import inspect\n",
        "import random\n",
        "print(inspect.getfile(random))"
      ],
      "metadata": {
        "id": "nqqcrrqa30bL",
        "colab": {
          "base_uri": "https://localhost:8080/"
        },
        "outputId": "14dbad88-04e0-429b-e8f8-2ee4c0fad022"
      },
      "execution_count": 262,
      "outputs": [
        {
          "output_type": "stream",
          "name": "stdout",
          "text": [
            "/usr/lib/python3.10/random.py\n"
          ]
        }
      ]
    },
    {
      "cell_type": "code",
      "source": [
        "# 그러면 내가 만든 모듈의 위치는 어디일까?\n",
        "import inspect\n",
        "import travel\n",
        "\n",
        "print(inspect.getfile(Thailand))\n",
        "# 내가 만든 패키지나 모듈을 경로에 맞게 옮기면 같이 사용할 수 있겠구나"
      ],
      "metadata": {
        "id": "eAQbWSsA30ki",
        "colab": {
          "base_uri": "https://localhost:8080/"
        },
        "outputId": "5489e35d-e1af-4e3f-e15a-401907fbf2d3"
      },
      "execution_count": 263,
      "outputs": [
        {
          "output_type": "stream",
          "name": "stdout",
          "text": [
            "/content/travel/Thailand.py\n"
          ]
        }
      ]
    },
    {
      "cell_type": "code",
      "source": [
        "# pip로 패키지 설치하기 <<<<  ! 꼭 붙여야함\n",
        "# 지금도 이미 수많은 패키지가 존재하고, 지금도 누군가 새로운 패키지를 만들고 있다\n",
        "# 다른사람이 만들어둔 패키지를 잘 이용하는것도 능력\n",
        "\n",
        "!pip install beautifulsoup # 코랩에서 설치해보기"
      ],
      "metadata": {
        "id": "5fyIRLu430rP",
        "colab": {
          "base_uri": "https://localhost:8080/"
        },
        "outputId": "371fb7a0-b4f7-4542-f934-de770a283c36"
      },
      "execution_count": 264,
      "outputs": [
        {
          "output_type": "stream",
          "name": "stdout",
          "text": [
            "Collecting beautifulsoup\n",
            "  Downloading BeautifulSoup-3.2.2.tar.gz (32 kB)\n",
            "  \u001b[1;31merror\u001b[0m: \u001b[1msubprocess-exited-with-error\u001b[0m\n",
            "  \n",
            "  \u001b[31m×\u001b[0m \u001b[32mpython setup.py egg_info\u001b[0m did not run successfully.\n",
            "  \u001b[31m│\u001b[0m exit code: \u001b[1;36m1\u001b[0m\n",
            "  \u001b[31m╰─>\u001b[0m See above for output.\n",
            "  \n",
            "  \u001b[1;35mnote\u001b[0m: This error originates from a subprocess, and is likely not a problem with pip.\n",
            "  Preparing metadata (setup.py) ... \u001b[?25l\u001b[?25herror\n",
            "\u001b[1;31merror\u001b[0m: \u001b[1mmetadata-generation-failed\u001b[0m\n",
            "\n",
            "\u001b[31m×\u001b[0m Encountered error while generating package metadata.\n",
            "\u001b[31m╰─>\u001b[0m See above for output.\n",
            "\n",
            "\u001b[1;35mnote\u001b[0m: This is an issue with the package mentioned above, not pip.\n",
            "\u001b[1;36mhint\u001b[0m: See above for details.\n"
          ]
        }
      ]
    },
    {
      "cell_type": "code",
      "source": [
        "# 현재 설치되어있는 패키지들의 이름들을 볼 수 있다\n",
        "!pip list # 코랩에서는 !를 사용해 주어야"
      ],
      "metadata": {
        "colab": {
          "base_uri": "https://localhost:8080/"
        },
        "id": "UmeWXZn4BLEN",
        "outputId": "00d0ef31-b0ae-4bf0-f8a3-f17ce9e024f3"
      },
      "execution_count": 265,
      "outputs": [
        {
          "output_type": "stream",
          "name": "stdout",
          "text": [
            "Package                          Version\n",
            "-------------------------------- ---------------------\n",
            "absl-py                          1.4.0\n",
            "accelerate                       0.32.1\n",
            "aiohappyeyeballs                 2.3.5\n",
            "aiohttp                          3.10.2\n",
            "aiosignal                        1.3.1\n",
            "alabaster                        0.7.16\n",
            "albucore                         0.0.13\n",
            "albumentations                   1.4.13\n",
            "altair                           4.2.2\n",
            "annotated-types                  0.7.0\n",
            "anyio                            3.7.1\n",
            "argon2-cffi                      23.1.0\n",
            "argon2-cffi-bindings             21.2.0\n",
            "array_record                     0.5.1\n",
            "arviz                            0.18.0\n",
            "asn1crypto                       1.5.1\n",
            "astropy                          6.1.2\n",
            "astropy-iers-data                0.2024.8.5.0.32.23\n",
            "astunparse                       1.6.3\n",
            "async-timeout                    4.0.3\n",
            "atpublic                         4.1.0\n",
            "attrs                            24.2.0\n",
            "audioread                        3.0.1\n",
            "autograd                         1.6.2\n",
            "babel                            2.16.0\n",
            "backcall                         0.2.0\n",
            "beautifulsoup4                   4.12.3\n",
            "bidict                           0.23.1\n",
            "bigframes                        1.13.0\n",
            "bleach                           6.1.0\n",
            "blinker                          1.4\n",
            "blis                             0.7.11\n",
            "blosc2                           2.0.0\n",
            "bokeh                            3.4.3\n",
            "bqplot                           0.12.43\n",
            "branca                           0.7.2\n",
            "build                            1.2.1\n",
            "CacheControl                     0.14.0\n",
            "cachetools                       5.4.0\n",
            "catalogue                        2.0.10\n",
            "certifi                          2024.7.4\n",
            "cffi                             1.17.0\n",
            "chardet                          5.2.0\n",
            "charset-normalizer               3.3.2\n",
            "chex                             0.1.86\n",
            "clarabel                         0.9.0\n",
            "click                            8.1.7\n",
            "click-plugins                    1.1.1\n",
            "cligj                            0.7.2\n",
            "cloudpathlib                     0.18.1\n",
            "cloudpickle                      2.2.1\n",
            "cmake                            3.30.2\n",
            "cmdstanpy                        1.2.4\n",
            "colorcet                         3.1.0\n",
            "colorlover                       0.3.0\n",
            "colour                           0.1.5\n",
            "community                        1.0.0b1\n",
            "confection                       0.1.5\n",
            "cons                             0.4.6\n",
            "contextlib2                      21.6.0\n",
            "contourpy                        1.2.1\n",
            "cryptography                     42.0.8\n",
            "cuda-python                      12.2.1\n",
            "cudf-cu12                        24.4.1\n",
            "cufflinks                        0.17.3\n",
            "cupy-cuda12x                     12.2.0\n",
            "cvxopt                           1.3.2\n",
            "cvxpy                            1.5.2\n",
            "cycler                           0.12.1\n",
            "cymem                            2.0.8\n",
            "Cython                           3.0.11\n",
            "dask                             2024.7.1\n",
            "datascience                      0.17.6\n",
            "db-dtypes                        1.2.0\n",
            "dbus-python                      1.2.18\n",
            "debugpy                          1.6.6\n",
            "decorator                        4.4.2\n",
            "defusedxml                       0.7.1\n",
            "distributed                      2024.7.1\n",
            "distro                           1.7.0\n",
            "dlib                             19.24.2\n",
            "dm-tree                          0.1.8\n",
            "docstring_parser                 0.16\n",
            "docutils                         0.18.1\n",
            "dopamine_rl                      4.0.9\n",
            "duckdb                           0.10.3\n",
            "earthengine-api                  0.1.415\n",
            "easydict                         1.13\n",
            "ecos                             2.0.14\n",
            "editdistance                     0.8.1\n",
            "eerepr                           0.0.4\n",
            "einops                           0.8.0\n",
            "en-core-web-sm                   3.7.1\n",
            "entrypoints                      0.4\n",
            "et-xmlfile                       1.1.0\n",
            "etils                            1.7.0\n",
            "etuples                          0.3.9\n",
            "eval_type_backport               0.2.0\n",
            "exceptiongroup                   1.2.2\n",
            "fastai                           2.7.16\n",
            "fastcore                         1.5.55\n",
            "fastdownload                     0.0.7\n",
            "fastjsonschema                   2.20.0\n",
            "fastprogress                     1.0.3\n",
            "fastrlock                        0.8.2\n",
            "filelock                         3.15.4\n",
            "fiona                            1.9.6\n",
            "firebase-admin                   6.5.0\n",
            "Flask                            2.2.5\n",
            "flatbuffers                      24.3.25\n",
            "flax                             0.8.4\n",
            "folium                           0.17.0\n",
            "fonttools                        4.53.1\n",
            "frozendict                       2.4.4\n",
            "frozenlist                       1.4.1\n",
            "fsspec                           2024.6.1\n",
            "future                           1.0.0\n",
            "gast                             0.6.0\n",
            "gcsfs                            2024.6.1\n",
            "GDAL                             3.6.4\n",
            "gdown                            5.1.0\n",
            "geemap                           0.33.1\n",
            "gensim                           4.3.3\n",
            "geocoder                         1.38.1\n",
            "geographiclib                    2.0\n",
            "geopandas                        0.14.4\n",
            "geopy                            2.4.1\n",
            "gin-config                       0.5.0\n",
            "glob2                            0.7\n",
            "google                           2.0.3\n",
            "google-ai-generativelanguage     0.6.6\n",
            "google-api-core                  2.19.1\n",
            "google-api-python-client         2.137.0\n",
            "google-auth                      2.27.0\n",
            "google-auth-httplib2             0.2.0\n",
            "google-auth-oauthlib             1.2.1\n",
            "google-cloud-aiplatform          1.59.0\n",
            "google-cloud-bigquery            3.25.0\n",
            "google-cloud-bigquery-connection 1.15.5\n",
            "google-cloud-bigquery-storage    2.25.0\n",
            "google-cloud-bigtable            2.25.0\n",
            "google-cloud-core                2.4.1\n",
            "google-cloud-datastore           2.19.0\n",
            "google-cloud-firestore           2.16.1\n",
            "google-cloud-functions           1.16.5\n",
            "google-cloud-iam                 2.15.2\n",
            "google-cloud-language            2.13.4\n",
            "google-cloud-pubsub              2.23.0\n",
            "google-cloud-resource-manager    1.12.5\n",
            "google-cloud-storage             2.8.0\n",
            "google-cloud-translate           3.15.5\n",
            "google-colab                     1.0.0\n",
            "google-crc32c                    1.5.0\n",
            "google-generativeai              0.7.2\n",
            "google-pasta                     0.2.0\n",
            "google-resumable-media           2.7.2\n",
            "googleapis-common-protos         1.63.2\n",
            "googledrivedownloader            0.4\n",
            "graphviz                         0.20.3\n",
            "greenlet                         3.0.3\n",
            "grpc-google-iam-v1               0.13.1\n",
            "grpcio                           1.64.1\n",
            "grpcio-status                    1.48.2\n",
            "gspread                          6.0.2\n",
            "gspread-dataframe                3.3.1\n",
            "gym                              0.25.2\n",
            "gym-notices                      0.0.8\n",
            "h5netcdf                         1.3.0\n",
            "h5py                             3.11.0\n",
            "holidays                         0.54\n",
            "holoviews                        1.18.3\n",
            "html5lib                         1.1\n",
            "httpimport                       1.3.1\n",
            "httplib2                         0.22.0\n",
            "huggingface-hub                  0.23.5\n",
            "humanize                         4.10.0\n",
            "hyperopt                         0.2.7\n",
            "ibis-framework                   8.0.0\n",
            "idna                             3.7\n",
            "imageio                          2.34.2\n",
            "imageio-ffmpeg                   0.5.1\n",
            "imagesize                        1.4.1\n",
            "imbalanced-learn                 0.12.3\n",
            "imgaug                           0.4.0\n",
            "immutabledict                    4.2.0\n",
            "importlib_metadata               8.2.0\n",
            "importlib_resources              6.4.0\n",
            "imutils                          0.5.4\n",
            "inflect                          7.3.1\n",
            "iniconfig                        2.0.0\n",
            "intel-cmplr-lib-ur               2024.2.1\n",
            "intel-openmp                     2024.2.1\n",
            "ipyevents                        2.0.2\n",
            "ipyfilechooser                   0.6.0\n",
            "ipykernel                        5.5.6\n",
            "ipyleaflet                       0.18.2\n",
            "ipyparallel                      8.8.0\n",
            "ipython                          7.34.0\n",
            "ipython-genutils                 0.2.0\n",
            "ipython-sql                      0.5.0\n",
            "ipytree                          0.2.2\n",
            "ipywidgets                       7.7.1\n",
            "itsdangerous                     2.2.0\n",
            "jax                              0.4.26\n",
            "jaxlib                           0.4.26+cuda12.cudnn89\n",
            "jeepney                          0.7.1\n",
            "jellyfish                        1.1.0\n",
            "jieba                            0.42.1\n",
            "Jinja2                           3.1.4\n",
            "joblib                           1.4.2\n",
            "jsonpickle                       3.2.2\n",
            "jsonschema                       4.23.0\n",
            "jsonschema-specifications        2023.12.1\n",
            "jupyter-client                   6.1.12\n",
            "jupyter-console                  6.1.0\n",
            "jupyter_core                     5.7.2\n",
            "jupyter-server                   1.24.0\n",
            "jupyterlab_pygments              0.3.0\n",
            "jupyterlab_widgets               3.0.11\n",
            "kaggle                           1.6.17\n",
            "kagglehub                        0.2.9\n",
            "keras                            3.4.1\n",
            "keyring                          23.5.0\n",
            "kiwisolver                       1.4.5\n",
            "langcodes                        3.4.0\n",
            "language_data                    1.2.0\n",
            "launchpadlib                     1.10.16\n",
            "lazr.restfulclient               0.14.4\n",
            "lazr.uri                         1.0.6\n",
            "lazy_loader                      0.4\n",
            "libclang                         18.1.1\n",
            "librosa                          0.10.2.post1\n",
            "lightgbm                         4.4.0\n",
            "linkify-it-py                    2.0.3\n",
            "llvmlite                         0.43.0\n",
            "locket                           1.0.0\n",
            "logical-unification              0.4.6\n",
            "lxml                             4.9.4\n",
            "malloy                           2024.1089\n",
            "marisa-trie                      1.2.0\n",
            "Markdown                         3.6\n",
            "markdown-it-py                   3.0.0\n",
            "MarkupSafe                       2.1.5\n",
            "matplotlib                       3.7.1\n",
            "matplotlib-inline                0.1.7\n",
            "matplotlib-venn                  0.11.10\n",
            "mdit-py-plugins                  0.4.1\n",
            "mdurl                            0.1.2\n",
            "miniKanren                       1.0.3\n",
            "missingno                        0.5.2\n",
            "mistune                          0.8.4\n",
            "mizani                           0.9.3\n",
            "mkl                              2024.2.1\n",
            "ml-dtypes                        0.4.0\n",
            "mlxtend                          0.23.1\n",
            "more-itertools                   10.3.0\n",
            "moviepy                          1.0.3\n",
            "mpmath                           1.3.0\n",
            "msgpack                          1.0.8\n",
            "multidict                        6.0.5\n",
            "multipledispatch                 1.0.0\n",
            "multitasking                     0.0.11\n",
            "murmurhash                       1.0.10\n",
            "music21                          9.1.0\n",
            "namex                            0.0.8\n",
            "natsort                          8.4.0\n",
            "nbclassic                        1.1.0\n",
            "nbclient                         0.10.0\n",
            "nbconvert                        6.5.4\n",
            "nbformat                         5.10.4\n",
            "nest-asyncio                     1.6.0\n",
            "networkx                         3.3\n",
            "nibabel                          5.0.1\n",
            "nltk                             3.8.1\n",
            "notebook                         6.5.5\n",
            "notebook_shim                    0.2.4\n",
            "numba                            0.60.0\n",
            "numexpr                          2.10.1\n",
            "numpy                            1.26.4\n",
            "nvtx                             0.2.10\n",
            "oauth2client                     4.1.3\n",
            "oauthlib                         3.2.2\n",
            "opencv-contrib-python            4.10.0.84\n",
            "opencv-python                    4.10.0.84\n",
            "opencv-python-headless           4.10.0.84\n",
            "openpyxl                         3.1.5\n",
            "opt-einsum                       3.3.0\n",
            "optax                            0.2.2\n",
            "optree                           0.12.1\n",
            "orbax-checkpoint                 0.5.23\n",
            "osqp                             0.6.7.post0\n",
            "packaging                        24.1\n",
            "pandas                           2.1.4\n",
            "pandas-datareader                0.10.0\n",
            "pandas-gbq                       0.23.1\n",
            "pandas-stubs                     2.1.4.231227\n",
            "pandocfilters                    1.5.1\n",
            "panel                            1.4.5\n",
            "param                            2.1.1\n",
            "parso                            0.8.4\n",
            "parsy                            2.1\n",
            "partd                            1.4.2\n",
            "pathlib                          1.0.1\n",
            "patsy                            0.5.6\n",
            "peewee                           3.17.6\n",
            "pexpect                          4.9.0\n",
            "pickleshare                      0.7.5\n",
            "Pillow                           9.4.0\n",
            "pip                              24.1.2\n",
            "pip-tools                        7.4.1\n",
            "platformdirs                     4.2.2\n",
            "plotly                           5.15.0\n",
            "plotnine                         0.12.4\n",
            "pluggy                           1.5.0\n",
            "polars                           0.20.2\n",
            "pooch                            1.8.2\n",
            "portpicker                       1.5.2\n",
            "prefetch_generator               1.0.3\n",
            "preshed                          3.0.9\n",
            "prettytable                      3.10.2\n",
            "proglog                          0.1.10\n",
            "progressbar2                     4.2.0\n",
            "prometheus_client                0.20.0\n",
            "promise                          2.3\n",
            "prompt_toolkit                   3.0.47\n",
            "prophet                          1.1.5\n",
            "proto-plus                       1.24.0\n",
            "protobuf                         3.20.3\n",
            "psutil                           5.9.5\n",
            "psycopg2                         2.9.9\n",
            "ptyprocess                       0.7.0\n",
            "py-cpuinfo                       9.0.0\n",
            "py4j                             0.10.9.7\n",
            "pyarrow                          14.0.2\n",
            "pyarrow-hotfix                   0.6\n",
            "pyasn1                           0.6.0\n",
            "pyasn1_modules                   0.4.0\n",
            "pycocotools                      2.0.8\n",
            "pycparser                        2.22\n",
            "pydantic                         2.8.2\n",
            "pydantic_core                    2.20.1\n",
            "pydata-google-auth               1.8.2\n",
            "pydot                            1.4.2\n",
            "pydot-ng                         2.0.0\n",
            "pydotplus                        2.0.2\n",
            "PyDrive                          1.3.1\n",
            "PyDrive2                         1.6.3\n",
            "pyerfa                           2.0.1.4\n",
            "pygame                           2.6.0\n",
            "Pygments                         2.16.1\n",
            "PyGObject                        3.42.1\n",
            "PyJWT                            2.9.0\n",
            "pymc                             5.10.4\n",
            "pymystem3                        0.2.0\n",
            "pynvjitlink-cu12                 0.3.0\n",
            "PyOpenGL                         3.1.7\n",
            "pyOpenSSL                        24.2.1\n",
            "pyparsing                        3.1.2\n",
            "pyperclip                        1.9.0\n",
            "pyproj                           3.6.1\n",
            "pyproject_hooks                  1.1.0\n",
            "pyshp                            2.3.1\n",
            "PySocks                          1.7.1\n",
            "pytensor                         2.18.6\n",
            "pytest                           7.4.4\n",
            "python-apt                       2.4.0\n",
            "python-box                       7.2.0\n",
            "python-dateutil                  2.8.2\n",
            "python-louvain                   0.16\n",
            "python-slugify                   8.0.4\n",
            "python-utils                     3.8.2\n",
            "pytz                             2024.1\n",
            "pyviz_comms                      3.0.3\n",
            "PyYAML                           6.0.2\n",
            "pyzmq                            24.0.1\n",
            "qdldl                            0.1.7.post4\n",
            "ratelim                          0.1.6\n",
            "referencing                      0.35.1\n",
            "regex                            2024.5.15\n",
            "requests                         2.32.3\n",
            "requests-oauthlib                1.3.1\n",
            "requirements-parser              0.9.0\n",
            "rich                             13.7.1\n",
            "rmm-cu12                         24.4.0\n",
            "rpds-py                          0.20.0\n",
            "rpy2                             3.4.2\n",
            "rsa                              4.9\n",
            "safetensors                      0.4.4\n",
            "scikit-image                     0.23.2\n",
            "scikit-learn                     1.3.2\n",
            "scipy                            1.13.1\n",
            "scooby                           0.10.0\n",
            "scs                              3.2.6\n",
            "seaborn                          0.13.1\n",
            "SecretStorage                    3.3.1\n",
            "Send2Trash                       1.8.3\n",
            "sentencepiece                    0.1.99\n",
            "setuptools                       71.0.4\n",
            "shapely                          2.0.5\n",
            "shellingham                      1.5.4\n",
            "simple_parsing                   0.1.5\n",
            "six                              1.16.0\n",
            "sklearn-pandas                   2.2.0\n",
            "smart-open                       7.0.4\n",
            "sniffio                          1.3.1\n",
            "snowballstemmer                  2.2.0\n",
            "snowflake-connector-python       3.12.0\n",
            "sortedcontainers                 2.4.0\n",
            "soundfile                        0.12.1\n",
            "soupsieve                        2.5\n",
            "soxr                             0.4.0\n",
            "spacy                            3.7.5\n",
            "spacy-legacy                     3.0.12\n",
            "spacy-loggers                    1.0.5\n",
            "Sphinx                           5.0.2\n",
            "sphinxcontrib-applehelp          2.0.0\n",
            "sphinxcontrib-devhelp            2.0.0\n",
            "sphinxcontrib-htmlhelp           2.1.0\n",
            "sphinxcontrib-jsmath             1.0.1\n",
            "sphinxcontrib-qthelp             2.0.0\n",
            "sphinxcontrib-serializinghtml    2.0.0\n",
            "SQLAlchemy                       2.0.32\n",
            "sqlglot                          20.11.0\n",
            "sqlparse                         0.5.1\n",
            "srsly                            2.4.8\n",
            "stanio                           0.5.1\n",
            "statsmodels                      0.14.2\n",
            "StrEnum                          0.4.15\n",
            "sympy                            1.13.1\n",
            "tables                           3.8.0\n",
            "tabulate                         0.9.0\n",
            "tbb                              2021.13.1\n",
            "tblib                            3.0.0\n",
            "tenacity                         9.0.0\n",
            "tensorboard                      2.17.0\n",
            "tensorboard-data-server          0.7.2\n",
            "tensorflow                       2.17.0\n",
            "tensorflow-datasets              4.9.6\n",
            "tensorflow-hub                   0.16.1\n",
            "tensorflow-io-gcs-filesystem     0.37.1\n",
            "tensorflow-metadata              1.15.0\n",
            "tensorflow-probability           0.24.0\n",
            "tensorstore                      0.1.64\n",
            "termcolor                        2.4.0\n",
            "terminado                        0.18.1\n",
            "text-unidecode                   1.3\n",
            "textblob                         0.17.1\n",
            "tf_keras                         2.17.0\n",
            "tf-slim                          1.1.0\n",
            "thinc                            8.2.5\n",
            "threadpoolctl                    3.5.0\n",
            "tifffile                         2024.7.24\n",
            "tinycss2                         1.3.0\n",
            "tokenizers                       0.19.1\n",
            "toml                             0.10.2\n",
            "tomli                            2.0.1\n",
            "tomlkit                          0.13.0\n",
            "toolz                            0.12.1\n",
            "torch                            2.3.1+cu121\n",
            "torchaudio                       2.3.1+cu121\n",
            "torchsummary                     1.5.1\n",
            "torchtext                        0.18.0\n",
            "torchvision                      0.18.1+cu121\n",
            "tornado                          6.3.3\n",
            "tqdm                             4.66.5\n",
            "traitlets                        5.7.1\n",
            "traittypes                       0.2.1\n",
            "transformers                     4.42.4\n",
            "triton                           2.3.1\n",
            "tweepy                           4.14.0\n",
            "typeguard                        4.3.0\n",
            "typer                            0.12.3\n",
            "types-pytz                       2024.1.0.20240417\n",
            "types-setuptools                 71.1.0.20240813\n",
            "typing_extensions                4.12.2\n",
            "tzdata                           2024.1\n",
            "tzlocal                          5.2\n",
            "uc-micro-py                      1.0.3\n",
            "uritemplate                      4.1.1\n",
            "urllib3                          2.0.7\n",
            "vega-datasets                    0.9.0\n",
            "wadllib                          1.3.6\n",
            "wasabi                           1.1.3\n",
            "wcwidth                          0.2.13\n",
            "weasel                           0.4.1\n",
            "webcolors                        24.6.0\n",
            "webencodings                     0.5.1\n",
            "websocket-client                 1.8.0\n",
            "Werkzeug                         3.0.3\n",
            "wheel                            0.44.0\n",
            "widgetsnbextension               3.6.8\n",
            "wordcloud                        1.9.3\n",
            "wrapt                            1.16.0\n",
            "xarray                           2024.6.0\n",
            "xarray-einstats                  0.7.0\n",
            "xgboost                          2.1.1\n",
            "xlrd                             2.0.1\n",
            "xyzservices                      2024.6.0\n",
            "yarl                             1.9.4\n",
            "yellowbrick                      1.5\n",
            "yfinance                         0.2.41\n",
            "zict                             3.0.0\n",
            "zipp                             3.19.2\n"
          ]
        }
      ]
    },
    {
      "cell_type": "code",
      "source": [
        "# 내장 함수 <<<< 이미 import되어 따로 불러올 필요가 없는 함수\n",
        "\n",
        "# 예\n",
        "# input : 사용자 입력을 받는 함수\n",
        "# dir : 어떤 객체를 넘겨줬을 때 그 객체가 어떤 변수와 함수를 가지고 있는지 표시\n",
        "\n",
        "print(dir())\n",
        "import random # 외장 함수\n",
        "print(dir(random))\n",
        "import pickle\n",
        "print(dir(pickle))\n"
      ],
      "metadata": {
        "colab": {
          "base_uri": "https://localhost:8080/"
        },
        "id": "MXp1ADDCBLKJ",
        "outputId": "1b052a3b-b678-4c29-962c-fedcef5d4b53"
      },
      "execution_count": 266,
      "outputs": [
        {
          "output_type": "stream",
          "name": "stdout",
          "text": [
            "['AttackUnit', 'BighNumberError', 'BuildingUnit', 'Flyable', 'FlyableAttackUnit', 'FlyableUnit', 'In', 'Marine', 'Out', 'Random', 'SystemRandom', 'Tank', 'Thailand', 'ThailandPackage', 'Unit', 'Vietnam', 'Wraith', '_', '_187', '_197', '__', '___', '__builtin__', '__builtins__', '__doc__', '__loader__', '__name__', '__package__', '__spec__', '_dh', '_exit_code', '_i', '_i1', '_i10', '_i100', '_i101', '_i102', '_i103', '_i104', '_i105', '_i106', '_i107', '_i108', '_i109', '_i11', '_i110', '_i111', '_i112', '_i113', '_i114', '_i115', '_i116', '_i117', '_i118', '_i119', '_i12', '_i120', '_i121', '_i122', '_i123', '_i124', '_i125', '_i126', '_i127', '_i128', '_i129', '_i13', '_i130', '_i131', '_i132', '_i133', '_i134', '_i135', '_i136', '_i137', '_i138', '_i139', '_i14', '_i140', '_i141', '_i142', '_i143', '_i144', '_i145', '_i146', '_i147', '_i148', '_i149', '_i15', '_i150', '_i151', '_i152', '_i153', '_i154', '_i155', '_i156', '_i157', '_i158', '_i159', '_i16', '_i160', '_i161', '_i162', '_i163', '_i164', '_i165', '_i166', '_i167', '_i168', '_i169', '_i17', '_i170', '_i171', '_i172', '_i173', '_i174', '_i175', '_i176', '_i177', '_i178', '_i179', '_i18', '_i180', '_i181', '_i182', '_i183', '_i184', '_i185', '_i186', '_i187', '_i188', '_i189', '_i19', '_i190', '_i191', '_i192', '_i193', '_i194', '_i195', '_i196', '_i197', '_i198', '_i199', '_i2', '_i20', '_i200', '_i201', '_i202', '_i203', '_i204', '_i205', '_i206', '_i207', '_i208', '_i209', '_i21', '_i210', '_i211', '_i212', '_i213', '_i214', '_i215', '_i216', '_i217', '_i218', '_i219', '_i22', '_i220', '_i221', '_i222', '_i223', '_i224', '_i225', '_i226', '_i227', '_i228', '_i229', '_i23', '_i230', '_i231', '_i232', '_i233', '_i234', '_i235', '_i236', '_i237', '_i238', '_i239', '_i24', '_i240', '_i241', '_i242', '_i243', '_i244', '_i245', '_i246', '_i247', '_i248', '_i249', '_i25', '_i250', '_i251', '_i252', '_i253', '_i254', '_i255', '_i256', '_i257', '_i258', '_i259', '_i26', '_i260', '_i261', '_i262', '_i263', '_i264', '_i265', '_i266', '_i27', '_i28', '_i29', '_i3', '_i30', '_i31', '_i32', '_i33', '_i34', '_i35', '_i36', '_i37', '_i38', '_i39', '_i4', '_i40', '_i41', '_i42', '_i43', '_i44', '_i45', '_i46', '_i47', '_i48', '_i49', '_i5', '_i50', '_i51', '_i52', '_i53', '_i54', '_i55', '_i56', '_i57', '_i58', '_i59', '_i6', '_i60', '_i61', '_i62', '_i63', '_i64', '_i65', '_i66', '_i67', '_i68', '_i69', '_i7', '_i70', '_i71', '_i72', '_i73', '_i74', '_i75', '_i76', '_i77', '_i78', '_i79', '_i8', '_i80', '_i81', '_i82', '_i83', '_i84', '_i85', '_i86', '_i87', '_i88', '_i89', '_i9', '_i90', '_i91', '_i92', '_i93', '_i94', '_i95', '_i96', '_i97', '_i98', '_i99', '_ih', '_ii', '_iii', '_oh', 'absent', 'age', 'animal', 'answer', 'attack', 'attack_units', 'balance', 'battlecrusier', 'betavariate', 'cabinet', 'checkpoint', 'checkpoint_ret', 'chicken', 'choice', 'choices', 'cnt', 'coffee', 'color', 'commission', 'customer', 'customers', 'damage', 'day', 'deposit', 'dropship', 'exit', 'expovariate', 'file', 'firebat1', 'game_over', 'game_start', 'gammavariate', 'gauss', 'gender', 'get_ipython', 'getrandbits', 'getstate', 'gun', 'height', 'hobby', 'hp', 'i', 'ids', 'index', 'inspect', 'is_adult', 'java', 'jumin', 'line', 'lines', 'lognormvariate', 'm1', 'm2', 'm3', 'marine1', 'marine2', 'menu', 'mix_list', 'module_code', 'module_directory', 'module_filename', 'mv', 'my_set', 'my_str', 'name', 'no_book', 'normalvariate', 'num', 'num1', 'num2', 'num_list', 'number', 'nums', 'open_account', 'os', 'paretovariate', 'password', 'person', 'pickle', 'price', 'price_morning', 'price_soldier', 'profile', 'profile_file', 'python', 'quit', 'randbytes', 'randint', 'random', 'randrange', 'report_file', 'sample', 'score', 'score_file', 'scores', 'seed', 'sentence', 'sentence2', 'sentence3', 'setstate', 'shuffle', 'starbucks', 'station', 'std_weight', 'student', 'students', 'study_file', 'subject', 'subway', 'supply_depot', 'sys', 't1', 't2', 'take_customers', 'tank', 'tank2_damage', 'tank2_hp', 'tank2_name', 'tank_damage', 'tank_hp', 'tank_name', 'temp', 'time', 'travel', 'triangular', 'trip_to', 'tup', 'uniform', 'unit', 'url', 'users', 'valkyre', 'vonmisesvariate', 'vulture', 'w1', 'wating', 'weather', 'week_file', 'weibullvariate', 'weight', 'winners', 'withdraw', 'withdraw_night', 'wraith1', 'wraith2']\n",
            "['BPF', 'LOG4', 'NV_MAGICCONST', 'RECIP_BPF', 'Random', 'SG_MAGICCONST', 'SystemRandom', 'TWOPI', '_ONE', '_Sequence', '_Set', '__all__', '__builtins__', '__cached__', '__doc__', '__file__', '__loader__', '__name__', '__package__', '__spec__', '_accumulate', '_acos', '_bisect', '_ceil', '_cos', '_e', '_exp', '_floor', '_index', '_inst', '_isfinite', '_log', '_os', '_pi', '_random', '_repeat', '_sha512', '_sin', '_sqrt', '_test', '_test_generator', '_urandom', '_warn', 'betavariate', 'choice', 'choices', 'expovariate', 'gammavariate', 'gauss', 'getrandbits', 'getstate', 'lognormvariate', 'normalvariate', 'paretovariate', 'randbytes', 'randint', 'random', 'randrange', 'sample', 'seed', 'setstate', 'shuffle', 'triangular', 'uniform', 'vonmisesvariate', 'weibullvariate']\n",
            "['ADDITEMS', 'APPEND', 'APPENDS', 'BINBYTES', 'BINBYTES8', 'BINFLOAT', 'BINGET', 'BININT', 'BININT1', 'BININT2', 'BINPERSID', 'BINPUT', 'BINSTRING', 'BINUNICODE', 'BINUNICODE8', 'BUILD', 'BYTEARRAY8', 'DEFAULT_PROTOCOL', 'DICT', 'DUP', 'EMPTY_DICT', 'EMPTY_LIST', 'EMPTY_SET', 'EMPTY_TUPLE', 'EXT1', 'EXT2', 'EXT4', 'FALSE', 'FLOAT', 'FRAME', 'FROZENSET', 'FunctionType', 'GET', 'GLOBAL', 'HIGHEST_PROTOCOL', 'INST', 'INT', 'LIST', 'LONG', 'LONG1', 'LONG4', 'LONG_BINGET', 'LONG_BINPUT', 'MARK', 'MEMOIZE', 'NEWFALSE', 'NEWOBJ', 'NEWOBJ_EX', 'NEWTRUE', 'NEXT_BUFFER', 'NONE', 'OBJ', 'PERSID', 'POP', 'POP_MARK', 'PROTO', 'PUT', 'PickleBuffer', 'PickleError', 'Pickler', 'PicklingError', 'PyStringMap', 'READONLY_BUFFER', 'REDUCE', 'SETITEM', 'SETITEMS', 'SHORT_BINBYTES', 'SHORT_BINSTRING', 'SHORT_BINUNICODE', 'STACK_GLOBAL', 'STOP', 'STRING', 'TRUE', 'TUPLE', 'TUPLE1', 'TUPLE2', 'TUPLE3', 'UNICODE', 'Unpickler', 'UnpicklingError', '_Framer', '_HAVE_PICKLE_BUFFER', '_Pickler', '_Stop', '_Unframer', '_Unpickler', '__all__', '__builtins__', '__cached__', '__doc__', '__file__', '__loader__', '__name__', '__package__', '__spec__', '_compat_pickle', '_dump', '_dumps', '_extension_cache', '_extension_registry', '_getattribute', '_inverted_registry', '_load', '_loads', '_test', '_tuplesize2code', 'bytes_types', 'codecs', 'compatible_formats', 'decode_long', 'dispatch_table', 'dump', 'dumps', 'encode_long', 'format_version', 'io', 'islice', 'load', 'loads', 'maxsize', 'pack', 'partial', 're', 'sys', 'unpack', 'whichmodule']\n"
          ]
        }
      ]
    },
    {
      "cell_type": "code",
      "source": [
        "# 리스트가 사용할 수 있는것들은 뭘까\n",
        "lst = [1,2,3]\n",
        "print(dir(lst))"
      ],
      "metadata": {
        "colab": {
          "base_uri": "https://localhost:8080/"
        },
        "id": "ntO2v9O_BLOO",
        "outputId": "4e534127-8174-483c-f679-5dd916ddb1d0"
      },
      "execution_count": 267,
      "outputs": [
        {
          "output_type": "stream",
          "name": "stdout",
          "text": [
            "['__add__', '__class__', '__class_getitem__', '__contains__', '__delattr__', '__delitem__', '__dir__', '__doc__', '__eq__', '__format__', '__ge__', '__getattribute__', '__getitem__', '__gt__', '__hash__', '__iadd__', '__imul__', '__init__', '__init_subclass__', '__iter__', '__le__', '__len__', '__lt__', '__mul__', '__ne__', '__new__', '__reduce__', '__reduce_ex__', '__repr__', '__reversed__', '__rmul__', '__setattr__', '__setitem__', '__sizeof__', '__str__', '__subclasshook__', 'append', 'clear', 'copy', 'count', 'extend', 'index', 'insert', 'pop', 'remove', 'reverse', 'sort']\n"
          ]
        }
      ]
    },
    {
      "cell_type": "code",
      "source": [
        "# 문자열이 사용할 수 있는것들은 무엇일까\n",
        "name = \"jim\"\n",
        "print(dir(name))"
      ],
      "metadata": {
        "colab": {
          "base_uri": "https://localhost:8080/"
        },
        "id": "D6tIoD8DBLSP",
        "outputId": "3e02f458-a491-419c-9613-90a4dad1ee5f"
      },
      "execution_count": 268,
      "outputs": [
        {
          "output_type": "stream",
          "name": "stdout",
          "text": [
            "['__add__', '__class__', '__contains__', '__delattr__', '__dir__', '__doc__', '__eq__', '__format__', '__ge__', '__getattribute__', '__getitem__', '__getnewargs__', '__gt__', '__hash__', '__init__', '__init_subclass__', '__iter__', '__le__', '__len__', '__lt__', '__mod__', '__mul__', '__ne__', '__new__', '__reduce__', '__reduce_ex__', '__repr__', '__rmod__', '__rmul__', '__setattr__', '__sizeof__', '__str__', '__subclasshook__', 'capitalize', 'casefold', 'center', 'count', 'encode', 'endswith', 'expandtabs', 'find', 'format', 'format_map', 'index', 'isalnum', 'isalpha', 'isascii', 'isdecimal', 'isdigit', 'isidentifier', 'islower', 'isnumeric', 'isprintable', 'isspace', 'istitle', 'isupper', 'join', 'ljust', 'lower', 'lstrip', 'maketrans', 'partition', 'removeprefix', 'removesuffix', 'replace', 'rfind', 'rindex', 'rjust', 'rpartition', 'rsplit', 'rstrip', 'split', 'splitlines', 'startswith', 'strip', 'swapcase', 'title', 'translate', 'upper', 'zfill']\n"
          ]
        }
      ]
    },
    {
      "cell_type": "code",
      "source": [
        "# 외장함수 <<< 내장함수와는 달리, '직접 import' 해야만 하는 함수\n",
        "# 필요한 부분은 가져다 쓰면된다\n",
        "\n",
        "# glob : 경로 내의 폴더, 파일 목록 조회 (윈도우 dir)\n",
        "import glob\n",
        "print(glob.glob(\"*.py\")) # 확장자가 py 인 모든 파일"
      ],
      "metadata": {
        "colab": {
          "base_uri": "https://localhost:8080/"
        },
        "id": "0BvVAuGKBLWh",
        "outputId": "9b83d877-d89d-46f2-9169-324d061c0eaa"
      },
      "execution_count": 269,
      "outputs": [
        {
          "output_type": "stream",
          "name": "stdout",
          "text": [
            "[]\n"
          ]
        }
      ]
    },
    {
      "cell_type": "code",
      "source": [
        "# os : 운영체제에서 제공하는 기본 기능\n",
        "import os\n",
        "print(os.getcwd()) # 현재 디렉토리 표시\n",
        "\n",
        "# >>>> 코랩 환경에서 content 디렉토리에서 작업중이라는 것을 알 수 있구\n",
        "\n",
        "folder = \"sample_dir\"\n",
        "\n",
        "if os.path.exists(folder): # 폴더가 이미 존재하는지 확인\n",
        "  print(\"이미 존재하는 폴더입니다.\")\n",
        "  os.rmdir(folder)\n",
        "  print(\"이미 존재하는 폴더를 삭제했습니다\")\n",
        "else:\n",
        "  os.makedirs(folder) # 폴더를 직접 생성하는것\n",
        "  print(folder, \"폴더를 생성하였습니다.\")"
      ],
      "metadata": {
        "colab": {
          "base_uri": "https://localhost:8080/"
        },
        "id": "UXAMxUyfBLaS",
        "outputId": "c6534c22-b068-4e6e-cd66-450f077796f2"
      },
      "execution_count": 270,
      "outputs": [
        {
          "output_type": "stream",
          "name": "stdout",
          "text": [
            "/content\n",
            "sample_dir 폴더를 생성하였습니다.\n"
          ]
        }
      ]
    },
    {
      "cell_type": "code",
      "source": [
        "# time : 시간 y관련 함수들을 제공하는\n",
        "\n",
        "import time\n",
        "print(time.localtime())\n",
        "print(time.strftime(\"%Y-%m-%d %H:%M:%S\")) # 대문자 소문자는 지켜줘야함"
      ],
      "metadata": {
        "colab": {
          "base_uri": "https://localhost:8080/"
        },
        "id": "2fbnSa97BLeD",
        "outputId": "b3713e8e-0b23-454c-b9a2-25bd5f9566df"
      },
      "execution_count": 271,
      "outputs": [
        {
          "output_type": "stream",
          "name": "stdout",
          "text": [
            "time.struct_time(tm_year=2024, tm_mon=8, tm_mday=17, tm_hour=16, tm_min=23, tm_sec=8, tm_wday=5, tm_yday=230, tm_isdst=0)\n",
            "2024-08-17 16:23:08\n"
          ]
        }
      ]
    },
    {
      "cell_type": "code",
      "source": [
        "import datetime\n",
        "print(\"오늘 날짜는 \",datetime.date.today())\n",
        "\n",
        "# timedelta : 두 날짜 사이의 간격도 계산해 볼수 있다\n",
        "today = datetime.date.today() # 오늘 날짜 저장\n",
        "td = datetime.timedelta(days = 100) # 100일 저장\n",
        "print(\"우리가 만난지 100일은 \",today+td)"
      ],
      "metadata": {
        "colab": {
          "base_uri": "https://localhost:8080/"
        },
        "id": "ckfidXayBLiM",
        "outputId": "a3ea32e0-131a-47c6-bef9-bb1b61986b82"
      },
      "execution_count": 272,
      "outputs": [
        {
          "output_type": "stream",
          "name": "stdout",
          "text": [
            "오늘 날짜는  2024-08-17\n",
            "우리가 만난지 100일은  2024-11-25\n"
          ]
        }
      ]
    },
    {
      "cell_type": "code",
      "source": [],
      "metadata": {
        "id": "_yHz3ZnCBLlx"
      },
      "execution_count": 272,
      "outputs": []
    },
    {
      "cell_type": "code",
      "source": [],
      "metadata": {
        "id": "U_au__WmBLpu"
      },
      "execution_count": 272,
      "outputs": []
    },
    {
      "cell_type": "code",
      "source": [],
      "metadata": {
        "id": "_6J2pzAaBLtb"
      },
      "execution_count": 272,
      "outputs": []
    }
  ]
}