{
  "nbformat": 4,
  "nbformat_minor": 0,
  "metadata": {
    "colab": {
      "provenance": [],
      "collapsed_sections": [
        "OL8MU16jtnMk"
      ],
      "authorship_tag": "ABX9TyMNXmLHmsurviKXAvVSyKHG"
    },
    "kernelspec": {
      "name": "python3",
      "display_name": "Python 3"
    },
    "language_info": {
      "name": "python"
    }
  },
  "cells": [
    {
      "cell_type": "markdown",
      "source": [
        "# print함수 사용법 및 변수의 편리성"
      ],
      "metadata": {
        "id": "Tvx2nAAoLdx7"
      }
    },
    {
      "cell_type": "code",
      "execution_count": null,
      "metadata": {
        "colab": {
          "base_uri": "https://localhost:8080/"
        },
        "id": "D501Prsj_2iK",
        "outputId": "f2471409-ce68-40e9-800c-edbba5295d65"
      },
      "outputs": [
        {
          "output_type": "stream",
          "name": "stdout",
          "text": [
            "5\n",
            "-10\n",
            "3.14\n",
            "1000\n",
            "8\n",
            "16\n",
            "12\n"
          ]
        }
      ],
      "source": [
        "print(5)\n",
        "print(-10)\n",
        "print(3.14)\n",
        "print(1000)\n",
        "print(5+3)\n",
        "print(2*8)\n",
        "print(3*(3+1))"
      ]
    },
    {
      "cell_type": "code",
      "source": [
        "print('풍선')\n",
        "print(\"나비\")\n",
        "print(\"ㅋㅋㅋㅋㅋㅋㅋㅋㅋㅋ\")\n",
        "# 문자열과 숫자의 곱으로 문자열 표현가능\n",
        "print(\"ㅋ\"*9)"
      ],
      "metadata": {
        "colab": {
          "base_uri": "https://localhost:8080/"
        },
        "id": "OqdApVwmKT3H",
        "outputId": "ab4a79c6-737b-4394-c4ca-6ee453af0ef0"
      },
      "execution_count": null,
      "outputs": [
        {
          "output_type": "stream",
          "name": "stdout",
          "text": [
            "풍선\n",
            "나비\n",
            "ㅋㅋㅋㅋㅋㅋㅋㅋㅋㅋ\n",
            "ㅋㅋㅋㅋㅋㅋㅋㅋㅋ\n"
          ]
        }
      ]
    },
    {
      "cell_type": "code",
      "source": [
        "# 불리안 참/거짓\n",
        "print(5>10)\n",
        "print(5<10)\n",
        "print(True)\n",
        "print(False,'\\n')\n",
        "# not은 반대\n",
        "print(not True)\n",
        "print(not False)\n",
        "print(not (5>10))"
      ],
      "metadata": {
        "colab": {
          "base_uri": "https://localhost:8080/"
        },
        "id": "jHLmQMcHKT6w",
        "outputId": "2e4488c1-45c2-4025-d299-b22f3965519b"
      },
      "execution_count": null,
      "outputs": [
        {
          "output_type": "stream",
          "name": "stdout",
          "text": [
            "False\n",
            "True\n",
            "True\n",
            "False \n",
            "\n",
            "False\n",
            "True\n",
            "True\n"
          ]
        }
      ]
    },
    {
      "cell_type": "code",
      "source": [
        "# 애완동물을 소개해 주세요~\n",
        "animal = \"강아지\"\n",
        "name = \"연탄이\"\n",
        "age = 4\n",
        "hobby = \"산책\"\n",
        "is_adult = age >= 3\n",
        "\n",
        "print('\\n우리집 강아지의 이름은 연탄이예요')\n",
        "print('연탄이는 4살이며, 산책을 아주 좋아해요')\n",
        "print('연탄이는 어른일까요? True')\n",
        "\n",
        "# 변수만 바꿔주면 적용가능\n",
        "print('\\n우리집 ' + animal + '의 이름은 '+name+'예요')\n",
        "print(name + '는 ' +str(age)+ '살이며, ' + hobby + '을 아주 좋아해요')\n",
        "print(name + '는 어른일까요? ' + str(is_adult))\n",
        "\n",
        "# 콤마 사용하면 변수형 스트링으로 바꾸지않아도 바로 사용할 수 있음"
      ],
      "metadata": {
        "colab": {
          "base_uri": "https://localhost:8080/"
        },
        "id": "L_q3mluFKT-x",
        "outputId": "45fd237d-80fb-439a-ada4-b35d92cab11d"
      },
      "execution_count": null,
      "outputs": [
        {
          "output_type": "stream",
          "name": "stdout",
          "text": [
            "\n",
            "우리집 강아지의 이름은 연탄이예요\n",
            "연탄이는 4살이며, 산책을 아주 좋아해요\n",
            "연탄이는 어른일까요? True\n",
            "\n",
            "우리집 강아지의 이름은 연탄이예요\n",
            "연탄이는 4살이며, 산책을 아주 좋아해요\n",
            "연탄이는 어른일까요? True\n"
          ]
        }
      ]
    },
    {
      "cell_type": "markdown",
      "source": [
        "Quiz) 변수를 이용하여 다음 문장을 출력하시오\n",
        "\n",
        "변수명\n",
        " : station\n",
        "\n",
        " 변수값 : 사당,신도림,인천공항 순서대로 입력\n",
        "\n",
        " 출력 문장 : xx 행 열차가 들어오고 있습니다"
      ],
      "metadata": {
        "id": "P5wiJMQ0KUB4"
      }
    },
    {
      "cell_type": "code",
      "source": [
        "station = '사당'\n",
        "print(station,' 행 열차가 들어오고 있습니다.')\n",
        "station = '신도림'\n",
        "print(station,' 행 열차가 들어오고 있습니다.')\n",
        "station = '인천공항'\n",
        "print(station,' 행 열차가 들어오고 있습니다.')"
      ],
      "metadata": {
        "colab": {
          "base_uri": "https://localhost:8080/"
        },
        "id": "T9ccKoRoKUE_",
        "outputId": "7e2e190d-868e-408e-82da-ed79ae3e69de"
      },
      "execution_count": null,
      "outputs": [
        {
          "output_type": "stream",
          "name": "stdout",
          "text": [
            "사당  행 열차가 들어오고 있습니다.\n",
            "신도림  행 열차가 들어오고 있습니다.\n",
            "인천공항  행 열차가 들어오고 있습니다.\n"
          ]
        }
      ]
    },
    {
      "cell_type": "markdown",
      "source": [
        "# 연산자"
      ],
      "metadata": {
        "id": "xGU9A3GMKUIh"
      }
    },
    {
      "cell_type": "code",
      "source": [
        "print(1+1)\n",
        "print(3-2)\n",
        "print(5*2)\n",
        "print(6/3)"
      ],
      "metadata": {
        "colab": {
          "base_uri": "https://localhost:8080/"
        },
        "id": "oDStleW1KUMv",
        "outputId": "bd30f94a-3e5d-40d3-e683-3ff8e4458aeb"
      },
      "execution_count": null,
      "outputs": [
        {
          "output_type": "stream",
          "name": "stdout",
          "text": [
            "2\n",
            "1\n",
            "10\n",
            "2.0\n"
          ]
        }
      ]
    },
    {
      "cell_type": "code",
      "source": [
        "print(2**3)\n",
        "print(5%3)\n",
        "print(10%3)\n",
        "print(5//3)\n",
        "print(10//3)"
      ],
      "metadata": {
        "colab": {
          "base_uri": "https://localhost:8080/"
        },
        "id": "HjDaZB2BLu9V",
        "outputId": "86cf3a7a-bff3-4602-c5c3-72dd20cd6a2c"
      },
      "execution_count": null,
      "outputs": [
        {
          "output_type": "stream",
          "name": "stdout",
          "text": [
            "8\n",
            "2\n",
            "1\n",
            "1\n",
            "3\n"
          ]
        }
      ]
    },
    {
      "cell_type": "code",
      "source": [
        "# 비교 연산\n",
        "print(10>3)\n",
        "print(4 >= 7)\n",
        "print(10 < 3)\n",
        "print(5 <= 5)"
      ],
      "metadata": {
        "colab": {
          "base_uri": "https://localhost:8080/"
        },
        "id": "wL9kNvZNLvBq",
        "outputId": "89adfccc-5853-42a3-fa6b-7fbd256ec81d"
      },
      "execution_count": null,
      "outputs": [
        {
          "output_type": "stream",
          "name": "stdout",
          "text": [
            "True\n",
            "False\n",
            "False\n",
            "True\n"
          ]
        }
      ]
    },
    {
      "cell_type": "code",
      "source": [
        "print(3 == 3)\n",
        "print(4 == 2)\n",
        "print(3+4 == 7)"
      ],
      "metadata": {
        "colab": {
          "base_uri": "https://localhost:8080/"
        },
        "id": "Kp5lA2Y-LvFA",
        "outputId": "52dd9272-f215-4ac6-df51-ca37fa76eede"
      },
      "execution_count": null,
      "outputs": [
        {
          "output_type": "stream",
          "name": "stdout",
          "text": [
            "True\n",
            "False\n",
            "True\n"
          ]
        }
      ]
    },
    {
      "cell_type": "code",
      "source": [
        "print(1 != 3)\n",
        "print(not(1 != 3))"
      ],
      "metadata": {
        "colab": {
          "base_uri": "https://localhost:8080/"
        },
        "id": "d2MqVF11LvIO",
        "outputId": "696082c8-edd2-457c-cd60-c27c4cb9951e"
      },
      "execution_count": null,
      "outputs": [
        {
          "output_type": "stream",
          "name": "stdout",
          "text": [
            "True\n",
            "False\n"
          ]
        }
      ]
    },
    {
      "cell_type": "code",
      "source": [
        "print((3>0) and (3<5))\n",
        "print((3>0) & (3<5))\n",
        "\n",
        "print((3>0) or (3 > 5))\n",
        "print((3 > 0) | (3 > 5))\n",
        "\n",
        "print(5>4>3)\n",
        "print(5>4>7)"
      ],
      "metadata": {
        "colab": {
          "base_uri": "https://localhost:8080/"
        },
        "id": "5il1tczULvLE",
        "outputId": "c2ad992a-9873-4053-d9dd-0c6ea8a14693"
      },
      "execution_count": null,
      "outputs": [
        {
          "output_type": "stream",
          "name": "stdout",
          "text": [
            "True\n",
            "True\n",
            "True\n",
            "True\n",
            "True\n",
            "False\n"
          ]
        }
      ]
    },
    {
      "cell_type": "code",
      "source": [
        "print(2 + 3*4)\n",
        "print((2+3)*4)\n",
        "number = 2+3*4\n",
        "print(number)\n",
        "number = number + 2\n",
        "print(number)\n",
        "number+=2\n",
        "print(number)\n",
        "number*=2\n",
        "print(number)\n"
      ],
      "metadata": {
        "colab": {
          "base_uri": "https://localhost:8080/"
        },
        "id": "6inOLVPLLvN3",
        "outputId": "5f82f9ad-89a6-421d-a6b4-f24c54eacebb"
      },
      "execution_count": null,
      "outputs": [
        {
          "output_type": "stream",
          "name": "stdout",
          "text": [
            "14\n",
            "20\n",
            "14\n",
            "16\n",
            "18\n",
            "36\n"
          ]
        }
      ]
    },
    {
      "cell_type": "code",
      "source": [
        "# 간단하게 기본으로 제공하는 숫자처리 함수들\n",
        "\n",
        "print(abs(-5))\n",
        "print(pow(4,2))\n",
        "print(max(5,12))\n",
        "print(min(5,12))\n",
        "print(round(3.14))\n",
        "print(round(4.99))"
      ],
      "metadata": {
        "colab": {
          "base_uri": "https://localhost:8080/"
        },
        "id": "_e3kB2LELvQl",
        "outputId": "6d2452be-1c3e-473f-b05e-c2896ce63b78"
      },
      "execution_count": null,
      "outputs": [
        {
          "output_type": "stream",
          "name": "stdout",
          "text": [
            "5\n",
            "16\n",
            "12\n",
            "5\n",
            "3\n",
            "5\n"
          ]
        }
      ]
    },
    {
      "cell_type": "code",
      "source": [
        "# 랜덤함수 사용하기\n",
        "\n",
        "from random import*\n",
        "\n",
        "print(random()) # 0.0이상 1.0미만의 임의의 값 생성\n",
        "print(random() * 10)\n",
        "print(int(random()*10))\n",
        "print(int(random()*10))\n",
        "print(int(random()*10))\n",
        "\n",
        "# 로또값 출력하기\n",
        "print(int(random()*45)+1)\n",
        "print(int(random()*45)+1)\n",
        "print(int(random()*45)+1)\n",
        "print(int(random()*45)+1)\n",
        "print(int(random()*45)+1)\n",
        "print(int(random()*45)+1)"
      ],
      "metadata": {
        "colab": {
          "base_uri": "https://localhost:8080/"
        },
        "id": "fyG9ZmVCLvTM",
        "outputId": "345ae3dc-5c9d-42b4-8448-689b73debea0"
      },
      "execution_count": null,
      "outputs": [
        {
          "output_type": "stream",
          "name": "stdout",
          "text": [
            "0.19029738495531712\n",
            "7.071074843274804\n",
            "1\n",
            "1\n",
            "7\n",
            "39\n",
            "21\n",
            "13\n",
            "25\n",
            "8\n",
            "26\n"
          ]
        }
      ]
    },
    {
      "cell_type": "code",
      "source": [
        "print(randrange(1,46)) #1부터 46미만의 임의의 숫자 생성\n",
        "print(randrange(1,46))\n",
        "print(randrange(1,46))\n",
        "print(randrange(1,46))\n",
        "print(randrange(1,46))\n",
        "print(randrange(1,46))"
      ],
      "metadata": {
        "colab": {
          "base_uri": "https://localhost:8080/"
        },
        "id": "jf9Hh3FCMtLl",
        "outputId": "64ed262b-a9c7-482f-a057-6f79a5ff9a7f"
      },
      "execution_count": null,
      "outputs": [
        {
          "output_type": "stream",
          "name": "stdout",
          "text": [
            "9\n",
            "4\n",
            "27\n",
            "40\n",
            "16\n",
            "20\n"
          ]
        }
      ]
    },
    {
      "cell_type": "code",
      "source": [
        "print(randint(1,45)) #1부터 45이하의\n",
        "print(randint(1,45))\n",
        "print(randint(1,45))\n",
        "print(randint(1,45))\n",
        "print(randint(1,45))\n",
        "print(randint(1,45))"
      ],
      "metadata": {
        "colab": {
          "base_uri": "https://localhost:8080/"
        },
        "id": "QkYJRDV-MtPW",
        "outputId": "5d4ca025-3d35-4f69-bbae-c226ca7d178d"
      },
      "execution_count": null,
      "outputs": [
        {
          "output_type": "stream",
          "name": "stdout",
          "text": [
            "14\n",
            "3\n",
            "40\n",
            "37\n",
            "44\n",
            "24\n"
          ]
        }
      ]
    },
    {
      "cell_type": "markdown",
      "source": [
        "quiz) 당신은 최근에 코딩 스터디 모임을 새로 만들었습니다\n",
        "\n",
        "월 4회 스터디를 하는데 3번은 온라인으로 하고 1번은 오프라인으로 하기로 했습니다\n",
        "\n",
        "아래 조건에 맞는 오프라임 모임 날짜를 정해주는 프로그램을 작성하시오\n",
        "\n",
        "조건1 : 랜덤으로 날짜를 뽑아야 함\n",
        "\n",
        "조건2 : 월별 날짜는 다름을 감안하여 최소 일수인 28이내로 정함\n",
        "\n",
        "조건3 : 매월 1~3일은 스터디 준비를 해야 하므로 제외\n",
        "\n",
        "(출력문 예제)\n",
        "\n",
        "오프라인 스터디 모임 날짜는 매월 x 일로 선정되었습니다."
      ],
      "metadata": {
        "id": "xB-mpihyMtSu"
      }
    },
    {
      "cell_type": "code",
      "source": [
        "day = randint(4,28)\n",
        "print(\"오프라인 스터디 모임 날짜는 매월\",day,\"일로 선정되었습니다.\")"
      ],
      "metadata": {
        "colab": {
          "base_uri": "https://localhost:8080/"
        },
        "id": "LvH7jU7oMtVc",
        "outputId": "3232eed8-f099-4820-fb65-fe568d3d1a6c"
      },
      "execution_count": null,
      "outputs": [
        {
          "output_type": "stream",
          "name": "stdout",
          "text": [
            "오프라인 스터디 모임 날짜는 매월 21 일로 선정되었습니다.\n"
          ]
        }
      ]
    },
    {
      "cell_type": "markdown",
      "source": [
        "# 문자열 처리"
      ],
      "metadata": {
        "id": "7-k2PtQEMtYl"
      }
    },
    {
      "cell_type": "code",
      "source": [
        "sentence = '나는 소년입니다'\n",
        "print(sentence)\n",
        "sentence2 = \"파이썬은 쉬워요\"\n",
        "print(sentence2)\n",
        "# 여러줄도 한번에 문자열로 처리가 가능하다\n",
        "sentence3 = \"\"\"\n",
        "나는 소년이고,\n",
        "파이썬은 쉬워요\n",
        "\"\"\"\n",
        "print(sentence3)"
      ],
      "metadata": {
        "colab": {
          "base_uri": "https://localhost:8080/"
        },
        "id": "hb8yZDIAEDkk",
        "outputId": "c1377966-ff9e-4ca6-e886-37198b7034dd"
      },
      "execution_count": null,
      "outputs": [
        {
          "output_type": "stream",
          "name": "stdout",
          "text": [
            "나는 소년입니다\n",
            "파이썬은 쉬워요\n",
            "\n",
            "나는 소년이고,\n",
            "파이썬은 쉬워요\n",
            "\n"
          ]
        }
      ]
    },
    {
      "cell_type": "code",
      "source": [
        "# 슬라이싱 >> 정보중에 필요한 부분만 잘라서 사용하는것\n",
        "jumin = \"990120-1234567\"\n",
        "\n",
        "print(\"성별 : \",jumin[7])\n",
        "print(\"연 : \",jumin[0:2]) # 0부터 2 직전까지(0,1)\n",
        "print(\"월 : \",jumin[2:4])\n",
        "print(\"일 : \",jumin[4:6])\n",
        "\n",
        "print(\"생년월일 : \",jumin[:6]) # 처음부터 6직전까지 가져오는것\n",
        "print(\"뒤 7자리 : \",jumin[7:14])\n",
        "print(\"뒤 7자리 : \",jumin[7:]) # 7부터 끝까지\n",
        "print(\"뒤 7자리 (뒤에서부터) : \",jumin[-1:-7]) # 문자열 반대 개념으로 접근"
      ],
      "metadata": {
        "colab": {
          "base_uri": "https://localhost:8080/"
        },
        "id": "vXlPx5yCMtbf",
        "outputId": "ac2a9ce0-0d29-4405-bc7c-e8628ef4f3d0"
      },
      "execution_count": null,
      "outputs": [
        {
          "output_type": "stream",
          "name": "stdout",
          "text": [
            "성별 :  1\n",
            "연 :  99\n",
            "월 :  01\n",
            "일 :  20\n",
            "생년월일 :  990120\n",
            "뒤 7자리 :  1234567\n",
            "뒤 7자리 :  1234567\n",
            "뒤 7자리 (뒤에서부터) :  \n"
          ]
        }
      ]
    },
    {
      "cell_type": "code",
      "source": [
        "# 문자열 처리 함수\n",
        "\n",
        "python = \"Python is Amazing\"\n",
        "print(python.lower())\n",
        "print(python.upper())\n",
        "print(python[0].isupper()) # 대문자인지 확인하는 코드\n",
        "print(len(python)) # 공백도 문자열 길이에 포함\n",
        "print(python.replace(\"Python\",\"Java\")) # 문장안에 있는 어떤값을 쉽게 바꿀수 있음"
      ],
      "metadata": {
        "colab": {
          "base_uri": "https://localhost:8080/"
        },
        "id": "S0jPOo84CW8z",
        "outputId": "4071bf5c-ae14-49f2-9b14-77481886b2e6"
      },
      "execution_count": null,
      "outputs": [
        {
          "output_type": "stream",
          "name": "stdout",
          "text": [
            "python is amazing\n",
            "PYTHON IS AMAZING\n",
            "True\n",
            "17\n",
            "Java is Amazing\n"
          ]
        }
      ]
    },
    {
      "cell_type": "code",
      "source": [
        "index = python.index(\"n\")\n",
        "print(index)\n",
        "index = python.index(\"n\",index + 1) # 시작점을 정해져서 그 이후부터 다시 시작해서 찾게된다\n",
        "print(index)\n",
        "\n",
        "print(python.find('Java')) # 찾는값이 없으면 -1을 반환하게됨\n",
        "\n",
        "# print(python.index('Java'))\n",
        "# 찾는값이 없으면 오류를 내버린뒤 프로그램을 종료시킴\n",
        "# 종료를 시키지 않는다는 점에서 find가 더 낫다\n",
        "\n",
        "print(python.count('n'))\n",
        "\n",
        "\n"
      ],
      "metadata": {
        "colab": {
          "base_uri": "https://localhost:8080/"
        },
        "id": "tlK5nNvKCXCL",
        "outputId": "b116b24f-af47-4821-d839-79665b7550b0"
      },
      "execution_count": null,
      "outputs": [
        {
          "output_type": "stream",
          "name": "stdout",
          "text": [
            "5\n",
            "15\n",
            "-1\n",
            "2\n"
          ]
        }
      ]
    },
    {
      "cell_type": "code",
      "source": [
        "# 문자 사이에 변수 넣고 싶을때\n",
        "\n",
        "# 방법1\n",
        "\n",
        "print(\"나는 %d살입니다.\"%20)\n",
        "print(\"나는 %s을 좋아해요.\"%\"파이썬\")\n",
        "print(\"apple은 %c로 시작해요.\"%\"a\")\n",
        "\n",
        "# %d,%s,%c 단, 자료형의 타입을 지정해 주어야한다\n",
        "\n",
        "print('나는 %s색과 %s색을 좋아해요.'%('파란','빨간'))"
      ],
      "metadata": {
        "colab": {
          "base_uri": "https://localhost:8080/"
        },
        "id": "BQb95TNPCXFx",
        "outputId": "72ab53c0-9c4d-4d08-f348-8c7e09453e3c"
      },
      "execution_count": null,
      "outputs": [
        {
          "output_type": "stream",
          "name": "stdout",
          "text": [
            "나는 20살입니다.\n",
            "나는 파이썬을 좋아해요.\n",
            "apple은 a로 시작해요.\n",
            "나는 파란색과 빨간색을 좋아해요.\n"
          ]
        }
      ]
    },
    {
      "cell_type": "code",
      "source": [
        "# 방법 2\n",
        "print(\"나는 {}살입니다.\".format(20))\n",
        "print(\"나는 {}색과 {}색을 좋아해요.\".format('파란','빨간'))\n",
        "# 순서를 숫자로 지정해줄 수 있다\n",
        "print(\"나는 {0}색과 {1}색을 좋아해요.\".format('파란','빨간'))\n",
        "print(\"나는 {1}색과 {0}색을 좋아해요.\".format('파란','빨간'))\n"
      ],
      "metadata": {
        "colab": {
          "base_uri": "https://localhost:8080/"
        },
        "id": "j4wV0VZvCXJx",
        "outputId": "e454e42f-c2bc-4e70-a1b6-416629671224"
      },
      "execution_count": null,
      "outputs": [
        {
          "output_type": "stream",
          "name": "stdout",
          "text": [
            "나는 20살입니다.\n",
            "나는 파란색과 빨간색을 좋아해요.\n",
            "나는 파란색과 빨간색을 좋아해요.\n",
            "나는 빨간색과 파란색을 좋아해요.\n"
          ]
        }
      ]
    },
    {
      "cell_type": "code",
      "source": [
        "# 방법 3\n",
        "print(\"나는 {age}살이며, {color}색을 좋아해요.\".format(age = 20,color = '빨간'))"
      ],
      "metadata": {
        "id": "FjQzwvLxCXOx",
        "colab": {
          "base_uri": "https://localhost:8080/"
        },
        "outputId": "9025cf25-225b-4103-f2b2-947874befe4e"
      },
      "execution_count": null,
      "outputs": [
        {
          "output_type": "stream",
          "name": "stdout",
          "text": [
            "나는 20살이며, 빨간색을 좋아해요.\n"
          ]
        }
      ]
    },
    {
      "cell_type": "code",
      "source": [
        "# 방법 4\n",
        "# 나는 이게 제일 편\n",
        "age = 20\n",
        "color = \"빨간\"\n",
        "print(f\"나는 {age}살이며, {color}색을 좋아해요.\")"
      ],
      "metadata": {
        "colab": {
          "base_uri": "https://localhost:8080/"
        },
        "id": "2URqJUsuCXVW",
        "outputId": "1913c76d-bb90-4f46-daf0-49f355ddc554"
      },
      "execution_count": null,
      "outputs": [
        {
          "output_type": "stream",
          "name": "stdout",
          "text": [
            "나는 20살이며, 빨간색을 좋아해요.\n"
          ]
        }
      ]
    },
    {
      "cell_type": "code",
      "source": [
        "# 탈출문자\n",
        "\n",
        "# \\n : 줄바꿈\n",
        "print(\"백문이 불여일견\\n백견이 불여일타\")"
      ],
      "metadata": {
        "colab": {
          "base_uri": "https://localhost:8080/"
        },
        "id": "_r1u4kdaUY0q",
        "outputId": "721e7e88-d542-42ed-e181-ff3880a47e9e"
      },
      "execution_count": null,
      "outputs": [
        {
          "output_type": "stream",
          "name": "stdout",
          "text": [
            "백문이 불여일견\n",
            "백견이 불여일타\n"
          ]
        }
      ]
    },
    {
      "cell_type": "code",
      "source": [
        "# 저는 \"나도코딩\"입니다.\n",
        "# 문장내에서 따옴표를 오류없이 쓰고싶을때\n",
        "# \\\",\\'\n",
        "\n",
        "print('저는 \"나도코딩\"입니다.')\n",
        "print(\"저는 \\\"나도코딩\\\"입니다.\")"
      ],
      "metadata": {
        "colab": {
          "base_uri": "https://localhost:8080/"
        },
        "id": "xnka3F7AUY4K",
        "outputId": "24be8d92-5e50-44e1-e0aa-4b3c1fe20faa"
      },
      "execution_count": null,
      "outputs": [
        {
          "output_type": "stream",
          "name": "stdout",
          "text": [
            "저는 \"나도코딩\"입니다.\n",
            "저는 \"나도코딩\"입니다.\n"
          ]
        }
      ]
    },
    {
      "cell_type": "code",
      "source": [
        "# \\\\: 문장 내에서 하나의 \\로 바뀜\n",
        "# \\ 하나는 문장에서 어떤 기능을 하기 때문에 \\\\이상을 \\하나로 취급하면\n",
        "# 그다음 증가부터는 오류가 안생길수 있음\n",
        "\n",
        "print(\"c:\\\\users\\\\nadocoding\\\\desktop\\\\pythonworkspace\")"
      ],
      "metadata": {
        "colab": {
          "base_uri": "https://localhost:8080/"
        },
        "id": "OLky1kACUY7O",
        "outputId": "b253cf02-8ea7-4030-dc56-582fb4e86488"
      },
      "execution_count": null,
      "outputs": [
        {
          "output_type": "stream",
          "name": "stdout",
          "text": [
            "c:\\users\\nadocoding\\desktop\\pythonworkspace\n"
          ]
        }
      ]
    },
    {
      "cell_type": "code",
      "source": [
        "# \\r : 커서를 맨 앞으로 이동\n",
        "print(\"red apple\\rpine\")\n",
        "# \\b : 백스페이스 (한 글자 삭제)\n",
        "print(\"red\\bapple\")\n",
        "# \\t : 탭만큼 띄어쓰기를 해주\n",
        "print(\"red\\tapple\")\n"
      ],
      "metadata": {
        "colab": {
          "base_uri": "https://localhost:8080/"
        },
        "id": "0Cc3_AdpUY-M",
        "outputId": "dddca2ce-aaaf-418f-eb08-bee56de23282"
      },
      "execution_count": null,
      "outputs": [
        {
          "output_type": "stream",
          "name": "stdout",
          "text": [
            "red apple\rpine\n",
            "red\bapple\n",
            "red\tapple\n"
          ]
        }
      ]
    },
    {
      "cell_type": "markdown",
      "source": [
        "quiz) 사이트별로 비밀번호를 만들어 주는 프로그램을 작성하시오.\n",
        "\n",
        "예)http:\\\\naver.com\n",
        "\n",
        "규칙1 : http:\\\\ 부분은 제외 >> naver.com\n",
        "\n",
        "규칙2 : 처음 만나는 점(.)이후 부분은 제외 >> naver\n",
        "\n",
        "규칙3 : 남은 글자 중 처음 세자리 + 글자 갯수 + 글자 내 'e'갯수 +\"!\"로 구성\n",
        "\n",
        "생성된 비밀번호) nav51!"
      ],
      "metadata": {
        "id": "Usgm_t7iXgBj"
      }
    },
    {
      "cell_type": "code",
      "source": [
        "url = \"http:\\\\naver.com\"\n",
        "my_str = url.replace(\"http:\\\\\",\"\") #규칙 1, 여백으로 대체하는것은 지운다는뜻\n",
        "# print(my_str)\n",
        "\n",
        "my_str = my_str[:my_str.index(\".\")] # 0부터 .직전까지만 출력\n",
        "# print(my_str)\n",
        "\n",
        "# count 함수는 개수를 찾는것이고, index 함수는 인덱스 위치를 찾는것임!!!\n",
        "password = my_str[:3] + str(len(my_str)) + str(my_str.count(\"e\")) + \"!\"\n",
        "print(f\"{url}의 비밀번호는{password}입니다.\")"
      ],
      "metadata": {
        "colab": {
          "base_uri": "https://localhost:8080/"
        },
        "id": "DxUWbv-5UZA5",
        "outputId": "44f10908-8aad-48d3-8a33-87468e3a0d65"
      },
      "execution_count": null,
      "outputs": [
        {
          "output_type": "stream",
          "name": "stdout",
          "text": [
            "http:\\naver.com의 비밀번호는nav51!입니다.\n"
          ]
        }
      ]
    },
    {
      "cell_type": "markdown",
      "source": [
        "# 자료구조"
      ],
      "metadata": {
        "id": "jOvYbZVaWqiW"
      }
    },
    {
      "cell_type": "code",
      "source": [
        " # 리스트 [] >> 순서를 가지는 객체의 집합\n",
        "\n",
        " # 지하철 칸별로 10명, 20명, 30명\n",
        " # 하나로 연속적인 공간에 묶어버림\n",
        "\n",
        "subway = [10,20,30]\n",
        "print(subway)\n",
        "\n",
        "subway = [\"유재석\",\"조세호\",\"박명수\"]\n",
        "print(subway)\n",
        "\n",
        "# 조세호씨가 몇 번째 칸에 타고 있는가?\n",
        "print(subway.index(\"조세호\"))\n",
        "\n",
        "# 하하씨가 다음 정류장에서 다음 칸에 탐\n",
        "subway.append(\"하하\")\n",
        "print(subway)\n",
        "\n",
        "# 정형돈씨를 유재석,조세호 사이에 태워봄\n",
        "subway.insert(1,\"정형돈\")\n",
        "print(subway)\n",
        "\n",
        "# 지하철에 있는 사람을 한 명씩 뒤에서 꺼냄\n",
        "print(subway.pop())\n",
        "print(subway)\n",
        "\n",
        "print(subway.pop())\n",
        "print(subway)\n",
        "\n",
        "print(subway.pop())\n",
        "print(subway)\n",
        "\n",
        "#같은 이름의 사람이 몇 명 있는지 확인\n",
        "subway.append(\"유재석\")\n",
        "print(subway)\n",
        "print(subway.count(\"유재석\"))"
      ],
      "metadata": {
        "colab": {
          "base_uri": "https://localhost:8080/"
        },
        "id": "PR2VuWXDWql8",
        "outputId": "6ffc3447-42d1-4c4e-c88c-fd392929b93d"
      },
      "execution_count": null,
      "outputs": [
        {
          "output_type": "stream",
          "name": "stdout",
          "text": [
            "[10, 20, 30]\n",
            "['유재석', '조세호', '박명수']\n",
            "1\n",
            "['유재석', '조세호', '박명수', '하하']\n",
            "['유재석', '정형돈', '조세호', '박명수', '하하']\n",
            "하하\n",
            "['유재석', '정형돈', '조세호', '박명수']\n",
            "박명수\n",
            "['유재석', '정형돈', '조세호']\n",
            "조세호\n",
            "['유재석', '정형돈']\n",
            "['유재석', '정형돈', '유재석']\n",
            "2\n"
          ]
        }
      ]
    },
    {
      "cell_type": "code",
      "source": [
        "# 정렬도 가능\n",
        "num_list = [5,2,4,3,1]\n",
        "num_list.sort()\n",
        "print(num_list)\n",
        "\n",
        "# 순서 뒤집기 가능\n",
        "num_list.reverse()\n",
        "print(num_list)\n",
        "\n",
        "# 리스트는 다양한 자료형을 섞어서 사용할 수 있다\n",
        "mix_list = [\"조세호\",20,True]\n",
        "print(mix_list)\n",
        "\n",
        "# 리스트 확장\n",
        "num_list.extend(mix_list)\n",
        "print(num_list)"
      ],
      "metadata": {
        "colab": {
          "base_uri": "https://localhost:8080/"
        },
        "id": "E6_Ncl5gWqoy",
        "outputId": "301642af-b8f1-4560-fe61-0b4098c33f98"
      },
      "execution_count": null,
      "outputs": [
        {
          "output_type": "stream",
          "name": "stdout",
          "text": [
            "[1, 2, 3, 4, 5]\n",
            "[5, 4, 3, 2, 1]\n",
            "['조세호', 20, True]\n",
            "[5, 4, 3, 2, 1, '조세호', 20, True]\n"
          ]
        }
      ]
    },
    {
      "cell_type": "code",
      "source": [
        "# 모두 지우기\n",
        "num_list.clear()\n",
        "print(num_list)"
      ],
      "metadata": {
        "colab": {
          "base_uri": "https://localhost:8080/"
        },
        "id": "JpenO4kdWqut",
        "outputId": "80d9f947-1e81-46e9-d206-376b849aba9a"
      },
      "execution_count": null,
      "outputs": [
        {
          "output_type": "stream",
          "name": "stdout",
          "text": [
            "[]\n"
          ]
        }
      ]
    },
    {
      "cell_type": "code",
      "source": [
        "# 사전 - diction\n",
        "# key와 value값으로 나누어 지게 됨\n",
        "# 키는 중복이 안되고 항상 그에 해당하는 사물함만 열 수 있음\n",
        "\n",
        "cabinet = {3:\"유재석\",100:\"김태호\"}\n",
        "print(cabinet[3])\n",
        "print(cabinet[100])\n",
        "\n",
        "# 다른 방법\n",
        "print(cabinet.get(3))\n",
        "\n",
        "# 대괄호 일때 값이 없으면 오류 뜨고 프로그램 종료, get 쓰면 none이라 뜨고 종료는 안됨\n",
        "\n",
        "print(cabinet.get(5,\"사용가능\"))"
      ],
      "metadata": {
        "id": "bQKas5HpWqx9",
        "colab": {
          "base_uri": "https://localhost:8080/"
        },
        "outputId": "296498d6-93bf-4073-cb34-5adeecae5f45"
      },
      "execution_count": null,
      "outputs": [
        {
          "output_type": "stream",
          "name": "stdout",
          "text": [
            "유재석\n",
            "김태호\n",
            "유재석\n",
            "사용가능\n"
          ]
        }
      ]
    },
    {
      "cell_type": "code",
      "source": [
        "# 키값 여부 확인\n",
        "print(3 in cabinet)\n",
        "print(5 in cabinet)"
      ],
      "metadata": {
        "id": "-VgCIDo8Wq1c",
        "colab": {
          "base_uri": "https://localhost:8080/"
        },
        "outputId": "9b44bb0b-619f-499a-a020-97ed3b31a9b7"
      },
      "execution_count": null,
      "outputs": [
        {
          "output_type": "stream",
          "name": "stdout",
          "text": [
            "True\n",
            "False\n"
          ]
        }
      ]
    },
    {
      "cell_type": "code",
      "source": [
        "# 스트링도 키값으로 활용 할 수 있음\n",
        "cabinet = {\"a-3\":\"유재석\",\"b-100\":\"김태호\"}\n",
        "print(cabinet[\"a-3\"])\n",
        "print(cabinet[\"b-100\"])"
      ],
      "metadata": {
        "id": "fj5OKF8nWq3k",
        "colab": {
          "base_uri": "https://localhost:8080/"
        },
        "outputId": "5a791193-7c1b-43f0-a457-1847e1d531f1"
      },
      "execution_count": null,
      "outputs": [
        {
          "output_type": "stream",
          "name": "stdout",
          "text": [
            "유재석\n",
            "김태호\n"
          ]
        }
      ]
    },
    {
      "cell_type": "code",
      "source": [
        "# 새 손님\n",
        "print(cabinet)\n",
        "cabinet[\"a-3\"] = \"김종국\"\n",
        "cabinet[\"c-20\"] = \"조세호\"\n",
        "print(cabinet)\n",
        "\n",
        "# 겹치는 키값은 덮어씌어지고, 새로운 키값은 추가 되는 것을 알 수 있음"
      ],
      "metadata": {
        "id": "Wvkhz_DRdBrV",
        "colab": {
          "base_uri": "https://localhost:8080/"
        },
        "outputId": "41f08843-1031-4828-8f3c-3a4008bf7ff3"
      },
      "execution_count": null,
      "outputs": [
        {
          "output_type": "stream",
          "name": "stdout",
          "text": [
            "{'a-3': '유재석', 'b-100': '김태호'}\n",
            "{'a-3': '김종국', 'b-100': '김태호', 'c-20': '조세호'}\n"
          ]
        }
      ]
    },
    {
      "cell_type": "code",
      "source": [
        "# 간 손님\n",
        "del cabinet[\"a-3\"]\n",
        "print(cabinet)"
      ],
      "metadata": {
        "id": "9xKyWw4_dBuI",
        "colab": {
          "base_uri": "https://localhost:8080/"
        },
        "outputId": "8e1e7da8-0077-47b0-9a9f-4297658619f9"
      },
      "execution_count": null,
      "outputs": [
        {
          "output_type": "stream",
          "name": "stdout",
          "text": [
            "{'b-100': '김태호', 'c-20': '조세호'}\n"
          ]
        }
      ]
    },
    {
      "cell_type": "code",
      "source": [
        "# key 들만 출력\n",
        "print(cabinet.keys())\n",
        "\n",
        "# value 들만 출력\n",
        "print(cabinet.values())\n",
        "\n",
        "# key, value 쌍으로 출력\n",
        "print(cabinet.items())\n",
        "\n",
        "# 목욕탕 폐점\n",
        "cabinet.clear()\n",
        "print(cabinet)"
      ],
      "metadata": {
        "id": "OcJpwjmLdBw6",
        "colab": {
          "base_uri": "https://localhost:8080/"
        },
        "outputId": "5a9ff052-a519-42c3-a1fa-58837fc2d176"
      },
      "execution_count": null,
      "outputs": [
        {
          "output_type": "stream",
          "name": "stdout",
          "text": [
            "dict_keys(['b-100', 'c-20'])\n",
            "dict_values(['김태호', '조세호'])\n",
            "dict_items([('b-100', '김태호'), ('c-20', '조세호')])\n",
            "{}\n"
          ]
        }
      ]
    },
    {
      "cell_type": "code",
      "source": [
        "# 튜플 >> 리스트와 다르게 변경할 수 없음\n",
        "\n",
        "menu = (\"돈까스\",\"치즈까스\")\n",
        "print(menu[0])\n",
        "print(menu[1])\n",
        "\n",
        "# 튜플은 add라는 기능 제공x, 값 추가하거나 지우는것 불가"
      ],
      "metadata": {
        "id": "d9WsFTS0dBzj",
        "colab": {
          "base_uri": "https://localhost:8080/"
        },
        "outputId": "4a1535c8-deb4-42e4-c958-5b752a2b197d"
      },
      "execution_count": null,
      "outputs": [
        {
          "output_type": "stream",
          "name": "stdout",
          "text": [
            "돈까스\n",
            "치즈까스\n"
          ]
        }
      ]
    },
    {
      "cell_type": "code",
      "source": [
        "name = \"김종국\"\n",
        "age = 20\n",
        "hobby = \"코딩\"\n",
        "print(name,age,hobby)"
      ],
      "metadata": {
        "id": "Num-qZT4gu_e",
        "colab": {
          "base_uri": "https://localhost:8080/"
        },
        "outputId": "4df049b7-0e67-42fa-b54b-ca5d49ef63f6"
      },
      "execution_count": null,
      "outputs": [
        {
          "output_type": "stream",
          "name": "stdout",
          "text": [
            "김종국 20 코딩\n"
          ]
        }
      ]
    },
    {
      "cell_type": "code",
      "source": [
        "# 한번에 각각 지정가능\n",
        "tup = (name,age,hobby) = (\"김종국\",20,\"코딩\")\n",
        "print((name,age,hobby))\n",
        "print(tup)"
      ],
      "metadata": {
        "id": "_qWdglEFgvC0",
        "colab": {
          "base_uri": "https://localhost:8080/"
        },
        "outputId": "d742e35f-6380-43d9-cb2f-ac2e16b48657"
      },
      "execution_count": null,
      "outputs": [
        {
          "output_type": "stream",
          "name": "stdout",
          "text": [
            "('김종국', 20, '코딩')\n",
            "('김종국', 20, '코딩')\n"
          ]
        }
      ]
    },
    {
      "cell_type": "code",
      "source": [
        "# 집합 (set)\n",
        "# 중복 안되고 순서도 없음. 인덱스 접근 불가\n",
        "\n",
        "my_set = {1,2,3,3,3}\n",
        "print(my_set)\n",
        "\n",
        "java = {\"유재석\",\"김태호\",\"양세형\"}\n",
        "python = set([\"유재석\",\"박명수\"]) #set함수 리스트를 집합으로"
      ],
      "metadata": {
        "id": "r1gKfMQNgvGS",
        "colab": {
          "base_uri": "https://localhost:8080/"
        },
        "outputId": "47b9bfc5-bf1d-425a-b6c2-fffdd1c315a5"
      },
      "execution_count": null,
      "outputs": [
        {
          "output_type": "stream",
          "name": "stdout",
          "text": [
            "{1, 2, 3}\n"
          ]
        }
      ]
    },
    {
      "cell_type": "code",
      "source": [
        "# 교집합 (java 와 python을 모두 할 수 있는 개발자)\n",
        "print(java and python)\n",
        "print(java.intersection(python))\n"
      ],
      "metadata": {
        "id": "AM8c58CJgvJF",
        "colab": {
          "base_uri": "https://localhost:8080/"
        },
        "outputId": "c037715c-6794-4e15-dfec-3bf06c61246c"
      },
      "execution_count": null,
      "outputs": [
        {
          "output_type": "stream",
          "name": "stdout",
          "text": [
            "{'박명수', '유재석'}\n",
            "{'유재석'}\n"
          ]
        }
      ]
    },
    {
      "cell_type": "code",
      "source": [
        "# 합집합 (java도 할수 있거나 python을 할 수 있는 개발자)\n",
        "print(java | python)\n",
        "print(java.union(python))"
      ],
      "metadata": {
        "id": "a33DznOZgvL1",
        "colab": {
          "base_uri": "https://localhost:8080/"
        },
        "outputId": "60cb56d7-c964-497f-e7ef-1c2875ebbdfa"
      },
      "execution_count": null,
      "outputs": [
        {
          "output_type": "stream",
          "name": "stdout",
          "text": [
            "{'박명수', '김태호', '유재석', '양세형'}\n",
            "{'박명수', '김태호', '유재석', '양세형'}\n"
          ]
        }
      ]
    },
    {
      "cell_type": "code",
      "source": [
        "# 차집합 (java 할 수 있지만 python은 할 줄 모르는 개발자)\n",
        "print(java - python)\n",
        "print(java.difference(python))"
      ],
      "metadata": {
        "id": "6CyeJ8JSgvPE",
        "colab": {
          "base_uri": "https://localhost:8080/"
        },
        "outputId": "80f23043-2080-4302-aa45-ce4975e1d216"
      },
      "execution_count": null,
      "outputs": [
        {
          "output_type": "stream",
          "name": "stdout",
          "text": [
            "{'김태호', '양세형'}\n",
            "{'김태호', '양세형'}\n"
          ]
        }
      ]
    },
    {
      "cell_type": "code",
      "source": [
        "# python을 할 줄 아는 사람이 늘어남\n",
        "python.add(\"김태호\")\n",
        "print(python)"
      ],
      "metadata": {
        "id": "DMLwUO7FgvRQ",
        "colab": {
          "base_uri": "https://localhost:8080/"
        },
        "outputId": "24975c13-d560-4744-8b99-c59aecae3452"
      },
      "execution_count": null,
      "outputs": [
        {
          "output_type": "stream",
          "name": "stdout",
          "text": [
            "{'박명수', '유재석', '김태호'}\n"
          ]
        }
      ]
    },
    {
      "cell_type": "code",
      "source": [
        "# java 를 잊었어요\n",
        "java.remove(\"김태호\")\n",
        "print(java)"
      ],
      "metadata": {
        "id": "g_1ZEMI2dB2e",
        "colab": {
          "base_uri": "https://localhost:8080/"
        },
        "outputId": "2ad4bf85-0306-4cc6-bf52-b9621e7e4754"
      },
      "execution_count": null,
      "outputs": [
        {
          "output_type": "stream",
          "name": "stdout",
          "text": [
            "{'유재석', '양세형'}\n"
          ]
        }
      ]
    },
    {
      "cell_type": "code",
      "source": [
        "# 자료구조의 변경\n",
        "# 자료구조 변경 함수를 사용해서 바꿔주면 된다\n",
        "\n",
        "# 커피숍\n",
        "\n",
        "menu = {\"커피\",\"우유\",\"주스\"}\n",
        "print(menu, type(menu))\n",
        "\n",
        "menu = list(menu)\n",
        "print(menu, type(menu))\n",
        "\n",
        "menu = tuple(menu)\n",
        "print(menu, type(menu))\n",
        "\n",
        "menu = set(menu)\n",
        "print(menu, type(menu))"
      ],
      "metadata": {
        "id": "zlJBeA4EdB5D",
        "colab": {
          "base_uri": "https://localhost:8080/"
        },
        "outputId": "3d48d169-2ec3-496c-edb0-94ad733550fc"
      },
      "execution_count": null,
      "outputs": [
        {
          "output_type": "stream",
          "name": "stdout",
          "text": [
            "{'우유', '커피', '주스'} <class 'set'>\n",
            "['우유', '커피', '주스'] <class 'list'>\n",
            "('우유', '커피', '주스') <class 'tuple'>\n",
            "{'주스', '커피', '우유'} <class 'set'>\n"
          ]
        }
      ]
    },
    {
      "cell_type": "markdown",
      "source": [
        "quiz) 당신의 학교에서는 파이썬 코딩 대회를 주최합니다\n",
        "참석률을 높이기 위해 댓글 이벤트를 진행하기로 하였습니다\n",
        "댓글 작성자들 중에 추첨을 통해 1명은 치킨, 3명은 커피 쿠폰을 받게 됩니다\n",
        "추첨 프로그램을 작성하시오\n",
        "\n",
        "조건1: 편의상 댓글은 20명이 작성하였고 아이디는 1~20 이라고 가정\n",
        "\n",
        "조건2: 댓글 내용과 상관 없이 무작위로 추첨하되 중복 불가\n",
        "\n",
        "조건3: random 모듈의 shuffle 과 sample을 활용\n",
        "\n",
        "(출력 예제)\n",
        "\n",
        "-- 당첨자 발표 --\n",
        "\n",
        "치킨 당첨자 : 1\n",
        "\n",
        "커피 당첨자 : [2,3,4]\n",
        "\n",
        "-- 축하합니다 --\n",
        "\n",
        "(활용 예제)\n",
        "\n",
        "from random import *\n",
        "\n",
        "print(list)\n",
        "\n",
        "shuffle(list)\n",
        "\n",
        "print(list)\n",
        "\n",
        "print(sample(list,1))\n"
      ],
      "metadata": {
        "id": "Vj3uyUb9dB8a"
      }
    },
    {
      "cell_type": "code",
      "source": [
        "from random import *\n",
        "ids = [1,2,3,4,5,6,7,8,9,10,11,12,13,14,15,16,17,18,19,20]\n",
        "# print(ids)\n",
        "\n",
        "shuffle(ids)\n",
        "# print(ids)\n",
        "\n",
        "chicken = sample(ids,1)\n",
        "# print(chicken)\n",
        "\n",
        "ids = set(ids)\n",
        "chicken = set(chicken)\n",
        "\n",
        "ids = list(ids - chicken)\n",
        "# print(ids)\n",
        "\n",
        "coffee = sample(ids,3)\n",
        "# print(coffee)\n",
        "\n",
        "print(f\"\"\"\n",
        "--- 당첨자 발표---\n",
        "치킨 당첨자 : {chicken}\n",
        "커피 당첨자 : {coffee}\n",
        "--- 축하합니다 ---\n",
        "\"\"\")"
      ],
      "metadata": {
        "id": "NFX7sNCkdB-l",
        "colab": {
          "base_uri": "https://localhost:8080/"
        },
        "outputId": "3d88dfb8-64d4-4519-a5e3-debcd0a83ea3"
      },
      "execution_count": null,
      "outputs": [
        {
          "output_type": "stream",
          "name": "stdout",
          "text": [
            "\n",
            "--- 당첨자 발표---\n",
            "치킨 당첨자 : {8}\n",
            "커피 당첨자 : [19, 5, 6]\n",
            "--- 축하합니다 ---\n",
            "\n"
          ]
        }
      ]
    },
    {
      "cell_type": "code",
      "source": [
        "from random import *\n",
        "users = list(range(1,21)) #range 타입을 list타입으로 변환\n",
        "print(users)\n",
        "\n",
        "shuffle(users)\n",
        "print(users)\n",
        "\n",
        "# 중복될 수 있으므로 한번에 4명을 뽑아 버림\n",
        "winners = sample(users,4)\n",
        "\n",
        "chicken = winners[0]\n",
        "coffee = winners[1:]\n",
        "\n",
        "print(f\"\"\"\n",
        "--- 당첨자 발표---\n",
        "치킨 당첨자 : {chicken}\n",
        "커피 당첨자 : {coffee}\n",
        "--- 축하합니다 ---\n",
        "\"\"\")"
      ],
      "metadata": {
        "colab": {
          "base_uri": "https://localhost:8080/"
        },
        "id": "awBqXQCuPngD",
        "outputId": "f56f13e1-6ec2-4432-bd6f-fb72b2f7a96e"
      },
      "execution_count": null,
      "outputs": [
        {
          "output_type": "stream",
          "name": "stdout",
          "text": [
            "range(1, 21)\n",
            "range(1, 21)\n",
            "\n",
            "--- 당첨자 발표---\n",
            "치킨 당첨자 : 11\n",
            "커피 당첨자 : [2, 5, 13]\n",
            "--- 축하합니다 ---\n",
            "\n"
          ]
        }
      ]
    },
    {
      "cell_type": "markdown",
      "source": [
        "# 제어문"
      ],
      "metadata": {
        "id": "HQ2_tSDvPnmx"
      }
    },
    {
      "cell_type": "code",
      "source": [
        "# 분기\n",
        "# 이런상황에서는 이런 코드를 사용 저런 상황에서는 저런 코드를 사용\n",
        "# 날씨에 따라 서로다른 준비물을 챙겨야 되는 경우\n",
        "\n",
        "weather = input(\"오늘 날씨는 어때요?\")\n",
        "\n",
        "if weather == \"비\" or weather == \"눈\":\n",
        "  print(\"우산을 챙기세요\")\n",
        "elif weather == \"미세먼지\":\n",
        "  print(\"마스크를 챙기세요\")\n",
        "else:\n",
        "  print(\"준비물 필요 없어요\")\n",
        "\n",
        "# 조건 만족하면 바로 빠져나오고, 아닐시 밑으로 계속 내려감 마지막은 else로 끝나게 됨\n",
        "\n"
      ],
      "metadata": {
        "colab": {
          "base_uri": "https://localhost:8080/"
        },
        "id": "yeyRzMBjPnrD",
        "outputId": "fe1e8361-39d5-4686-e0d7-0696b61d17bb"
      },
      "execution_count": null,
      "outputs": [
        {
          "output_type": "stream",
          "name": "stdout",
          "text": [
            "오늘 날씨는 어때요?d\n",
            "준비물 필요 없어요\n"
          ]
        }
      ]
    },
    {
      "cell_type": "code",
      "source": [
        "temp = int(input(\"기온은 어때요? \"))\n",
        "if 30 <= temp:\n",
        "  print(\"너무 더워요. 나가지 마세요\")\n",
        "elif 10 <= temp and temp < 30:\n",
        "  print(\"괜찮은 날씨에요\")\n",
        "elif 0 <= temp and temp <10:\n",
        "  print(\"외투를 챙기세요\")\n",
        "else:\n",
        "  print(\"너무 추워요. 나가지 마세요\")"
      ],
      "metadata": {
        "colab": {
          "base_uri": "https://localhost:8080/",
          "height": 265
        },
        "id": "0EOYcNxyPnuW",
        "outputId": "b1e69aeb-c1a1-42c7-9ec7-12d63cd90807"
      },
      "execution_count": null,
      "outputs": [
        {
          "name": "stdout",
          "output_type": "stream",
          "text": [
            "기온은 어때요? d\n"
          ]
        },
        {
          "output_type": "error",
          "ename": "ValueError",
          "evalue": "ignored",
          "traceback": [
            "\u001b[0;31m---------------------------------------------------------------------------\u001b[0m",
            "\u001b[0;31mValueError\u001b[0m                                Traceback (most recent call last)",
            "\u001b[0;32m<ipython-input-92-6207353a7867>\u001b[0m in \u001b[0;36m<cell line: 1>\u001b[0;34m()\u001b[0m\n\u001b[0;32m----> 1\u001b[0;31m \u001b[0mtemp\u001b[0m \u001b[0;34m=\u001b[0m \u001b[0mint\u001b[0m\u001b[0;34m(\u001b[0m\u001b[0minput\u001b[0m\u001b[0;34m(\u001b[0m\u001b[0;34m\"기온은 어때요? \"\u001b[0m\u001b[0;34m)\u001b[0m\u001b[0;34m)\u001b[0m\u001b[0;34m\u001b[0m\u001b[0;34m\u001b[0m\u001b[0m\n\u001b[0m\u001b[1;32m      2\u001b[0m \u001b[0;32mif\u001b[0m \u001b[0;36m30\u001b[0m \u001b[0;34m<=\u001b[0m \u001b[0mtemp\u001b[0m\u001b[0;34m:\u001b[0m\u001b[0;34m\u001b[0m\u001b[0;34m\u001b[0m\u001b[0m\n\u001b[1;32m      3\u001b[0m   \u001b[0mprint\u001b[0m\u001b[0;34m(\u001b[0m\u001b[0;34m\"너무 더워요. 나가지 마세요\"\u001b[0m\u001b[0;34m)\u001b[0m\u001b[0;34m\u001b[0m\u001b[0;34m\u001b[0m\u001b[0m\n\u001b[1;32m      4\u001b[0m \u001b[0;32melif\u001b[0m \u001b[0;36m10\u001b[0m \u001b[0;34m<=\u001b[0m \u001b[0mtemp\u001b[0m \u001b[0;32mand\u001b[0m \u001b[0mtemp\u001b[0m \u001b[0;34m<\u001b[0m \u001b[0;36m30\u001b[0m\u001b[0;34m:\u001b[0m\u001b[0;34m\u001b[0m\u001b[0;34m\u001b[0m\u001b[0m\n\u001b[1;32m      5\u001b[0m   \u001b[0mprint\u001b[0m\u001b[0;34m(\u001b[0m\u001b[0;34m\"괜찮은 날씨에요\"\u001b[0m\u001b[0;34m)\u001b[0m\u001b[0;34m\u001b[0m\u001b[0;34m\u001b[0m\u001b[0m\n",
            "\u001b[0;31mValueError\u001b[0m: invalid literal for int() with base 10: 'd'"
          ]
        }
      ]
    },
    {
      "cell_type": "code",
      "source": [
        "# print(\"대기번호 : 1\")\n",
        "# print(\"대기번호 : 2\")\n",
        "# print(\"대기번호 : 3\")\n",
        "# print(\"대기번호 : 4\")\n",
        "\n",
        "# 대기번호가 엄청 많을때는 어떻게 해야할까\n",
        "\n",
        "for wating in range(1,5): #1,2,3,4 까지\n",
        "  print(f\"대기번호 : {wating}\")"
      ],
      "metadata": {
        "id": "KfIr6LByPnx_"
      },
      "execution_count": null,
      "outputs": []
    },
    {
      "cell_type": "code",
      "source": [
        "# 스타벅스에 손님들이 왔음\n",
        "starbucks = [\"아이언맨\",\"토르\",\"아이엠 그루트\"]\n",
        "for customer in starbucks:\n",
        "  print(f\"{customer}, 커피가 준비되었습니다\")"
      ],
      "metadata": {
        "id": "WAqsonQzPn0-"
      },
      "execution_count": null,
      "outputs": []
    },
    {
      "cell_type": "code",
      "source": [
        "# while\n",
        "# 어떤 조건이 만족할 '때까지' 반복을 하는것\n",
        "\n",
        "customer = \"토르\"\n",
        "index = 5\n",
        "while index >= 1:\n",
        "  print(f\"{customer}, 커피가 준비 되었습니다. {index}번 남았어요\")\n",
        "  index -=1\n",
        "  if index == 0:\n",
        "    print(\"커피는 폐기처분되었습니다\")"
      ],
      "metadata": {
        "id": "d6lRBPiaPn3M"
      },
      "execution_count": null,
      "outputs": []
    },
    {
      "cell_type": "code",
      "source": [
        "customer = \"토르\"\n",
        "index = 1\n",
        "while True:\n",
        "  print(f\"{customer}, 커피가 준비 되었습니다. 호출 {index}회\")\n",
        "  index += 1\n",
        "# 무한루"
      ],
      "metadata": {
        "id": "ZVyBb10dPn5k"
      },
      "execution_count": null,
      "outputs": []
    },
    {
      "cell_type": "code",
      "source": [
        "customer = \"토르\"\n",
        "person = \"unknown\"\n",
        "\n",
        "while person != customer: # 조건 만족할때까지 계속 반복\n",
        "  print(f\"{customer}, 커피가 준비 되었습니다.\")\n",
        "  person = input(\"성함이 어떻게 되세요?\")\n",
        "  if customer != person: #while 안의 반복\n",
        "    print(\"고객님 커피는 아직 준비가 안되었어요\")\n",
        "  else:\n",
        "    print(\"커피 여기드릴게요\")"
      ],
      "metadata": {
        "id": "aUjpR70iPn8h"
      },
      "execution_count": null,
      "outputs": []
    },
    {
      "cell_type": "code",
      "source": [
        "# continue, break\n",
        "\n",
        "# 결석 할색은 빼고싶을때\n",
        "absent = [2,5] #결석\n",
        "no_book = [7] #책을 깜빡했음\n",
        "for student in range(1,11): #1,2,3,4,5,6,7,8,9,10\n",
        "  if student in absent:\n",
        "    continue\n",
        "  elif student in no_book:\n",
        "    print(f\"오늘 수업은 여기까지. {student}는 교무실로 따라와\")\n",
        "    break\n",
        "  print(f\"{student}, 책을 읽어줄래?\")\n",
        "\n"
      ],
      "metadata": {
        "id": "EcACmUz6Pn_U"
      },
      "execution_count": null,
      "outputs": []
    },
    {
      "cell_type": "code",
      "source": [
        "# 한줄 for문 활용\n",
        "# 출석번호가 1,2,3,4 였는데 앞에 100을 붙이기로함 >> 101,102,103,104\n",
        "\n",
        "students = [1,2,3,4,5]\n",
        "print(students)\n",
        "\n",
        "students = [i+100 for i in students]\n",
        "print(students)"
      ],
      "metadata": {
        "id": "K8nPEmvqPoDK"
      },
      "execution_count": null,
      "outputs": []
    },
    {
      "cell_type": "code",
      "source": [
        "# 학생 이름을 길이로 변환\n",
        "\n",
        "students = [\"iron man\",\"thor\",\"i am groot\"]\n",
        "students = [len(i) for i in students]\n",
        "print(students)"
      ],
      "metadata": {
        "id": "vOco9TR0PoGM"
      },
      "execution_count": null,
      "outputs": []
    },
    {
      "cell_type": "code",
      "source": [
        "# 학생 이름을 대문자로 변환\n",
        "\n",
        "\n",
        "students = [\"iron man\",\"thor\",\"i am groot\"]\n",
        "students = [i.upper() for i in students]\n",
        "print(students)"
      ],
      "metadata": {
        "id": "uKhcwmP1PoIt"
      },
      "execution_count": null,
      "outputs": []
    },
    {
      "cell_type": "markdown",
      "source": [
        "quiz) 당신은 cocoa 서비스를 이용하는 택시 기사님입니다\n",
        "\n",
        "50명의 승객과 매칭 기회가 있을 때, 총 탑승 승객 수를 구하는 프로그램을 작성하시오.\n",
        "\n",
        "조건1: 승객별 운행 소요 시간은 5분~50분 사이의 난수로 정해집니다\n",
        "\n",
        "조건2: 당신은 소요 시간 5분~15분 사이의 승객만 매칭해야 합니다\n",
        "\n",
        "(출력문 예제)\n",
        "[0] 1번째 손님 (소요시간 : 15분)\n",
        "\n",
        "[x] 2번째 손님 (소요시간 : 50분)\n",
        "\n",
        "[0] 3f번째 손님 (소요시간 : 5분)\n",
        "\n",
        "...\n",
        "\n",
        "[x] 50번째 손님 (소요시간 : 16분)\n",
        "\n",
        "총 탑승 승객 : 2분\n"
      ],
      "metadata": {
        "id": "6slYQxbXPoNt"
      }
    },
    {
      "cell_type": "code",
      "source": [
        "from random import *\n",
        "\n",
        "customers = list(range(1,51))\n",
        "\n",
        "take_customers = 0\n",
        "\n",
        "for i in customers:\n",
        "  time = randrange(5,51)\n",
        "  if time >= 5 and time <= 15:\n",
        "    print(f\"[O] {i}번째 손님 (소요시간 : {time}분)\")\n",
        "    take_customers += 1\n",
        "  else:\n",
        "    print(f\"[] {i}번째 손님 (소요시간 : {time}분)\")\n",
        "print(\"\\n\",f\"총 탑승 승객 : {take_customers} 명\")\n"
      ],
      "metadata": {
        "id": "IYWLZHQXPoQc"
      },
      "execution_count": null,
      "outputs": []
    },
    {
      "cell_type": "code",
      "source": [
        "from random import *\n",
        "cnt = 0 # 총 탑승 승객 수\n",
        "for i in range(1,51):\n",
        "  time = randrange(5,51)\n",
        "  if 5 <= time and time <= 15:\n",
        "    print(f\"[0] {i}번째 손님 (소요시간 {time}분)\") # 매칭 성공\n",
        "    cnt += 1\n",
        "  else:\n",
        "    print(f\"[] {i}번째 손님 (소요시간 {time}분)\") # 매칭 실패\n",
        "print(f\"총 탑승 승객 : {cnt}명\")"
      ],
      "metadata": {
        "id": "TRIwDXk3PoTC"
      },
      "execution_count": null,
      "outputs": []
    },
    {
      "cell_type": "markdown",
      "source": [
        "# 함수"
      ],
      "metadata": {
        "id": "zDvxwcH6tmbP"
      }
    },
    {
      "cell_type": "code",
      "source": [
        "def open_account():\n",
        "  print(\"새로운 계좌가 생성되었습니다.\")\n",
        "\n",
        "open_account()"
      ],
      "metadata": {
        "id": "9cLpFe0KtmmV"
      },
      "execution_count": null,
      "outputs": []
    },
    {
      "cell_type": "code",
      "source": [
        "# 값을 받는 함수\n",
        "\n",
        "def deposit(balance,money): # 입금 함수 잔액과 현재 입금한 금액을 전달 받음\n",
        "  print(f\"입금이 완료되었습니다. 잔액은{balance + money} 원입니다.\")\n",
        "  return balance + money\n",
        "\n",
        "def withdraw(balance,money): # 출금 함수\n",
        "  if balance >= money:\n",
        "    print(f\"출금이 완료되었습니다. 잔액은{balance - money} 원입니다.\")\n",
        "    return balance - money\n",
        "  else:\n",
        "    print(f\"출금이 완료되지 않았습니다. 잔액은 {balance} 원입니다\")\n",
        "    return balance\n",
        "def withdraw_night(balance,money): #저녁에 출금  추가요금\n",
        "  commission = 100\n",
        "  return commission,balance-money-commission # 여라개의 값을 반환\n",
        "balance = 0 #잔\n",
        "balance = deposit(balance,1000)\n",
        "balance = withdraw(balance,100)\n",
        "commission,balance = withdraw_night(balance,500)\n",
        "print(f\"수수료는 {commission} 원이며, 잔액은 {balance}입니다\")"
      ],
      "metadata": {
        "id": "hkdEOAggtmri"
      },
      "execution_count": null,
      "outputs": []
    },
    {
      "cell_type": "code",
      "source": [
        "# 함수에서 기본값을 설정하는 방법\n",
        "\n",
        "def profile(name,age,main_lang):\n",
        "  print(f\"이름 : {name} ,나이 : {age}, 주 사용 언어 : {main_lang}\")\n",
        "\n",
        "profile(\"유재석\",20,\"파이썬\")\n",
        "profile(\"김태호\",25,\"자바\")\n"
      ],
      "metadata": {
        "id": "maRucZUYtmuA"
      },
      "execution_count": null,
      "outputs": []
    },
    {
      "cell_type": "code",
      "source": [
        "# 같은 학교 같은 학년 같은 반 같은 수업\n",
        "# 겹치는 경우가 많으면 중복되는 부분을 기본값으로 설정할 수 있다\n",
        "\n",
        "def profile(name,age = 17,main_lang = \"파이썬\"):\n",
        "  print(f\"이름 : {name} ,나이 : {age}, 주 사용 언어 : {main_lang}\")\n",
        "\n",
        "profile(\"유재석\")\n",
        "profile(\"김태호\")\n"
      ],
      "metadata": {
        "id": "H9nT3g9ttmwD"
      },
      "execution_count": null,
      "outputs": []
    },
    {
      "cell_type": "code",
      "source": [
        "# 키워드 값을 이용한 함수 호출\n",
        "\n",
        "def profile(name,age,main_lang):\n",
        "    print(name,age,main_lang)\n",
        "\n",
        "# 값을 지정해주면 인자 순서와 상관없이 사용가\n",
        "profile(name = \"유재석\",main_lang = \"파이썬\", age = 20)\n",
        "profile(main_lang = \"자바\",age = 20, name = \"김태호\")"
      ],
      "metadata": {
        "id": "bAUh6jiAtmye",
        "colab": {
          "base_uri": "https://localhost:8080/",
          "height": 133
        },
        "outputId": "08d9ec85-9fa3-4b0d-cd9f-9e95749d2cc8"
      },
      "execution_count": null,
      "outputs": [
        {
          "output_type": "error",
          "ename": "SyntaxError",
          "evalue": "ignored",
          "traceback": [
            "\u001b[0;36m  File \u001b[0;32m\"<ipython-input-27-70d1c21460b9>\"\u001b[0;36m, line \u001b[0;32m7\u001b[0m\n\u001b[0;31m    profile(name = \"유재석\",main_lang = \"파이썬\", 20)\u001b[0m\n\u001b[0m                                              ^\u001b[0m\n\u001b[0;31mSyntaxError\u001b[0m\u001b[0;31m:\u001b[0m positional argument follows keyword argument\n"
          ]
        }
      ]
    },
    {
      "cell_type": "code",
      "source": [
        "# 가변 인자를 이용한 함수 호출\n",
        "\n",
        "def profile(name,age,lang1,lang2,lang3,lang4,lang5):\n",
        "  print(f\"이름 {name} 나이 {age}\",end = \" \") # end를 지정하면 한번에 이어서 호출됨\n",
        "  print(lang1,lang2,lang3,lang4,lang5)\n",
        "\n",
        "profile(\"유재석\",20,\"파이썬\",\"자바\",\"씨\",\"씨플\",\"씨샵\")\n",
        "profile(\"김태호\",20,\"코틀린\",\"스위프트\",\"\",\"\",\"\") # 매번 빈값을 넣어줘야 할까?\n",
        "\n",
        "# 만약 유재석이 언어를 하나더 마스터해서 인자를 늘려야 한다면?\n",
        "\n",
        "# 가변인자를 사용해야한다"
      ],
      "metadata": {
        "id": "Zq9mVn_2tm1L"
      },
      "execution_count": null,
      "outputs": []
    },
    {
      "cell_type": "code",
      "source": [
        "# 가변인자 사용하기\n",
        "\n",
        "def profile(name,age,*language):\n",
        "  print(f\"이름 {name} 나이 {age}\",end = \" \") # end를 지정하면 한번에 이어서 호출됨\n",
        "  for lang in language: # lang이라는 변수 만들어서 한번씩 출력\n",
        "    print(lang, end = \" \")\n",
        "  print()\n",
        "\n",
        "\n",
        "profile(\"유재석\",20,\"파이썬\",\"자바\",\"씨\",\"씨플\",\"씨샵\",\"자바 스크립트\")\n",
        "profile(\"김태호\",20,\"코틀린\",\"스위프트\")\n"
      ],
      "metadata": {
        "id": "u53Jz7Rgtm32",
        "colab": {
          "base_uri": "https://localhost:8080/"
        },
        "outputId": "1d1ade2c-2eca-4d85-be9a-2cf9102217f0"
      },
      "execution_count": null,
      "outputs": [
        {
          "output_type": "stream",
          "name": "stdout",
          "text": [
            "이름 유재석 나이 20 ('파이썬', '자바', '씨', '씨플', '씨샵', '자바 스크립트')\n",
            "파이썬 자바 씨 씨플 씨샵 자바 스크립트 \n",
            "이름 김태호 나이 20 ('코틀린', '스위프트')\n",
            "코틀린 스위프트 \n"
          ]
        }
      ]
    },
    {
      "cell_type": "code",
      "source": [
        "# 지역변수와 전역변수\n",
        "# 지역변수 >> 함수 호출시에만 생성되고 사라지는것\n",
        "# 전역변수 >> 어디서나 호출 가능한 함수\n",
        "\n",
        "# 군대\n",
        "\n",
        "gun = 10 #전역변수\n",
        "\n",
        "def checkpoint(soldiers): # 경계근무\n",
        "  gun = 20 #지역변수\n",
        "  gun = gun - soldiers\n",
        "  print(f\"남은총 : {gun}\")\n",
        "\n",
        "print(f\"전체총 : {gun}\")\n",
        "\n",
        "#지역변수와 전역변수에 의해 차이가 발생할 것\n",
        "checkpoint(2)\n",
        "print(f\"남은총 : {gun}\")"
      ],
      "metadata": {
        "id": "_61eTpyUtm7D"
      },
      "execution_count": null,
      "outputs": []
    },
    {
      "cell_type": "code",
      "source": [
        "gun = 10\n",
        "\n",
        "def checkpoint(soldiers): # 경계근무\n",
        "  global gun # 전역 공간에 있는 gun 사용\n",
        "  gun = gun - soldiers\n",
        "  print(f\"남은총 : {gun}\")\n",
        "\n",
        "print(f\"전체총 : {gun}\")\n",
        "\n",
        "# 차이가 사라짐\n",
        "checkpoint(2)\n",
        "print(f\"남은총 : {gun}\")"
      ],
      "metadata": {
        "id": "2fLcTpMqtm9v"
      },
      "execution_count": null,
      "outputs": []
    },
    {
      "cell_type": "code",
      "source": [
        "# 전역변수를 너무 자주 사용하면 오류가 발생 하기에\n",
        "# 원래 전역변수에 지역변수를 사용해 값을 리턴하는 것을 주로 사용한\n",
        "\n",
        "def checkpoint_ret(gun,soldiers):\n",
        "  gun = gun - soldiers\n",
        "  print(f\"남은총 : {gun}\")\n",
        "  return gun\n",
        "\n",
        "checkpoint_ret(10,2)"
      ],
      "metadata": {
        "id": "6uFglm-NtnCc"
      },
      "execution_count": null,
      "outputs": []
    },
    {
      "cell_type": "markdown",
      "source": [
        "quiz) 표준 체중을 구하는 프로그램을 작성하시오\n",
        "\n",
        "* 표준 체중 : 각 개인의 키에 적당한 체중\n",
        "\n",
        "(성별에 따른 공식)\n",
        "\n",
        "남자 : 키(m) * 키(m) * 22\n",
        "\n",
        "여자 : 키(m) * 키(m) * 21\n",
        "\n",
        "조건 1 : 표준 체중은 별도의 함수 내에서 계산\n",
        "\n",
        "  함수명 : std_weigh\n",
        "\n",
        "  전달값 : 키 height 성별 gender\n",
        "\n",
        "조건 2 : 표준 체중은 소수점 둘째자리까지 표시\n",
        "\n",
        "(출력 예제)\n",
        "\n",
        "키175cm 남자의 표준 체중은 67.38kg 입니다."
      ],
      "metadata": {
        "id": "m-qBgQH0tnEb"
      }
    },
    {
      "cell_type": "code",
      "source": [
        "def std_weight(gender,height):\n",
        "  if gender == \"남자\":\n",
        "    std_weight = height/100*height/100*22\n",
        "    print(f\"키 {height}cm 남자의 표준 체중은 {round(std_weight,2)}입니다.\") # round 함수 반올림\n",
        "  elif gender == \"여자\":\n",
        "    std_weight = height/100*height/100*21\n",
        "    print(f\"키 {height}cm 남자의 표준 체중은 {round(std_weight,2)}입니다.\")\n",
        "  else:\n",
        "    print(\"성별을 남자,여자로만 입력해주세요\")\n",
        "\n",
        "std_weight(\"남자\",175)\n",
        "std_weight(\"여자\",165)\n",
        "std_weight(\"여\",165)"
      ],
      "metadata": {
        "id": "Mt93RPswtnIi"
      },
      "execution_count": null,
      "outputs": []
    },
    {
      "cell_type": "code",
      "source": [
        "# 답\n",
        "\n",
        "def std_weight(height,gender): # 키 m 단위 (실수), 성별 \"남자\"/\"여자\"\n",
        "  if gender == \"남자\":\n",
        "    return height*height*22\n",
        "  else:\n",
        "    return height*height*21\n",
        "\n",
        "height = 175\n",
        "gender = \"남자\"\n",
        "weight = round(std_weight(height / 100,gender),2)\n",
        "print(f\"키 {height}cm {gender}의 표준 체중은{weight}kg 입니다.\")"
      ],
      "metadata": {
        "id": "YLPCkQLhtnKc"
      },
      "execution_count": null,
      "outputs": []
    },
    {
      "cell_type": "markdown",
      "source": [
        "# 표준 입출력"
      ],
      "metadata": {
        "id": "OL8MU16jtnMk"
      }
    },
    {
      "cell_type": "code",
      "source": [
        "# sep >> 통해 공백에 문자를 집어 넣을수가 있다\n",
        "# end >> 문장의 끝 부분을 지정할 수 있다 디폴트는 줄바 꿈이었음\n",
        "print(\"python\",\"java\",\"java script\",sep=\" vs \",end=\"?\")\n",
        "print(\"무엇이 더 재밌을까요?\")"
      ],
      "metadata": {
        "id": "xsSB5c-5tnPV"
      },
      "execution_count": null,
      "outputs": []
    },
    {
      "cell_type": "code",
      "source": [
        "import sys\n",
        "print(\"python\",\"java\",file=sys.stdout) # 표준 출력으로 문장이 처리됨\n",
        "print(\"python\",\"java\",file=sys.stderr) # 표준 에러로 처리되는 부분"
      ],
      "metadata": {
        "id": "68_U8A2Idm5P"
      },
      "execution_count": null,
      "outputs": []
    },
    {
      "cell_type": "code",
      "source": [
        "# 시험 성적\n",
        "scores = {\"수학\":0, \"영어\":50, \"코딩\":100}\n",
        "for subject,score in scores.items():\n",
        "  print(subject.ljust(8) ,str(score).rjust(4),sep = \":\") #lefr right 공백만큼을 인자로 넣어서 정렬"
      ],
      "metadata": {
        "id": "Uyu2JAiFdnCY"
      },
      "execution_count": null,
      "outputs": []
    },
    {
      "cell_type": "code",
      "source": [
        "# 은행 대기순번표\n",
        "# 001 002 003 ......\n",
        "\n",
        "for num in range(1,21):\n",
        "  print(\"대기번호 : \" + str(num).zfill(3)) # 영 3개의 공간만큼으로 채우자"
      ],
      "metadata": {
        "id": "ziFu9JXTdnLQ"
      },
      "execution_count": null,
      "outputs": []
    },
    {
      "cell_type": "code",
      "source": [
        "# 표준 입력\n",
        "\n",
        "answer = input(\"아무 값이나 입력하세요 : \")\n",
        "print(type(answer))\n",
        "print(\"입력하신 값은 \" +answer+\"입니다.\") # 값을 받게 되면 항상 문자열의 형태로 값이 저장된다는것"
      ],
      "metadata": {
        "id": "urWx_u4HdnUy"
      },
      "execution_count": null,
      "outputs": []
    },
    {
      "cell_type": "code",
      "source": [
        "# 다양한 출력 포맷\n",
        "\n",
        "# 빈 자리는 빈공간으로 두고, 오른쪽 정렬을 하되, 총 10자리 공간을 확보\n",
        "num = 500\n",
        "print(f\"{num:>10}\")\n",
        "\n",
        "# 양수일 땐 +로 표시, 음수일 땐 -로 표시\n",
        "print(f\"{num: >+10}\")\n",
        "num = -500\n",
        "print(f\"{num: >+10}\") # 음수일때는 원래 -였으므로 티는 안나지만, +는 표시가 된다는걸 알 수 있음\n",
        "\n",
        "# 왼쪽 정렬하고, 빈칸에 _로 채움\n",
        "num = 500\n",
        "print(f\"{num:_<+10}\") # 10칸을 확보하고 나머지를 ______로 채움\n",
        "\n",
        "# 3자리 마다 콤마를 찍어주기\n",
        "num = 10000000000000000\n",
        "print(f\"{num:,}\")\n",
        "\n",
        "# 3자리 마다 콤마를 찍어주기,+- 부호도 붙이기\n",
        "print(f\"{num:+,}\")\n",
        "\n",
        "# 3자리 마다 콤마를 찍어주기, 부호도 붙이고, 자릿수 확보하기\n",
        "# 돈이 많으면 행복하니까 빈 자리는 ^로 채워주기\n",
        "\n",
        "print(f\"{num:^<+30,}\")\n",
        "\n",
        "# 소수점 출력\n",
        "num = 5/3\n",
        "print(f\"{num}\")\n",
        "\n",
        "# 소수점 특정 자리수 까지만 표시 (소수점 3째 자리에서 반올림)\n",
        "print(f\"{num:.2f}\")\n"
      ],
      "metadata": {
        "id": "Hk4Vw5cTdneJ"
      },
      "execution_count": null,
      "outputs": []
    },
    {
      "cell_type": "code",
      "source": [
        "# 파일 입출력\n",
        "\n",
        "score_file = open(\"score.text\",\"w\",encoding = \"utf8\") # 한글을 사용하기 위해 utf8을 해야함\n",
        "print(\"수학 : 0\",file=score_file)\n",
        "print(\"영어 : 50\",file=score_file)\n",
        "score_file.close() # 파일은 항상 닫아줘야함\n",
        "# 실행하면 파일창에 파일이 생긴걸 확인할 수 있음"
      ],
      "metadata": {
        "id": "NJB8LqZwdnnv"
      },
      "execution_count": null,
      "outputs": []
    },
    {
      "cell_type": "code",
      "source": [
        "score_file = open(\"score.text\",\"a\",encoding = \"utf8\") #append 덮어쓰지 않고 싶을때 이어 붙이는 용도\n",
        "score_file.write(\"과학 : 80\")\n",
        "score_file.write(\"\\n코딩 : 100\") # 바로 쓸때는 줄바꿈이 자동으로 안되므로 줄바꿈 넣어줘야\n"
      ],
      "metadata": {
        "colab": {
          "base_uri": "https://localhost:8080/"
        },
        "id": "OpRotiKpdj1D",
        "outputId": "7a40a5a2-a923-4426-e306-151e8980ad7d"
      },
      "execution_count": null,
      "outputs": [
        {
          "output_type": "execute_result",
          "data": {
            "text/plain": [
              "9"
            ]
          },
          "metadata": {},
          "execution_count": 94
        }
      ]
    },
    {
      "cell_type": "code",
      "source": [
        "score_file = open(\"score.text\",\"r\",encoding = \"utf8\") #read 파일을 읽겠다\n",
        "\n",
        "print(score_file.read())\n",
        "score_file.close()"
      ],
      "metadata": {
        "colab": {
          "base_uri": "https://localhost:8080/"
        },
        "id": "gXsJ19Wodj_w",
        "outputId": "186ea6e8-f17b-447a-a784-8a210acd9668"
      },
      "execution_count": null,
      "outputs": [
        {
          "output_type": "stream",
          "name": "stdout",
          "text": [
            "수학 : 0\n",
            "영어 : 50\n",
            "과학 : 80\n",
            "코딩 : 100\n"
          ]
        }
      ]
    },
    {
      "cell_type": "code",
      "source": [
        "score_file = open(\"score.text\",\"r\",encoding = \"utf8\")\n",
        "print(score_file.readline()) # 줄별로 읽기,한 줄 읽고 커서는 다음 줄로 이동\n",
        "print(score_file.readline())\n",
        "print(score_file.readline())\n",
        "print(score_file.readline())\n",
        "score_file.close()"
      ],
      "metadata": {
        "colab": {
          "base_uri": "https://localhost:8080/"
        },
        "id": "mes191KWdkKA",
        "outputId": "59516e89-8509-49d3-dbb1-ca6d874522c7"
      },
      "execution_count": null,
      "outputs": [
        {
          "output_type": "stream",
          "name": "stdout",
          "text": [
            "수학 : 0\n",
            "\n",
            "영어 : 50\n",
            "\n",
            "과학 : 80\n",
            "\n",
            "코딩 : 100\n"
          ]
        }
      ]
    },
    {
      "cell_type": "code",
      "source": [
        "# 다른 사람의 파일을 가져온 경우는 몇줄인지 모르는 경우가 있으니까\n",
        "\n",
        "score_file = open(\"score.text\",\"r\",encoding = \"utf8\")\n",
        "while True:\n",
        "  line = score_file.readline()\n",
        "  if not line:\n",
        "    break\n",
        "  print(line)\n",
        "score_file.close()"
      ],
      "metadata": {
        "colab": {
          "base_uri": "https://localhost:8080/"
        },
        "id": "9DWrTtJOdkXV",
        "outputId": "a3a64f4a-14b3-49b3-974a-907ff1e48a71"
      },
      "execution_count": null,
      "outputs": [
        {
          "output_type": "stream",
          "name": "stdout",
          "text": [
            "수학 : 0\n",
            "\n",
            "영어 : 50\n",
            "\n",
            "과학 : 80\n",
            "\n",
            "코딩 : 100\n"
          ]
        }
      ]
    },
    {
      "cell_type": "code",
      "source": [
        "# 리스트에다가 값을 다 넣어서 처리할 수 있음\n",
        "\n",
        "score_file = open(\"score.text\",\"r\",encoding = \"utf8\")\n",
        "lines = score_file.readlines() # list 형태로 저장\n",
        "\n",
        "for line in lines:\n",
        "  print(line,end=\"\")\n",
        "\n",
        "score_file.close()"
      ],
      "metadata": {
        "colab": {
          "base_uri": "https://localhost:8080/"
        },
        "id": "TQQepRu1dkly",
        "outputId": "666cf064-6b0c-4c80-c058-ed76fc6c3c8a"
      },
      "execution_count": null,
      "outputs": [
        {
          "output_type": "stream",
          "name": "stdout",
          "text": [
            "수학 : 0\n",
            "영어 : 50\n",
            "과학 : 80\n",
            "코딩 : 100"
          ]
        }
      ]
    },
    {
      "cell_type": "code",
      "source": [
        "# 피클?\n",
        "# 프로그램상에서 사용하고 있는 데이터를 파일로 저장하는것\n",
        "\n",
        "import pickle\n",
        "\n",
        "profile_file = open(\"profile.pickle\",\"wb\") #피클을 쓰기 위해서는 항상 바이너리 타입을 지정해야함\n",
        "profile = {\"이름\":\"박명수\",\"나이\":30,\"취미\":[\"축구\",\"골프\",\"코딩\"]}\n",
        "print(profile)\n",
        "\n",
        "pickle.dump(profile,profile_file) # profile에 있는 정보를 file에 저장\n",
        "profile_file.close()"
      ],
      "metadata": {
        "colab": {
          "base_uri": "https://localhost:8080/"
        },
        "id": "hC46K7fedkup",
        "outputId": "1a9af2ef-9c6c-4090-ecf0-2837d36c8782"
      },
      "execution_count": null,
      "outputs": [
        {
          "output_type": "stream",
          "name": "stdout",
          "text": [
            "{'이름': '박명수', '나이': 30, '취미': ['축구', '골프', '코딩']}\n"
          ]
        }
      ]
    },
    {
      "cell_type": "code",
      "source": [
        "# profile에 있는 정보 file을 물러오기\n",
        "import pickle\n",
        "\n",
        "profile_file = open(\"profile.pickle\",\"rb\") # 읽기 전용파일로 열겠다 마찬가지로 바이너리 타입 지정\n",
        "profile = pickle.load(profile_file) # file에 있는 정보를 profile에 불러오기\n",
        "print(profile)\n",
        "profile_file.close()"
      ],
      "metadata": {
        "colab": {
          "base_uri": "https://localhost:8080/"
        },
        "id": "rLo0D7opdk45",
        "outputId": "6f3ee00d-f96d-43fb-ca75-7a23a2123100"
      },
      "execution_count": null,
      "outputs": [
        {
          "output_type": "stream",
          "name": "stdout",
          "text": [
            "{'이름': '박명수', '나이': 30, '취미': ['축구', '골프', '코딩']}\n"
          ]
        }
      ]
    },
    {
      "cell_type": "code",
      "source": [
        "# with\n",
        "import pickle\n",
        "\n",
        "with open(\"profile.pickle\",\"rb\") as profile_file:\n",
        "  print(pickle.load(profile_file))\n",
        "# 열었던 파일에 대해서 close를 할 필요가 없음"
      ],
      "metadata": {
        "id": "OqfWyNJ1tnSf",
        "colab": {
          "base_uri": "https://localhost:8080/"
        },
        "outputId": "ce20bdf4-c957-4874-cab0-3ba75125176e"
      },
      "execution_count": null,
      "outputs": [
        {
          "output_type": "stream",
          "name": "stdout",
          "text": [
            "{'이름': '박명수', '나이': 30, '취미': ['축구', '골프', '코딩']}\n"
          ]
        }
      ]
    },
    {
      "cell_type": "code",
      "source": [
        "# 활용하기\n",
        "\n",
        "with open(\"study.txt\",\"w\",encoding = \"utf8\") as study_file:\n",
        "  study_file.write(\"파이썬을 열심히 공부하고 있어요\")"
      ],
      "metadata": {
        "id": "kcVjx0pItnVA"
      },
      "execution_count": null,
      "outputs": []
    },
    {
      "cell_type": "code",
      "source": [
        "with open(\"study.txt\",\"r\",encoding = \"utf8\") as study_file:\n",
        "  print(study_file.read())"
      ],
      "metadata": {
        "id": "uBIVR6wPtnYS",
        "colab": {
          "base_uri": "https://localhost:8080/"
        },
        "outputId": "7902798d-4419-4331-dd43-0ce9db566ca1"
      },
      "execution_count": null,
      "outputs": [
        {
          "output_type": "stream",
          "name": "stdout",
          "text": [
            "파이썬을 열심히 공부하고 있어요\n"
          ]
        }
      ]
    },
    {
      "cell_type": "markdown",
      "source": [
        "quiz) 당신의 회사에서는 매주 1회 작성해야 하는 보고서가 있습니다\n",
        "\n",
        "보고서는 항상 아래와 같은 형태로 출력되어야 합니다\n",
        "\n",
        "-X 주차 주간보고-\n",
        "\n",
        "부서 :\n",
        "\n",
        "이름 :\n",
        "\n",
        "업무 요약 :\n",
        "\n",
        "1주차부터 50주차까지의 보고서 파일을 만드는 프로그램을 작성하시오\n",
        "\n",
        "조건 : 파일명은 '1주차.txt', '2주차.txt'...\n",
        "와 같이 만듭니다\n"
      ],
      "metadata": {
        "id": "GIXeBxnotna-"
      }
    },
    {
      "cell_type": "code",
      "source": [
        "for i in range(1,51):\n",
        "  with open(f\"{str(i)}주차.txt\",\"w\",encoding = \"utf8\") as week_file:\n",
        "    week_file.write(f\"\"\"\n",
        "    -{str(i)}주차 주간보고-\n",
        "\n",
        "    부서:\n",
        "\n",
        "    이름:\n",
        "\n",
        "    업무 요약:\n",
        "    \"\"\")\n"
      ],
      "metadata": {
        "id": "pp0pPz9XxT9l"
      },
      "execution_count": null,
      "outputs": []
    },
    {
      "cell_type": "code",
      "source": [
        "for i in range(1,51):\n",
        "  with open(str(i) + \"주차.txt\",\"w\",encoding = \"utf8\") as report_file:\n",
        "    report_file.write(\"- {0} 주차 주간보고 -\".format(i))\n",
        "    report_file.write(\"\\n부서 : \")\n",
        "    report_file.write(\"\\n이름 : \")\n",
        "    report_file.write(\"\\n업무 요약 : \")\n"
      ],
      "metadata": {
        "id": "B1k17Ag7xUCE"
      },
      "execution_count": null,
      "outputs": []
    },
    {
      "cell_type": "markdown",
      "source": [
        "# 클래스"
      ],
      "metadata": {
        "id": "mTYSgiSfxUNZ"
      }
    },
    {
      "cell_type": "code",
      "source": [
        "# 스타크래프트\n",
        "\n",
        "# 마린 : 공격 유닛, 군인, 총을 쏠 수 있음\n",
        "name = \"마린\"\n",
        "hp = 40\n",
        "damage = 5\n",
        "\n",
        "print(f\"{name} 유닛이 생성되었습니다\")\n",
        "print(f\"체력 {hp}, 공격력 {damage}\\n\")\n",
        "\n",
        "# 탱크 : 공격 유닛, 탱크, 포를 쏠 수 있는데 일반모드/ 시즈모드\n",
        "tank_name = \"탱크\"\n",
        "tank_hp = 150\n",
        "tank_damage = 35\n",
        "\n",
        "print(f\"{tank_name} 유닛이 생성되었습니다\")\n",
        "print(f\"체력 {tank_hp}, 공격력 {tank_damage}\\n\")\n",
        "\n",
        "# 만약에 탱크 하나가 더 추가된다면? (마지막 코드)\n",
        "tank2_name = \"탱크\"\n",
        "tank2_hp = 150\n",
        "tank2_damage = 35\n",
        "\n",
        "def attack(name,location,damage):\n",
        "  print(f\"{name} : {location} 방향으로 적군을 공격 합니다. [공격력 {damage}]\")\n",
        "\n",
        "attack(name,\"1시\",damage)\n",
        "attack(tank_name,\"1시\",tank_damage)\n",
        "attack(tank2_name,\"1시\",tank_damage)"
      ],
      "metadata": {
        "colab": {
          "base_uri": "https://localhost:8080/"
        },
        "id": "dIdFJDzJxUSI",
        "outputId": "fdf99b4f-dff6-42eb-f772-00a3248f5f4a"
      },
      "execution_count": null,
      "outputs": [
        {
          "output_type": "stream",
          "name": "stdout",
          "text": [
            "마린 유닛이 생성되었습니다\n",
            "체력 40, 공격력 5\n",
            "\n",
            "탱크 유닛이 생성되었습니다\n",
            "체력 150, 공격력 35\n",
            "\n",
            "마린 : 1시 방향으로 적군을 공격 합니다. [공격력 5]\n",
            "탱크 : 1시 방향으로 적군을 공격 합니다. [공격력 35]\n",
            "탱크 : 1시 방향으로 적군을 공격 합니다. [공격력 35]\n"
          ]
        }
      ]
    },
    {
      "cell_type": "code",
      "source": [
        "# 유닛이 계속 추가된다면 어떻게 해야할까?\n",
        "# >>>> 그래서 클래스의 개념이 필요하다\n",
        "\n",
        "# 일반 유닛\n",
        "class Unit:\n",
        "  def __init__(self,name,hp,damage):\n",
        "    self.name = name\n",
        "    self.hp = hp\n",
        "    self.damage = damage\n",
        "    print(f\"{self.name} 유닛이 생성되었습니다\")\n",
        "    print(f\"체력 {self.hp}, 공격력 {self.damage}\")\n",
        "\n",
        "marine1 = Unit(\"마린\",40,5)\n",
        "marine2 = Unit(\"마린\",40,5)\n",
        "tank = Unit(\"탱크\",150,35)"
      ],
      "metadata": {
        "colab": {
          "base_uri": "https://localhost:8080/"
        },
        "id": "GfD15zQQxUWn",
        "outputId": "ad09b84d-8e37-48d2-dbaa-5bb4952027d7"
      },
      "execution_count": null,
      "outputs": [
        {
          "output_type": "stream",
          "name": "stdout",
          "text": [
            "마린 유닛이 생성되었습니다\n",
            "체력 40, 공격력 5\n",
            "마린 유닛이 생성되었습니다\n",
            "체력 40, 공격력 5\n",
            "탱크 유닛이 생성되었습니다\n",
            "체력 150, 공격력 35\n"
          ]
        }
      ]
    },
    {
      "cell_type": "code",
      "source": [
        "# __init__ 함수는 도대체 무엇일까??\n",
        "\n",
        "# 파이썬에서 쓰이는 생성자임\n",
        "\n",
        "# __init__ 함수에 정의된 개수만큼 인자가 정의되어야만 객체를 만들 수 있음"
      ],
      "metadata": {
        "id": "XQDeRaK2xUbc"
      },
      "execution_count": null,
      "outputs": []
    },
    {
      "cell_type": "code",
      "source": [
        "# 멤버변수???\n",
        "# 어떤 클래스내에서 정의된 변수고 그 변수를 가지고 초기화하고 쓸 수 있음\n",
        "\n",
        "# 레이스 : 공중 유닛, 비행기 ,클로킹 (상대방에게 보이지 않음)\n",
        "wraith1 = Unit(\"레이스\",80,5)\n",
        "print(f\"유닛 이름 : {wraith1.name}, 공격력 : {wraith1.damage}\")\n",
        "\n",
        "# 다크아칸이 마인드 컨트롤\n",
        "wraith2 = Unit(\"빼앗은 레이스\",80,5)\n",
        "wraith2.clocking = True\n",
        "# 외부에서 객체에 변수를 추가로 할당,but wraith1에는 변수가 할당되지 않는다는것을 알 수 있\n",
        "\n",
        "if wraith2.clocking == True:\n",
        "  print(f\"{wraith2.name}는 현재 클로킹 상태입니 \")"
      ],
      "metadata": {
        "colab": {
          "base_uri": "https://localhost:8080/"
        },
        "id": "xZpARstCxUgK",
        "outputId": "80fd1b5c-d045-47e7-e105-2c6840a65ae5"
      },
      "execution_count": null,
      "outputs": [
        {
          "output_type": "stream",
          "name": "stdout",
          "text": [
            "레이스 유닛이 생성되었습니다\n",
            "체력 80, 공격력 5\n",
            "유닛 이름 : 레이스, 공격력 : 5\n",
            "빼앗은 레이스 유닛이 생성되었습니다\n",
            "체력 80, 공격력 5\n",
            "빼앗은 레이스는 현재 클로킹 상태입니 \n"
          ]
        }
      ]
    },
    {
      "cell_type": "code",
      "source": [
        "# 메소드??\n",
        "\n",
        "# 공격 유닛\n",
        "class AttackUnit:\n",
        "  def __init__(self,name,hp,damage): # self는 자기 자신을 의미함\n",
        "    self.name = name\n",
        "    self.hp = hp\n",
        "    self.damage = damage\n",
        "\n",
        "  def attack(self,location): # location은 전달 받은 값을 씀\n",
        "    print(f\"{self.name} : {location}방향으로 적군을 공격합니다. [공격력 {self.damage}]\")\n",
        "\n",
        "  def damaged(self,damage):\n",
        "    print(f\"{self.name} : {damage} 데미지를 입었습니다.\")\n",
        "    self.hp -= damage\n",
        "    print(f\"{self.name} : 현재 체력은 {self.hp}입니다.\")\n",
        "    if self.hp <= 0:\n",
        "      print(f\"{self.name} : 파괴되었습니다.\")\n",
        "\n",
        "# 파이어뱃 : 공격 유닛, 화염방사기\n",
        "\n",
        "firebat1 = AttackUnit(\"파이어뱃\",50,16)\n",
        "firebat1.attack(\"5시\")\n",
        "\n",
        "#공격 2번 받는다고 가정\n",
        "firebat1.damaged(25)\n",
        "firebat1.damaged(25)"
      ],
      "metadata": {
        "colab": {
          "base_uri": "https://localhost:8080/"
        },
        "id": "segeYkg-xTai",
        "outputId": "b35f1655-2b1a-49ef-ddeb-f101ee3c038a"
      },
      "execution_count": null,
      "outputs": [
        {
          "output_type": "stream",
          "name": "stdout",
          "text": [
            "파이어뱃 : 5시방향으로 적군을 공격합니다. [공격력 16]\n",
            "파이어뱃 : 25 데미지를 입었습니다.\n",
            "파이어뱃 : 현재 체력은 25입니다.\n",
            "파이어뱃 : 25 데미지를 입었습니다.\n",
            "파이어뱃 : 현재 체력은 0입니다.\n",
            "파이어뱃 : 파괴되었습니다.\n"
          ]
        }
      ]
    },
    {
      "cell_type": "code",
      "source": [
        "# 상속??\n",
        "\n",
        "# 일반 유닛\n",
        "class Unit:\n",
        "  def __init__(self,name,hp,speed):\n",
        "    self.name = name\n",
        "    self.hp = hp\n",
        "    self.speed = speed\n",
        "\n",
        "  def move(self, location):\n",
        "    print(\"[지상 유닛 이동]\")\n",
        "    print(f\"{self.name} : {location} 방향으로 이동합니다. [속도 {self.speed}]\")\n",
        "\n",
        "# 유닛의 속성 부분이 겹치는데 어떻게 해야 될까?\n",
        "\n",
        "\n",
        "# 공격 유닛\n",
        "class AttackUnit(Unit): # 상속 받고싶은 클래스를 정의 해주는것\n",
        "  def __init__(self,name,hp,damage,speed):\n",
        "    Unit.__init__(self,name,hp,speed)\n",
        "    self.damage = damage\n",
        "\n",
        "  def attack(self,location):\n",
        "    print(f\"{self.name} : {location}방향으로 적군을 공격합니다. [공격력 {self.damage}]\")\n",
        "\n",
        "  def damaged(self,damage):\n",
        "    print(f\"{self.name} : {damage} 데미지를 입었습니다.\")\n",
        "    self.hp -= damage\n",
        "    print(f\"{self.name} : 현재 체력은 {self.hp}입니다.\")\n",
        "    if self.hp <= 0:\n",
        "      print(f\"{self.name} : 파괴되었습니다.\")\n",
        "\n",
        "# 상속해도 잘 돌아가는지 확인\n",
        "\n",
        "firebat1 = AttackUnit(\"파이어뱃\",50,16,5)\n",
        "firebat1.attack(\"5시\")\n",
        "firebat1.damaged(25)\n",
        "firebat1.damaged(25)"
      ],
      "metadata": {
        "id": "XcrJDLT7tndr",
        "colab": {
          "base_uri": "https://localhost:8080/"
        },
        "outputId": "074fd6c0-f4b5-4fe4-b89b-143645381179"
      },
      "execution_count": null,
      "outputs": [
        {
          "output_type": "stream",
          "name": "stdout",
          "text": [
            "파이어뱃 : 5시방향으로 적군을 공격합니다. [공격력 16]\n",
            "파이어뱃 : 25 데미지를 입었습니다.\n",
            "파이어뱃 : 현재 체력은 25입니다.\n",
            "파이어뱃 : 25 데미지를 입었습니다.\n",
            "파이어뱃 : 현재 체력은 0입니다.\n",
            "파이어뱃 : 파괴되었습니다.\n"
          ]
        }
      ]
    },
    {
      "cell_type": "code",
      "source": [
        "# 다중 상속\n",
        "# 부모 클래스를 두번 상속 받는것\n",
        "\n",
        "# 공중유닛도 레이스같은 공격유닛이 있고, 드랍쉽같은 수송유닛이 있다(공격은 불가함)\n",
        "\n",
        "# 날 수 있는 기능을 가진 클래스\n",
        "class Flyable:\n",
        "  def __init__(self,flying_speed):\n",
        "    self.flying_speed = flying_speed\n",
        "\n",
        "  def fly(self,name,location):\n",
        "    print(f\"{name} : {location} 방향으로 날아갑니다. [속도 {self.flying_speed}]\")\n",
        "\n",
        "# 공중 공격 유닛 클래스\n",
        "class FlyableAttackUnit(AttackUnit,Flyable):\n",
        "  def __init__(self,name,hp,damage,flying_speed):\n",
        "    AttackUnit.__init__(self,name,hp,damage,0) # 지상 speed 0 으로 처리\n",
        "    Flyable.__init__(self,flying_speed)\n",
        "\n",
        "  def move(self,location): # 따로 처리하는거 번거로우므로 오버라이딩, >>> 재정의!!!\n",
        "    print(\"[공중 유닛 이동]\")\n",
        "    self.fly(self.name,location)\n",
        "\n",
        "# 발키리 소환\n",
        "valkyre =  FlyableAttackUnit(\"발키리\",200,6,5)\n",
        "valkyre.fly(valkyre.name,\"3시\")"
      ],
      "metadata": {
        "id": "w5fWcbR0tngW",
        "colab": {
          "base_uri": "https://localhost:8080/"
        },
        "outputId": "077dc5a6-b570-42a7-f102-4f9f86a7a0ce"
      },
      "execution_count": null,
      "outputs": [
        {
          "output_type": "stream",
          "name": "stdout",
          "text": [
            "발키리 : 3시 방향으로 날아갑니다. [속도 5]\n"
          ]
        }
      ]
    },
    {
      "cell_type": "code",
      "source": [
        "# 메소드 오버라이딩\n",
        "\n",
        "# 부모클래스에서 정의한 메소드말고\n",
        "# 자식클래스에서 메소드를 새로 정의해서 사용하고싶을때\n",
        "\n",
        "# 벌쳐\n",
        "vulture = AttackUnit(\"벌쳐\",80,10,10)\n",
        "\n",
        "# 배틀크루저\n",
        "battlecrusier = FlyableAttackUnit(\"배틀크루저\",500,25,3)\n",
        "\n",
        "vulture.move(\"11시\")\n",
        "battlecrusier.fly(\"배틀크루저\",\"9시\")\n",
        "# 매번 이동할때마다 공중,지상을 나눠서 해야하므로 매우 불편하다\n",
        "# 공중공격 유닛에 새로운 메소드를 만들자\n",
        "\n",
        "battlecrusier.move(\"9시\")\n",
        "\n"
      ],
      "metadata": {
        "id": "jmpaBRNjtnjQ",
        "colab": {
          "base_uri": "https://localhost:8080/"
        },
        "outputId": "673bf550-8e07-4cde-e077-72fb1bcbadcf"
      },
      "execution_count": null,
      "outputs": [
        {
          "output_type": "stream",
          "name": "stdout",
          "text": [
            "[지상 유닛 이동]\n",
            "벌쳐 : 11시 방향으로 이동합니다. [속도 10]\n",
            "배틀크루저 : 9시 방향으로 날아갑니다. [속도 3]\n",
            "[공중 유닛 이동]\n",
            "배틀크루저 : 9시 방향으로 날아갑니다. [속도 3]\n"
          ]
        }
      ]
    },
    {
      "cell_type": "code",
      "source": [
        "# 패스??\n",
        "\n",
        "# 건물\n",
        "class BuildingUnit(Unit):\n",
        "  def __init__(self, name, hp, location):\n",
        "    pass # <<<<<<  추가작성안하고 일단은 넘어간다\n",
        "\n",
        "# 서플라이 디폿 : 인구수 채워주는 건물\n",
        "supply_depot = BuildingUnit(\"서플라이 디폿\",500,\"7시\")"
      ],
      "metadata": {
        "id": "90LpvNNv4zWt"
      },
      "execution_count": null,
      "outputs": []
    },
    {
      "cell_type": "code",
      "source": [
        "# 함수에서도 pass\n",
        "\n",
        "def game_start():\n",
        "  print(\"알림, 새로운 게임을 시작합니다\")\n",
        "\n",
        "def game_over():\n",
        "  pass\n",
        "\n",
        "game_start()\n",
        "game_over()"
      ],
      "metadata": {
        "colab": {
          "base_uri": "https://localhost:8080/"
        },
        "id": "bxOPzf6X4zir",
        "outputId": "d6c1493d-bdf0-4735-b7f2-67cebd14d3e7"
      },
      "execution_count": null,
      "outputs": [
        {
          "output_type": "stream",
          "name": "stdout",
          "text": [
            "알림, 새로운 게임을 시작합니다\n"
          ]
        }
      ]
    },
    {
      "cell_type": "code",
      "source": [
        "# 슈퍼??\n",
        "# 클래스를 상속받을때는 부모부분도 상속받았어야 했음\n",
        "\n",
        "# 건물\n",
        "class BuildingUnit(Unit):\n",
        "  def __init__(self, name, hp, location):\n",
        "    # Unit.__init__(self,name,hp,0)\n",
        "    super().__init__(name,hp,0) # self 생략하고 부모클래스 바로 초기화 할 수 있음\n",
        "    self.location = location"
      ],
      "metadata": {
        "id": "KbNN2m5y4ztV"
      },
      "execution_count": null,
      "outputs": []
    },
    {
      "cell_type": "code",
      "source": [
        "# super() 다중 상속에서는 어떻게 될까?\n",
        "\n",
        "class Unit:\n",
        "  def __init__(self):\n",
        "    print(\"Unit 생성자\")\n",
        "\n",
        "class Flyable:\n",
        "  def __init__(self):\n",
        "    print(\"Flyable 생성자\")\n",
        "\n",
        "class FlyableUnit(Unit,Flyable):\n",
        "  def __init__(self):\n",
        "    super().__init__()\n",
        "\n",
        "# 드랍쉽\n",
        "dropship = FlyableUnit()"
      ],
      "metadata": {
        "colab": {
          "base_uri": "https://localhost:8080/"
        },
        "id": "9a6isIWM4z0T",
        "outputId": "54a9a0cd-e66a-46cf-833b-302b3cf20f92"
      },
      "execution_count": null,
      "outputs": [
        {
          "output_type": "stream",
          "name": "stdout",
          "text": [
            "Unit 생성자\n"
          ]
        }
      ]
    },
    {
      "cell_type": "code",
      "source": [
        "class Unit:\n",
        "  def __init__(self):\n",
        "    print(\"Unit 생성자\")\n",
        "\n",
        "class Flyable:\n",
        "  def __init__(self):\n",
        "    print(\"Flyable 생성자\")\n",
        "\n",
        "class FlyableUnit(Flyable,Unit):\n",
        "  def __init__(self):\n",
        "    super().__init__()\n",
        "\n",
        "# 드랍쉽\n",
        "dropship = FlyableUnit()\n",
        "\n",
        "# 상속인자로 들어가는 순서에 따라서 달라진다는 것을 알 수 있다\n",
        "# >>>>> 다중 상속을 받을때는 각각의 생성자를 초기해 줘야 한다는것을 알 수 있다"
      ],
      "metadata": {
        "colab": {
          "base_uri": "https://localhost:8080/"
        },
        "id": "4KxY4G5Z4z7C",
        "outputId": "06b1328b-f19d-4c86-e6bc-308d71a56e81"
      },
      "execution_count": null,
      "outputs": [
        {
          "output_type": "stream",
          "name": "stdout",
          "text": [
            "Flyable 생성자\n"
          ]
        }
      ]
    },
    {
      "cell_type": "code",
      "source": [
        "# 스타크래프트 전반전\n",
        "\n",
        "\n",
        "# 일반 유닛\n",
        "class Unit:\n",
        "  def __init__(self,name,hp,speed):\n",
        "    self.name = name\n",
        "    self.hp = hp\n",
        "    self.speed = speed\n",
        "    print(f\"{self.name}이 생성되었습니다.\")\n",
        "\n",
        "\n",
        "  def move(self, location):\n",
        "    print(f\"{self.name} : {location} 방향으로 이동합니다. [속도 {self.speed}]\")\n",
        "\n",
        "\n",
        "  def damaged(self,damage):\n",
        "    print(f\"{self.name} : {damage} 데미지를 입었습니다.\")\n",
        "    self.hp -= damage\n",
        "    print(f\"{self.name} : 현재 체력은 {self.hp}입니다.\")\n",
        "    if self.hp <= 0:\n",
        "      print(f\"{self.name} : 파괴되었습니다.\")\n",
        "\n",
        "# 공격 유닛\n",
        "class AttackUnit(Unit): # 상속 받고싶은 클래스를 정의 해주는것\n",
        "  def __init__(self,name,hp,damage,speed):\n",
        "    Unit.__init__(self,name,hp,speed)\n",
        "    self.damage = damage\n",
        "\n",
        "  def attack(self,location):\n",
        "    print(f\"{self.name} : {location}방향으로 적군을 공격합니다. [공격력 {self.damage}]\")\n",
        "\n",
        "# 마린 클래스\n",
        "class Marine(AttackUnit):\n",
        "  def __init__(self):\n",
        "    AttackUnit.__init__(self,\"마린\",40,1,5)\n",
        "\n",
        "  # 스팀팩\n",
        "  def stimpack(self):\n",
        "    if self.hp > 10:\n",
        "      self.hp -= 10\n",
        "      print(f\"{self.name} : 스팀팩을 사용합니다. (hp 10 감소)\")\n",
        "    else:\n",
        "      print(f\"{self.name} : 체력이 부족하여 스팀팩을 사용할 수 없습니다\")\n",
        "\n",
        "# 탱크 클래스\n",
        "class Tank(AttackUnit):\n",
        "\n",
        "  seize_developed = False # 시즈모드 개발여부\n",
        "\n",
        "  def __init__(self):\n",
        "    AttackUnit.__init__(self,\"탱크\",150,1,35)\n",
        "    self.seize_mode = False\n",
        "\n",
        "  # 시즈모드\n",
        "  def set_seize_mode(self):\n",
        "    if Tank.seize_developed == False:\n",
        "      return\n",
        "\n",
        "    if self.seize_mode == false:\n",
        "      print(f\"{self.name} : 시즈모드로 전환합니다\")\n",
        "      self.damage *= 2\n",
        "      self.seize_mode = True\n",
        "    else:\n",
        "      print(f\"{self.name} : 시즈모드를 해제합니다\")\n",
        "      self.damage /= 2\n",
        "      self.seize_mode = False\n",
        "\n",
        "# 레이크 클래스\n",
        "class Wraith(FlyableAttackUnit):\n",
        "  def __init__(self):\n",
        "    FlyableAttackUnit.__init__(self,\"레이스\",80,20,5)\n",
        "    self.clocked = False # 클로킹모드 (해제 상태)\n",
        "\n",
        "  def clocking(self):\n",
        "\n",
        "    if self.clocked == False:\n",
        "      print(f\"{self.name} : 클로킹모드로 전환합니다\")\n",
        "      self.clocked = True\n",
        "    else:\n",
        "      print(f\"{self.name} : 클로킹모드를 해제합니다\")\n",
        "      self.clocked = False\n",
        "\n",
        "\n",
        "# 날 수 있는 기능을 가진 클래스\n",
        "class Flyable:\n",
        "  def __init__(self,flying_speed):\n",
        "    self.flying_speed = flying_speed\n",
        "\n",
        "  def fly(self,name,location):\n",
        "    print(f\"{name} : {location} 방향으로 날아갑니다. [속도 {self.flying_speed}]\")\n",
        "\n",
        "# 공중 공격 유닛 클래스\n",
        "class FlyableAttackUnit(AttackUnit,Flyable):\n",
        "  def __init__(self,name,hp,damage,flying_speed):\n",
        "    AttackUnit.__init__(self,name,hp,damage,0) # 지상 speed 0 으로 처리\n",
        "    Flyable.__init__(self,flying_speed)\n",
        "\n",
        "  def move(self,location):\n",
        "    self.fly(self.name,location)\n",
        "\n",
        "def game_start():\n",
        "  print(\"[알림] 새로운 게임을 시작합니다\")\n",
        "\n",
        "def game_over():\n",
        "  print(\"player : gg\")\n",
        "  print(\"[player] 님이 게임에서 퇴장하셨습니다\")"
      ],
      "metadata": {
        "id": "Argj8FfQ40BE"
      },
      "execution_count": null,
      "outputs": []
    },
    {
      "cell_type": "code",
      "source": [
        "from random import *\n",
        "\n",
        "# 게임 시작\n",
        "game_start()\n",
        "\n",
        "# 마린 3명 생성\n",
        "m1 = Marine()\n",
        "m2 = Marine()\n",
        "m3 = Marine()\n",
        "\n",
        "# 탱크 2기 생성\n",
        "t1 = Tank()\n",
        "t2 = Tank()\n",
        "\n",
        "# 레이스 1기 생성\n",
        "w1 = Wraith()\n",
        "\n",
        "# 유닛 일괄 관리 (생성된 모든 유닛 append)\n",
        "attack_units = []\n",
        "attack_units.append(m1)\n",
        "attack_units.append(m2)\n",
        "attack_units.append(m3)\n",
        "attack_units.append(t1)\n",
        "attack_units.append(t2)\n",
        "attack_units.append(w1)\n",
        "\n",
        "# 전군 이동\n",
        "for unit in attack_units:\n",
        "  unit.move(\"1시\")\n",
        "\n",
        "# 탱크 시즈모드 개발\n",
        "Tank.seize_devloped = True\n",
        "print(\"[알림] 탱크 시즈 모드 개발이 완료되었습니\")\n",
        "\n",
        "# 공격 모드 준비 (마린 : 스팀팩, 탱크 : 시즈, 레이스 : 클로킹)\n",
        "for unit in attack_units:\n",
        "  if isinstance(unit,Marine): # 인자값을 넣어서 어디 클래스의 인스턴스인지 확인하는것\n",
        "    unit.stimpack()\n",
        "  elif isinstance(unit,Tank):\n",
        "    unit.set_seize_mode()\n",
        "  elif isinstance(unit,Wraith):\n",
        "    unit.clocking()\n",
        "\n",
        "# 전군 공격\n",
        "for unit in attack_units:\n",
        "  unit.attack(\"1시\")\n",
        "\n",
        "# 전군 피해\n",
        "for unit in attack_units:\n",
        "  unit.damaged(randint(5,21)) # 공격은 랜덤으로 받음\n",
        "\n",
        "# 게임 종료\n",
        "game_over()"
      ],
      "metadata": {
        "colab": {
          "base_uri": "https://localhost:8080/"
        },
        "id": "nfXff9kJ40Ib",
        "outputId": "463d8348-3792-445c-84c0-338683f6c275"
      },
      "execution_count": null,
      "outputs": [
        {
          "output_type": "stream",
          "name": "stdout",
          "text": [
            "[알림] 새로운 게임을 시작합니다\n",
            "마린이 생성되었습니다.\n",
            "마린이 생성되었습니다.\n",
            "마린이 생성되었습니다.\n",
            "탱크이 생성되었습니다.\n",
            "탱크이 생성되었습니다.\n",
            "레이스이 생성되었습니다.\n",
            "마린 : 1시 방향으로 이동합니다. [속도 5]\n",
            "마린 : 1시 방향으로 이동합니다. [속도 5]\n",
            "마린 : 1시 방향으로 이동합니다. [속도 5]\n",
            "탱크 : 1시 방향으로 이동합니다. [속도 35]\n",
            "탱크 : 1시 방향으로 이동합니다. [속도 35]\n",
            "레이스 : 1시 방향으로 날아갑니다. [속도 5]\n",
            "[알림] 탱크 시즈 모드 개발이 완료되었습니\n",
            "마린 : 스팀팩을 사용합니다. (hp 10 감소)\n",
            "마린 : 스팀팩을 사용합니다. (hp 10 감소)\n",
            "마린 : 스팀팩을 사용합니다. (hp 10 감소)\n",
            "레이스 : 클로킹모드로 전환합니다\n",
            "마린 : 1시방향으로 적군을 공격합니다. [공격력 1]\n",
            "마린 : 1시방향으로 적군을 공격합니다. [공격력 1]\n",
            "마린 : 1시방향으로 적군을 공격합니다. [공격력 1]\n",
            "탱크 : 1시방향으로 적군을 공격합니다. [공격력 1]\n",
            "탱크 : 1시방향으로 적군을 공격합니다. [공격력 1]\n",
            "레이스 : 1시방향으로 적군을 공격합니다. [공격력 20]\n",
            "마린 : 17 데미지를 입었습니다.\n",
            "마린 : 현재 체력은 13입니다.\n",
            "마린 : 8 데미지를 입었습니다.\n",
            "마린 : 현재 체력은 22입니다.\n",
            "마린 : 18 데미지를 입었습니다.\n",
            "마린 : 현재 체력은 12입니다.\n",
            "탱크 : 9 데미지를 입었습니다.\n",
            "탱크 : 현재 체력은 141입니다.\n",
            "탱크 : 21 데미지를 입었습니다.\n",
            "탱크 : 현재 체력은 129입니다.\n",
            "레이스 : 14 데미지를 입었습니다.\n",
            "레이스 : 현재 체력은 66입니다.\n",
            "player : gg\n",
            "[player] 님이 게임에서 퇴장하셨습니다\n"
          ]
        }
      ]
    },
    {
      "cell_type": "code",
      "source": [],
      "metadata": {
        "id": "ZEmn7YOltORP"
      },
      "execution_count": null,
      "outputs": []
    },
    {
      "cell_type": "code",
      "source": [],
      "metadata": {
        "id": "9V0CgHQPtOqR"
      },
      "execution_count": null,
      "outputs": []
    },
    {
      "cell_type": "code",
      "source": [],
      "metadata": {
        "id": "UVKrxXFJtO4_"
      },
      "execution_count": null,
      "outputs": []
    },
    {
      "cell_type": "markdown",
      "source": [
        "# 예외처리\n"
      ],
      "metadata": {
        "id": "lWgqLgik40QD"
      }
    },
    {
      "cell_type": "code",
      "source": [
        "# 예외 처리?\n",
        "# 어떤 에러가 발생했을때 그에 대해 처리하는것\n",
        "try:\n",
        "  print(\"나누기 전용 계산기입니다.\")\n",
        "  nums = []\n",
        "  nums.append(int(input(\"첫 번째 숫자를 입력하세요 : \")))\n",
        "  nums.append(int(input(\" 번째 숫자를 입력하세요 : \")))\n",
        "  nums.append(int(nums[0] / nums[1]))\n",
        "  print(f\"{nums[0]}/{nums[1]} = {int(nums[2])}\")\n",
        "except ValueError:\n",
        "  print(\"에러! 잘못된 값을 입력하였습니다.\")\n",
        "except ZeroDivisionError as err:\n",
        "  print(err)"
      ],
      "metadata": {
        "colab": {
          "base_uri": "https://localhost:8080/"
        },
        "id": "elXUK2EQ40XE",
        "outputId": "fa6794b1-6025-4e4d-cd9e-d2d9a6a4da4f"
      },
      "execution_count": null,
      "outputs": [
        {
          "output_type": "stream",
          "name": "stdout",
          "text": [
            "나누기 전용 계산기입니다.\n",
            "첫 번째 숫자를 입력하세요 : 6\n",
            " 번째 숫자를 입력하세요 : 3\n",
            "6/3 = 2\n"
          ]
        }
      ]
    },
    {
      "cell_type": "code",
      "source": [
        "try:\n",
        "  print(\"나누기 전용 계산기입니다.\")\n",
        "  nums = []\n",
        "  nums.append(int(input(\"첫 번째 숫자를 입력하세요 : \")))\n",
        "  nums.append(int(input(\" 번째 숫자를 입력하세요 : \")))\n",
        "  # nums.append(int(nums[0] / nums[1])) << 새로운 배열 추가하는것을 까먹음\n",
        "  print(f\"{nums[0]}/{nums[1]} = {int(nums[2])}\")\n",
        "except ValueError:\n",
        "  print(\"에러! 잘못된 값을 입력하였습니다.\")\n",
        "except ZeroDivisionError as err:\n",
        "  print(err)\n",
        "# 에러 어떻게 처리할까?\n",
        "# 나머지 모든 에러 처리\n",
        "except Exception as err:\n",
        "  print(\"알 수 없는 에러가 발생하였습니다.\")\n",
        "  print(err)"
      ],
      "metadata": {
        "colab": {
          "base_uri": "https://localhost:8080/"
        },
        "id": "5SwmFrvO40fZ",
        "outputId": "f7952d09-e023-4bdc-8787-698a76d49994"
      },
      "execution_count": null,
      "outputs": [
        {
          "output_type": "stream",
          "name": "stdout",
          "text": [
            "나누기 전용 계산기입니다.\n",
            "첫 번째 숫자를 입력하세요 : 6\n",
            " 번째 숫자를 입력하세요 : 3\n",
            "알 수 없는 에러가 발생하였습니다.\n",
            "list index out of range\n"
          ]
        }
      ]
    },
    {
      "cell_type": "code",
      "source": [
        "# 의도적으로 에러 발생시키기\n",
        "\n",
        "try:\n",
        "  print(\"한 자리 숫자 나누기 전용 계산기입니다.\")\n",
        "  num1 = int(input(\"첫 번째 숫자를 입력하세요 : \"))\n",
        "  num2 = int(input(\"두 번째 숫자를 입력하세요 : \"))\n",
        "  if num1 >= 10 or num2 >= 10:\n",
        "    raise ValueError # 의도적으로 필요할때 어떤 에러를 발생 시키는것\n",
        "  print(f\"{num1} / {num2} = {int(num1/num2)}\")\n",
        "\n",
        "except ValueError:\n",
        "  print(\"잘못된 값을 입력하였습니다.한 자리 숫자만 입력하세요.\")\n"
      ],
      "metadata": {
        "colab": {
          "base_uri": "https://localhost:8080/"
        },
        "id": "B71VW3M3bTvT",
        "outputId": "fb5c4961-71dc-4cfc-d702-93de29e1a56c"
      },
      "execution_count": null,
      "outputs": [
        {
          "output_type": "stream",
          "name": "stdout",
          "text": [
            "한 자리 숫자 나누기 전용 계산기입니다.\n",
            "첫 번째 숫자를 입력하세요 : 11\n",
            "두 번째 숫자를 입력하세요 : 12\n",
            "잘못된 값을 입력하였습니다.한 자리 숫자만 입력하세요.\n"
          ]
        }
      ]
    },
    {
      "cell_type": "code",
      "source": [
        "# 사용자 정의 에러 처리\n",
        "\n",
        "class BighNumberError(Exception):\n",
        "  pass\n",
        "\n",
        "try:\n",
        "  print(\"한 자리 숫자 나누기 전용 계산기입니다.\")\n",
        "  num1 = int(input(\"첫 번째 숫자를 입력하세요 : \"))\n",
        "  num2 = int(input(\"두 번째 숫자를 입력하세요 : \"))\n",
        "  if num1 >= 10 or num2 >= 10:\n",
        "    raise BighNumberError # 사용자가 정의한 에러로 처리하기\n",
        "  print(f\"{num1} / {num2} = {int(num1/num2)}\")\n",
        "\n",
        "except ValueError:\n",
        "  print(\"잘못된 값을 입력하였습니다.한 자리 숫자만 입력하세요.\")\n",
        "except BighNumberError:\n",
        "  print(\"에러가 발생하였습니다.한 자리 숫자만 입력하세요.\")"
      ],
      "metadata": {
        "colab": {
          "base_uri": "https://localhost:8080/"
        },
        "id": "Y7ibKuTsbT3w",
        "outputId": "b17ae455-7540-4d61-aa3b-a67839f22a6b"
      },
      "execution_count": null,
      "outputs": [
        {
          "output_type": "stream",
          "name": "stdout",
          "text": [
            "한 자리 숫자 나누기 전용 계산기입니다.\n",
            "첫 번째 숫자를 입력하세요 : 11\n",
            "두 번째 숫자를 입력하세요 : 13\n",
            "에러가 발생하였습니다.한 자리 숫자만 입력하세요.\n"
          ]
        }
      ]
    },
    {
      "cell_type": "code",
      "source": [
        "class BighNumberError(Exception):\n",
        "  def __init__(self,msg):\n",
        "    self.msg=msg\n",
        "  def __str__(self): # <<< 이건 무슨 기능을 하는 함수 일꼬?\n",
        "    return self.msg\n",
        "\n",
        "\n",
        "try:\n",
        "  print(\"한 자리 숫자 나누기 전용 계산기입니다.\")\n",
        "  num1 = int(input(\"첫 번째 숫자를 입력하세요 : \"))\n",
        "  num2 = int(input(\"두 번째 숫자를 입력하세요 : \"))\n",
        "  if num1 >= 10 or num2 >= 10:\n",
        "    raise BighNumberError(f\"입력값 : {num1},{num2}\") # 사용자가 정의한 에러로 처리하기\n",
        "  print(f\"{num1} / {num2} = {int(num1/num2)}\")\n",
        "\n",
        "except ValueError:\n",
        "  print(\"잘못된 값을 입력하였습니다.한 자리 숫자만 입력하세요.\")\n",
        "except BighNumberError as err:\n",
        "  print(\"에러가 발생하였습니다.한 자리 숫자만 입력하세요.\")\n",
        "  print(err)"
      ],
      "metadata": {
        "colab": {
          "base_uri": "https://localhost:8080/"
        },
        "id": "-Ld3Nli_bT-u",
        "outputId": "6e9bf93e-5c54-4b2f-a93d-f4b80d0a09f9"
      },
      "execution_count": null,
      "outputs": [
        {
          "output_type": "stream",
          "name": "stdout",
          "text": [
            "한 자리 숫자 나누기 전용 계산기입니다.\n",
            "첫 번째 숫자를 입력하세요 : 11\n",
            "두 번째 숫자를 입력하세요 : 13\n",
            "에러가 발생하였습니다.한 자리 숫자만 입력하세요.\n",
            "입력값 : 11,13\n"
          ]
        }
      ]
    },
    {
      "cell_type": "code",
      "source": [
        "# finally\n",
        "# 오류가 발생하건,실행되건\n",
        "# 무조건 실행되는 내용\n",
        "\n",
        "try:\n",
        "  print(\"한 자리 숫자 나누기 전용 계산기입니다.\")\n",
        "  num1 = int(input(\"첫 번째 숫자를 입력하세요 : \"))\n",
        "  num2 = int(input(\"두 번째 숫자를 입력하세요 : \"))\n",
        "  if num1 >= 10 or num2 >= 10:\n",
        "    raise ValueError # 의도적으로 필요할때 어떤 에러를 발생 시키는것\n",
        "  print(f\"{num1} / {num2} = {int(num1/num2)}\")\n",
        "\n",
        "except ValueError:\n",
        "  print(\"잘못된 값을 입력하였습니다.한 자리 숫자만 입력하세요.\")\n",
        "finally: # 무조건 실행되는 내용\n",
        "  print(\"계산기를 이용해 주셔서 감사합니다.\")"
      ],
      "metadata": {
        "colab": {
          "base_uri": "https://localhost:8080/"
        },
        "id": "y80fRP67bUFg",
        "outputId": "f240aec3-b5d1-4e6c-f616-20ae1c56a069"
      },
      "execution_count": null,
      "outputs": [
        {
          "output_type": "stream",
          "name": "stdout",
          "text": [
            "한 자리 숫자 나누기 전용 계산기입니다.\n",
            "첫 번째 숫자를 입력하세요 : 15\n",
            "두 번째 숫자를 입력하세요 : 15\n",
            "잘못된 값을 입력하였습니다.한 자리 숫자만 입력하세요.\n",
            "계산기를 이용해 주셔서 감사합니다.\n"
          ]
        }
      ]
    },
    {
      "cell_type": "code",
      "source": [],
      "metadata": {
        "id": "92skchIDtQ8W"
      },
      "execution_count": null,
      "outputs": []
    },
    {
      "cell_type": "code",
      "source": [],
      "metadata": {
        "id": "G6G45sYAtRKr"
      },
      "execution_count": null,
      "outputs": []
    },
    {
      "cell_type": "code",
      "source": [],
      "metadata": {
        "id": "f-BGeBtrtRXT"
      },
      "execution_count": null,
      "outputs": []
    },
    {
      "cell_type": "markdown",
      "source": [
        "# 모듈과 패키지\n"
      ],
      "metadata": {
        "id": "qEXlaXGebUMs"
      }
    },
    {
      "cell_type": "code",
      "source": [
        "# 모듈?\n",
        "# 어떤 필요한것들끼리 부품처럼 잘 만들어진 파일\n",
        "# 자동차를 예로들면 타이어만 교체하거나,범퍼가 고장나면 범퍼만 교체하면 되는데\n",
        "# 소프트웨어도 어떤 기능을 하는 부분만 교체 하면됨\n",
        "\n",
        "# 현금만 받는 극장\n",
        "\n",
        "# 일반가격\n",
        "def price(people):\n",
        "  print(f\"{people}명 가격은 {people*10000}원 입니다.\")\n",
        "\n",
        "# 조조 할인 가격\n",
        "def price_morning(people):\n",
        "  print(f\"{people}명 조조 할인 가격은 {people*6000}원 입니다.\")\n",
        "\n",
        "# 군인 할인 가격\n",
        "def price_soldier(people):\n",
        "  print(f\"{people}명 군인 할인 가격은 {people*4000}원 입니다.\")"
      ],
      "metadata": {
        "id": "dZxHgMShbUUX"
      },
      "execution_count": null,
      "outputs": []
    },
    {
      "cell_type": "code",
      "source": [
        "# 구글 코랩에서는 특별한 과정을 거쳐서 모듈을 생성할 수 있다.\n",
        "\n",
        "import os\n",
        "\n",
        "module_directory = \"/content/modules\"\n",
        "if not os.path.exists(module_directory):\n",
        "    os.makedirs(module_directory)\n",
        "\n",
        "# 저장하기 위한 내용\n",
        "module_code = '''\n",
        "# 일반가격\n",
        "def price(people):\n",
        "    print(f\"{people}명 가격은 {people * 10000}원 입니다.\")\n",
        "\n",
        "# 조조 할인 가격\n",
        "def price_morning(people):\n",
        "    print(f\"{people}명 조조 할인 가격은 {people * 6000}원 입니다.\")\n",
        "\n",
        "# 군인 할인 가격\n",
        "def price_soldier(people):\n",
        "    print(f\"{people}명 군인 할인 가격은 {people * 4000}원 입니다.\")\n",
        "'''\n",
        "\n",
        "# 모듈 저장 및 쓰기모드로 작성\n",
        "module_filename = \"/content/modules/theater_module.py\"\n",
        "with open(module_filename, \"w\") as file:\n",
        "    file.write(module_code)\n",
        "\n",
        "# 모듈 출력 메세지\n",
        "print(f\"모듈 파일 {module_filename}이 생성되었습니다.\")\n",
        "\n"
      ],
      "metadata": {
        "colab": {
          "base_uri": "https://localhost:8080/"
        },
        "id": "SgTlM9mDbUcI",
        "outputId": "bdd2cd12-8d33-48d1-effa-957fc64c4131"
      },
      "execution_count": null,
      "outputs": [
        {
          "output_type": "stream",
          "name": "stdout",
          "text": [
            "모듈 파일 /content/modules/theater_module.py이 생성되었습니다.\n"
          ]
        }
      ]
    },
    {
      "cell_type": "code",
      "source": [
        "import sys\n",
        "sys.path.append(\"/content/modules\") # 모듈 파일 경로 추가해줘야\n",
        "\n",
        "import theater_module as mv # 그냥 편하게 일단 mv라 함\n",
        "mv.price(3)\n",
        "mv.price_morning(4)\n",
        "mv.price_soldier(5)"
      ],
      "metadata": {
        "colab": {
          "base_uri": "https://localhost:8080/"
        },
        "id": "1CjGZbL4bUj9",
        "outputId": "35c07997-19b5-44d3-a2e4-40518f16ccda"
      },
      "execution_count": null,
      "outputs": [
        {
          "output_type": "stream",
          "name": "stdout",
          "text": [
            "3명 가격은 30000원 입니다.\n",
            "4명 조조 할인 가격은 24000원 입니다.\n",
            "5명 군인 할인 가격은 20000원 입니다.\n"
          ]
        }
      ]
    },
    {
      "cell_type": "code",
      "source": [
        "# 다른 방법\n",
        "from theater_module import * # 모듈 이름 없이 메소드를 사용할 수 있음\n",
        "price(3)\n",
        "price_morning(4)\n",
        "price_soldier(5)"
      ],
      "metadata": {
        "colab": {
          "base_uri": "https://localhost:8080/"
        },
        "id": "J6SIdgzBtI8B",
        "outputId": "5e9d2bb0-17e4-4316-caee-6a00a9644a47"
      },
      "execution_count": null,
      "outputs": [
        {
          "output_type": "stream",
          "name": "stdout",
          "text": [
            "3명 가격은 30000원 입니다.\n",
            "4명 조조 할인 가격은 24000원 입니다.\n",
            "5명 군인 할인 가격은 20000원 입니다.\n"
          ]
        }
      ]
    },
    {
      "cell_type": "code",
      "source": [
        "# 다른 방법\n",
        "from theater_module import price,price_morning # 원하는 함수만 호출해서 사용할 수 있음\n",
        "price(3)\n",
        "price_morning(4)"
      ],
      "metadata": {
        "colab": {
          "base_uri": "https://localhost:8080/"
        },
        "id": "J5KmGcPutJC8",
        "outputId": "f961dc11-9d97-424c-a4be-2894db69af98"
      },
      "execution_count": null,
      "outputs": [
        {
          "output_type": "stream",
          "name": "stdout",
          "text": [
            "3명 가격은 30000원 입니다.\n",
            "4명 조조 할인 가격은 24000원 입니다.\n"
          ]
        }
      ]
    },
    {
      "cell_type": "markdown",
      "source": [
        "패키지"
      ],
      "metadata": {
        "id": "Wfb3WDjOzyrV"
      }
    },
    {
      "cell_type": "code",
      "source": [
        "# 패키지? <<<<<< 모듈들을 모아놓은 집합\n",
        "import os\n",
        "\n",
        "module_directory = \"/content/travel\" # 패키지 생성해줘야 함\n",
        "if not os.path.exists(module_directory):\n",
        "    os.makedirs(module_directory)"
      ],
      "metadata": {
        "id": "O9Kz2YAytJO8"
      },
      "execution_count": null,
      "outputs": []
    },
    {
      "cell_type": "code",
      "source": [
        "# 하나의 함수만 사용하고 싶다면?\n",
        "from theater_module import price_soldier as price # 메소를 편리하게 이름을 작성해서 사용할 수 있음\n",
        "price(5)"
      ],
      "metadata": {
        "colab": {
          "base_uri": "https://localhost:8080/"
        },
        "id": "YMHyDQgAtJJH",
        "outputId": "0c9e4808-8cf5-4f5a-c8ff-5250fa9c844e"
      },
      "execution_count": null,
      "outputs": [
        {
          "output_type": "stream",
          "name": "stdout",
          "text": [
            "5명 군인 할인 가격은 20000원 입니다.\n"
          ]
        }
      ]
    },
    {
      "cell_type": "code",
      "source": [
        "# 타일랜드 패키지 모듈 만들기\n",
        "\n",
        "module_code = '''\n",
        "class ThailandPackage:\n",
        "  def detail(self):\n",
        "    print(\"[태국 패키지 3박 5일] 방콕, 파타야 여행 (야시장 투어) 50만원\")\n",
        "'''\n",
        "\n",
        "module_filename = \"/content/travel/Thailand.py\"\n",
        "with open(module_filename, \"w\") as file:\n",
        "    file.write(module_code)\n",
        "\n",
        "print(f\"모듈 파일 {module_filename}이 생성되었습니다.\")\n",
        "\n"
      ],
      "metadata": {
        "colab": {
          "base_uri": "https://localhost:8080/"
        },
        "id": "9SWNCKZCtJUd",
        "outputId": "fff96cf2-f724-4508-f5aa-2c663e334636"
      },
      "execution_count": null,
      "outputs": [
        {
          "output_type": "stream",
          "name": "stdout",
          "text": [
            "모듈 파일 /content/travel/Thailand.py이 생성되었습니다.\n"
          ]
        }
      ]
    },
    {
      "cell_type": "code",
      "source": [
        "# 베트남 패키지 모듈 만들기\n",
        "\n",
        "module_code = '''\n",
        "class VietnamPackage:\n",
        "  def detail(self):\n",
        "    print(\"[베트남 패키지 3박 5일] 다낭 효도 여행 60만\")\n",
        "'''\n",
        "\n",
        "module_filename = \"/content/travel/Vietnam.py\"\n",
        "with open(module_filename, \"w\") as file:\n",
        "    file.write(module_code)\n",
        "\n",
        "print(f\"모듈 파일 {module_filename}이 생성되었습니다.\")\n"
      ],
      "metadata": {
        "colab": {
          "base_uri": "https://localhost:8080/"
        },
        "id": "8ROqP_BFtJbW",
        "outputId": "2ca34859-6126-44da-ebf8-bb051955b44f"
      },
      "execution_count": null,
      "outputs": [
        {
          "output_type": "stream",
          "name": "stdout",
          "text": [
            "모듈 파일 /content/travel/Vietnam.py이 생성되었습니다.\n"
          ]
        }
      ]
    },
    {
      "cell_type": "code",
      "source": [
        "# __init__파일 만들기\n",
        "\n",
        "module_code = '''\n",
        "__all__ = [Thailand]\n",
        "'''\n",
        "\n",
        "\n",
        "module_filename = \"/content/travel/__init__.py\"\n",
        "with open(module_filename, \"w\") as file:\n",
        "    file.write(module_code)\n",
        "\n",
        "print(f\"모듈 파일 {module_filename}이 생성되었습니다.\")\n"
      ],
      "metadata": {
        "colab": {
          "base_uri": "https://localhost:8080/"
        },
        "id": "YYZr9znYtJiS",
        "outputId": "f29696bd-b23f-4b4b-c2e6-209999a11964"
      },
      "execution_count": null,
      "outputs": [
        {
          "output_type": "stream",
          "name": "stdout",
          "text": [
            "모듈 파일 /content/travel/__init__.py이 생성되었습니다.\n"
          ]
        }
      ]
    },
    {
      "cell_type": "code",
      "source": [
        "# 패키지 사용해보기\n",
        "import travel.Thailand # 여기서 클래스를 바로 임포트 하는것은 불가능\n",
        "trip_to = travel.Thailand.ThailandPackage()\n",
        "trip_to.detail()"
      ],
      "metadata": {
        "colab": {
          "base_uri": "https://localhost:8080/"
        },
        "id": "3wDCxa1rtJpf",
        "outputId": "290d2d41-17ac-4b61-e911-be062c22e595"
      },
      "execution_count": null,
      "outputs": [
        {
          "output_type": "stream",
          "name": "stdout",
          "text": [
            "[태국 패키지 3박 5일] 방콕, 파타야 여행 (야시장 투어) 50만원\n"
          ]
        }
      ]
    },
    {
      "cell_type": "code",
      "source": [
        "# 단 from을 이용하면 패키지를 임포트 할 수 있음\n",
        "from travel.Thailand import ThailandPackage\n",
        "trip_to = ThailandPackage()\n",
        "trip_to.detail()\n"
      ],
      "metadata": {
        "colab": {
          "base_uri": "https://localhost:8080/"
        },
        "id": "UmOGXBn_tJvW",
        "outputId": "62938efd-e81c-482e-9f5e-b2ba2afcf5d3"
      },
      "execution_count": null,
      "outputs": [
        {
          "output_type": "stream",
          "name": "stdout",
          "text": [
            "[태국 패키지 3박 5일] 방콕, 파타야 여행 (야시장 투어) 50만원\n"
          ]
        }
      ]
    },
    {
      "cell_type": "code",
      "source": [
        "# 베트남 모듈 사용해보기\n",
        "from travel import Vietnam # 트래벌 패키지에 있는 베트남 모듈을 호출 하기\n",
        "trip_to = Vietnam.VietnamPackage()\n",
        "trip_to.detail()"
      ],
      "metadata": {
        "colab": {
          "base_uri": "https://localhost:8080/"
        },
        "id": "IRooFg0e3zwX",
        "outputId": "fc30aadf-95f1-4b4c-bf57-352846644efe"
      },
      "execution_count": null,
      "outputs": [
        {
          "output_type": "stream",
          "name": "stdout",
          "text": [
            "[베트남 패키지 3박 5일] 다낭 효도 여행 60만\n"
          ]
        }
      ]
    },
    {
      "cell_type": "code",
      "source": [
        "# __all__<<<<<<< 무엇을 뜻할까?\n",
        "from travel import *\n",
        "# 개발자가 공개범위를 설정 해줘야 가능한것\n",
        "# 아마 디폴트로 공개된듯 하다 <<< 추가로 알아봐야 하는 상황\n",
        "trip_to = Vietnam.VietnamPackage()\n",
        "trip_to.detail()"
      ],
      "metadata": {
        "id": "QILfF6IJ3z3_",
        "colab": {
          "base_uri": "https://localhost:8080/"
        },
        "outputId": "141f719c-bc4a-4f5b-c2ba-469cf7cc5a85"
      },
      "execution_count": null,
      "outputs": [
        {
          "output_type": "stream",
          "name": "stdout",
          "text": [
            "[베트남 패키지 3박 5일] 다낭 효도 여행 60만\n"
          ]
        }
      ]
    },
    {
      "cell_type": "code",
      "source": [
        "# 패키지나 모듈을 만들때는 모듈이 잘 동작하는지 확인해 보아야함\n",
        "# 작동확인 구문 추가한 새로운 파일 덮어쓰기\n",
        "\n",
        "module_code = '''\n",
        "class ThailandPackage:\n",
        "  def detail(self):\n",
        "    print(\"[태국 패키지 3박 5일] 방콕, 파타야 여행 (야시장 투어) 50만원\")\n",
        "\n",
        "if __name__ == \"__main__\":\n",
        "  print(\"Thailand 모듈을 직접 실행\")\n",
        "  print(\"이 문장은 모듈을 직접 실행할 때만 실행돼요\")\n",
        "  trip_to = ThailandPackage()\n",
        "  trip_to.detail()\n",
        "else:\n",
        "  print(\"Thailand 외부에서 모듈 호출\")\n",
        "'''\n",
        "\n",
        "module_filename = \"/content/travel/Thailand.py\"\n",
        "with open(module_filename, \"w\") as file:\n",
        "    file.write(module_code)\n",
        "\n",
        "print(f\"모듈 파일 {module_filename}이 생성되었습니다.\")\n"
      ],
      "metadata": {
        "id": "j_Q7joTj30I9",
        "colab": {
          "base_uri": "https://localhost:8080/"
        },
        "outputId": "210eccea-dd29-4f0b-c26f-6f05ad92140a"
      },
      "execution_count": null,
      "outputs": [
        {
          "output_type": "stream",
          "name": "stdout",
          "text": [
            "모듈 파일 /content/travel/Thailand.py이 생성되었습니다.\n"
          ]
        }
      ]
    },
    {
      "cell_type": "code",
      "source": [
        "class ThailandPackage:\n",
        "\n",
        "  def detail(self):\n",
        "    print(\"[태국 패키지 3박 5일] 방콕, 파타야 여행 (야시장 투어) 50만원\")\n",
        "\n",
        "  if __name__ == \"__main__\":\n",
        "    print(\"Thailand 모듈을 직접 실행\")\n",
        "    print(\"이 문장은 모듈을 직접 실행할 때만 실행돼요\")\n",
        "    trip_to = ThailandPackage()\n",
        "    trip_to.detail()\n",
        "  else:\n",
        "    print(\"Thailand 외부에서 모듈 호출\")\n"
      ],
      "metadata": {
        "id": "NGK2nhMF30AT",
        "colab": {
          "base_uri": "https://localhost:8080/"
        },
        "outputId": "4a24fbde-97ae-4a7b-ab6b-9e190a419bc2"
      },
      "execution_count": null,
      "outputs": [
        {
          "output_type": "stream",
          "name": "stdout",
          "text": [
            "Thailand 모듈을 직접 실행\n",
            "이 문장은 모듈을 직접 실행할 때만 실행돼요\n",
            "[태국 패키지 3박 5일] 방콕, 파타야 여행 (야시장 투어) 50만원\n",
            "[태국 패키지 3박 5일] 방콕, 파타야 여행 (야시장 투어) 50만원\n"
          ]
        }
      ]
    },
    {
      "cell_type": "code",
      "source": [
        "# 위쪽과 타일랜드 호출 차이 보기\n",
        "# 코랩에서는 작동방식이 달라서 확인 되진 않\n",
        "\n",
        "import travel.Thailand # 여기서 클래스를 바로 임포트 하는것은 불가능\n",
        "trip_to = travel.Thailand.ThailandPackage()\n",
        "trip_to.detail()"
      ],
      "metadata": {
        "id": "ONvpxt8T30QU",
        "colab": {
          "base_uri": "https://localhost:8080/"
        },
        "outputId": "b3b3ccda-613d-4a11-f4f0-17144af09eef"
      },
      "execution_count": null,
      "outputs": [
        {
          "output_type": "stream",
          "name": "stdout",
          "text": [
            "[태국 패키지 3박 5일] 방콕, 파타야 여행 (야시장 투어) 50만원\n"
          ]
        }
      ]
    },
    {
      "cell_type": "code",
      "source": [
        "# 모듈이 어디의 위치에 있는지 확인해보기\n",
        "\n",
        "import inspect\n",
        "import random\n",
        "print(inspect.getfile(random))"
      ],
      "metadata": {
        "id": "nqqcrrqa30bL",
        "colab": {
          "base_uri": "https://localhost:8080/"
        },
        "outputId": "60f901db-b805-454e-ccc0-cc5306d02f6b"
      },
      "execution_count": null,
      "outputs": [
        {
          "output_type": "stream",
          "name": "stdout",
          "text": [
            "/usr/lib/python3.10/random.py\n"
          ]
        }
      ]
    },
    {
      "cell_type": "code",
      "source": [
        "# 그러면 내가 만든 모듈의 위치는 어디일까?\n",
        "import inspect\n",
        "import travel\n",
        "\n",
        "print(inspect.getfile(Thailand))\n",
        "# 내가 만든 패키지나 모듈을 경로에 맞게 옮기면 같이 사용할 수 있겠구나"
      ],
      "metadata": {
        "id": "eAQbWSsA30ki",
        "colab": {
          "base_uri": "https://localhost:8080/"
        },
        "outputId": "d4df4e5b-110e-4c5c-9e4a-b75a68aab43c"
      },
      "execution_count": null,
      "outputs": [
        {
          "output_type": "stream",
          "name": "stdout",
          "text": [
            "/content/travel/Thailand.py\n"
          ]
        }
      ]
    },
    {
      "cell_type": "code",
      "source": [
        "# pip로 패키지 설치하기 <<<<  ! 꼭 붙여야함\n",
        "# 지금도 이미 수많은 패키지가 존재하고, 지금도 누군가 새로운 패키지를 만들고 있다\n",
        "# 다른사람이 만들어둔 패키지를 잘 이용하는것도 능력\n",
        "\n",
        "!pip install beautifulsoup # 코랩에서 설치해보기"
      ],
      "metadata": {
        "id": "5fyIRLu430rP",
        "colab": {
          "base_uri": "https://localhost:8080/"
        },
        "outputId": "f4967c7f-2d9c-4b6d-a5c1-991fc586f1ae"
      },
      "execution_count": null,
      "outputs": [
        {
          "output_type": "stream",
          "name": "stdout",
          "text": [
            "Collecting beautifulsoup\n",
            "  Using cached BeautifulSoup-3.2.2.tar.gz (32 kB)\n",
            "  \u001b[1;31merror\u001b[0m: \u001b[1msubprocess-exited-with-error\u001b[0m\n",
            "  \n",
            "  \u001b[31m×\u001b[0m \u001b[32mpython setup.py egg_info\u001b[0m did not run successfully.\n",
            "  \u001b[31m│\u001b[0m exit code: \u001b[1;36m1\u001b[0m\n",
            "  \u001b[31m╰─>\u001b[0m See above for output.\n",
            "  \n",
            "  \u001b[1;35mnote\u001b[0m: This error originates from a subprocess, and is likely not a problem with pip.\n",
            "  Preparing metadata (setup.py) ... \u001b[?25l\u001b[?25herror\n",
            "\u001b[1;31merror\u001b[0m: \u001b[1mmetadata-generation-failed\u001b[0m\n",
            "\n",
            "\u001b[31m×\u001b[0m Encountered error while generating package metadata.\n",
            "\u001b[31m╰─>\u001b[0m See above for output.\n",
            "\n",
            "\u001b[1;35mnote\u001b[0m: This is an issue with the package mentioned above, not pip.\n",
            "\u001b[1;36mhint\u001b[0m: See above for details.\n"
          ]
        }
      ]
    },
    {
      "cell_type": "code",
      "source": [
        "# 현재 설치되어있는 패키지들의 이름들을 볼 수 있다\n",
        "!pip list # 코랩에서는 !를 사용해 주어야"
      ],
      "metadata": {
        "colab": {
          "base_uri": "https://localhost:8080/"
        },
        "id": "UmeWXZn4BLEN",
        "outputId": "3d4403b8-c26b-4f78-f975-a3fa2ba23725"
      },
      "execution_count": null,
      "outputs": [
        {
          "output_type": "stream",
          "name": "stdout",
          "text": [
            "Package                          Version\n",
            "-------------------------------- ---------------------\n",
            "absl-py                          1.4.0\n",
            "aiohttp                          3.8.4\n",
            "aiosignal                        1.3.1\n",
            "alabaster                        0.7.13\n",
            "albumentations                   1.2.1\n",
            "altair                           4.2.2\n",
            "anyio                            3.7.1\n",
            "appdirs                          1.4.4\n",
            "argon2-cffi                      21.3.0\n",
            "argon2-cffi-bindings             21.2.0\n",
            "array-record                     0.4.0\n",
            "arviz                            0.15.1\n",
            "astropy                          5.2.2\n",
            "astunparse                       1.6.3\n",
            "async-timeout                    4.0.2\n",
            "attrs                            23.1.0\n",
            "audioread                        3.0.0\n",
            "autograd                         1.6.2\n",
            "Babel                            2.12.1\n",
            "backcall                         0.2.0\n",
            "beautifulsoup4                   4.11.2\n",
            "bleach                           6.0.0\n",
            "blis                             0.7.9\n",
            "blosc2                           2.0.0\n",
            "bokeh                            2.4.3\n",
            "branca                           0.6.0\n",
            "build                            0.10.0\n",
            "CacheControl                     0.13.1\n",
            "cachetools                       5.3.1\n",
            "catalogue                        2.0.8\n",
            "certifi                          2023.5.7\n",
            "cffi                             1.15.1\n",
            "chardet                          4.0.0\n",
            "charset-normalizer               2.0.12\n",
            "chex                             0.1.7\n",
            "click                            8.1.4\n",
            "click-plugins                    1.1.1\n",
            "cligj                            0.7.2\n",
            "cloudpickle                      2.2.1\n",
            "cmake                            3.25.2\n",
            "cmdstanpy                        1.1.0\n",
            "colorcet                         3.0.1\n",
            "colorlover                       0.3.0\n",
            "community                        1.0.0b1\n",
            "confection                       0.1.0\n",
            "cons                             0.4.6\n",
            "contextlib2                      21.6.0\n",
            "contourpy                        1.1.0\n",
            "convertdate                      2.4.0\n",
            "cufflinks                        0.17.3\n",
            "cvxopt                           1.3.1\n",
            "cvxpy                            1.3.2\n",
            "cycler                           0.11.0\n",
            "cymem                            2.0.7\n",
            "Cython                           0.29.36\n",
            "dask                             2022.12.1\n",
            "datascience                      0.17.6\n",
            "db-dtypes                        1.1.1\n",
            "dbus-python                      1.2.16\n",
            "debugpy                          1.6.6\n",
            "decorator                        4.4.2\n",
            "defusedxml                       0.7.1\n",
            "distributed                      2022.12.1\n",
            "dlib                             19.24.2\n",
            "dm-tree                          0.1.8\n",
            "docutils                         0.16\n",
            "dopamine-rl                      4.0.6\n",
            "duckdb                           0.8.1\n",
            "earthengine-api                  0.1.358\n",
            "easydict                         1.10\n",
            "ecos                             2.0.12\n",
            "editdistance                     0.6.2\n",
            "en-core-web-sm                   3.5.0\n",
            "entrypoints                      0.4\n",
            "ephem                            4.1.4\n",
            "et-xmlfile                       1.1.0\n",
            "etils                            1.3.0\n",
            "etuples                          0.3.9\n",
            "exceptiongroup                   1.1.2\n",
            "fastai                           2.7.12\n",
            "fastcore                         1.5.29\n",
            "fastdownload                     0.0.7\n",
            "fastjsonschema                   2.17.1\n",
            "fastprogress                     1.0.3\n",
            "fastrlock                        0.8.1\n",
            "filelock                         3.12.2\n",
            "Fiona                            1.9.4.post1\n",
            "firebase-admin                   5.3.0\n",
            "Flask                            2.2.5\n",
            "flatbuffers                      23.5.26\n",
            "flax                             0.7.0\n",
            "folium                           0.14.0\n",
            "fonttools                        4.40.0\n",
            "frozendict                       2.3.8\n",
            "frozenlist                       1.3.3\n",
            "fsspec                           2023.6.0\n",
            "future                           0.18.3\n",
            "gast                             0.4.0\n",
            "gcsfs                            2023.6.0\n",
            "GDAL                             3.3.2\n",
            "gdown                            4.6.6\n",
            "gensim                           4.3.1\n",
            "geographiclib                    2.0\n",
            "geopandas                        0.13.2\n",
            "geopy                            2.3.0\n",
            "gin-config                       0.5.0\n",
            "glob2                            0.7\n",
            "google                           2.0.3\n",
            "google-api-core                  2.11.1\n",
            "google-api-python-client         2.84.0\n",
            "google-auth                      2.17.3\n",
            "google-auth-httplib2             0.1.0\n",
            "google-auth-oauthlib             1.0.0\n",
            "google-cloud-bigquery            3.10.0\n",
            "google-cloud-bigquery-connection 1.12.1\n",
            "google-cloud-bigquery-storage    2.22.0\n",
            "google-cloud-core                2.3.3\n",
            "google-cloud-datastore           2.15.2\n",
            "google-cloud-firestore           2.11.1\n",
            "google-cloud-functions           1.13.1\n",
            "google-cloud-language            2.9.1\n",
            "google-cloud-storage             2.8.0\n",
            "google-cloud-translate           3.11.2\n",
            "google-colab                     1.0.0\n",
            "google-crc32c                    1.5.0\n",
            "google-pasta                     0.2.0\n",
            "google-resumable-media           2.5.0\n",
            "googleapis-common-protos         1.59.1\n",
            "googledrivedownloader            0.4\n",
            "graphviz                         0.20.1\n",
            "greenlet                         2.0.2\n",
            "grpc-google-iam-v1               0.12.6\n",
            "grpcio                           1.56.0\n",
            "grpcio-status                    1.48.2\n",
            "gspread                          3.4.2\n",
            "gspread-dataframe                3.3.1\n",
            "gym                              0.25.2\n",
            "gym-notices                      0.0.8\n",
            "h5netcdf                         1.2.0\n",
            "h5py                             3.8.0\n",
            "holidays                         0.28\n",
            "holoviews                        1.15.4\n",
            "html5lib                         1.1\n",
            "httpimport                       1.3.0\n",
            "httplib2                         0.21.0\n",
            "humanize                         4.6.0\n",
            "hyperopt                         0.2.7\n",
            "idna                             3.4\n",
            "imageio                          2.25.1\n",
            "imageio-ffmpeg                   0.4.8\n",
            "imagesize                        1.4.1\n",
            "imbalanced-learn                 0.10.1\n",
            "imgaug                           0.4.0\n",
            "importlib-resources              6.0.0\n",
            "imutils                          0.5.4\n",
            "inflect                          6.0.5\n",
            "iniconfig                        2.0.0\n",
            "intel-openmp                     2023.1.0\n",
            "ipykernel                        5.5.6\n",
            "ipython                          7.34.0\n",
            "ipython-genutils                 0.2.0\n",
            "ipython-sql                      0.4.1\n",
            "ipywidgets                       7.7.1\n",
            "itsdangerous                     2.1.2\n",
            "jax                              0.4.13\n",
            "jaxlib                           0.4.13+cuda11.cudnn86\n",
            "jieba                            0.42.1\n",
            "Jinja2                           3.1.2\n",
            "joblib                           1.3.1\n",
            "jsonpickle                       3.0.1\n",
            "jsonschema                       4.3.3\n",
            "jupyter-client                   6.1.12\n",
            "jupyter-console                  6.1.0\n",
            "jupyter_core                     5.3.1\n",
            "jupyter-server                   1.24.0\n",
            "jupyterlab-pygments              0.2.2\n",
            "jupyterlab-widgets               3.0.8\n",
            "kaggle                           1.5.15\n",
            "keras                            2.12.0\n",
            "kiwisolver                       1.4.4\n",
            "langcodes                        3.3.0\n",
            "lazy_loader                      0.3\n",
            "libclang                         16.0.0\n",
            "librosa                          0.10.0.post2\n",
            "lightgbm                         3.3.5\n",
            "lit                              16.0.6\n",
            "llvmlite                         0.39.1\n",
            "locket                           1.0.0\n",
            "logical-unification              0.4.6\n",
            "LunarCalendar                    0.0.9\n",
            "lxml                             4.9.3\n",
            "Markdown                         3.4.3\n",
            "markdown-it-py                   3.0.0\n",
            "MarkupSafe                       2.1.3\n",
            "matplotlib                       3.7.1\n",
            "matplotlib-inline                0.1.6\n",
            "matplotlib-venn                  0.11.9\n",
            "mdurl                            0.1.2\n",
            "miniKanren                       1.0.3\n",
            "missingno                        0.5.2\n",
            "mistune                          0.8.4\n",
            "mizani                           0.8.1\n",
            "mkl                              2019.0\n",
            "ml-dtypes                        0.2.0\n",
            "mlxtend                          0.22.0\n",
            "more-itertools                   9.1.0\n",
            "moviepy                          1.0.3\n",
            "mpmath                           1.3.0\n",
            "msgpack                          1.0.5\n",
            "multidict                        6.0.4\n",
            "multipledispatch                 1.0.0\n",
            "multitasking                     0.0.11\n",
            "murmurhash                       1.0.9\n",
            "music21                          8.1.0\n",
            "natsort                          8.3.1\n",
            "nbclient                         0.8.0\n",
            "nbconvert                        6.5.4\n",
            "nbformat                         5.9.1\n",
            "nest-asyncio                     1.5.6\n",
            "networkx                         3.1\n",
            "nibabel                          3.0.2\n",
            "nltk                             3.8.1\n",
            "notebook                         6.4.8\n",
            "numba                            0.56.4\n",
            "numexpr                          2.8.4\n",
            "numpy                            1.22.4\n",
            "oauth2client                     4.1.3\n",
            "oauthlib                         3.2.2\n",
            "opencv-contrib-python            4.7.0.72\n",
            "opencv-python                    4.7.0.72\n",
            "opencv-python-headless           4.8.0.74\n",
            "openpyxl                         3.0.10\n",
            "opt-einsum                       3.3.0\n",
            "optax                            0.1.5\n",
            "orbax-checkpoint                 0.2.7\n",
            "osqp                             0.6.2.post8\n",
            "packaging                        23.1\n",
            "palettable                       3.3.3\n",
            "pandas                           1.5.3\n",
            "pandas-datareader                0.10.0\n",
            "pandas-gbq                       0.17.9\n",
            "pandocfilters                    1.5.0\n",
            "panel                            0.14.4\n",
            "param                            1.13.0\n",
            "parso                            0.8.3\n",
            "partd                            1.4.0\n",
            "pathlib                          1.0.1\n",
            "pathy                            0.10.2\n",
            "patsy                            0.5.3\n",
            "pexpect                          4.8.0\n",
            "pickleshare                      0.7.5\n",
            "Pillow                           8.4.0\n",
            "pip                              23.1.2\n",
            "pip-tools                        6.13.0\n",
            "platformdirs                     3.8.1\n",
            "plotly                           5.13.1\n",
            "plotnine                         0.10.1\n",
            "pluggy                           1.2.0\n",
            "polars                           0.17.3\n",
            "pooch                            1.6.0\n",
            "portpicker                       1.5.2\n",
            "prefetch-generator               1.0.3\n",
            "preshed                          3.0.8\n",
            "prettytable                      0.7.2\n",
            "proglog                          0.1.10\n",
            "progressbar2                     4.2.0\n",
            "prometheus-client                0.17.1\n",
            "promise                          2.3\n",
            "prompt-toolkit                   3.0.39\n",
            "prophet                          1.1.4\n",
            "proto-plus                       1.22.3\n",
            "protobuf                         3.20.3\n",
            "psutil                           5.9.5\n",
            "psycopg2                         2.9.6\n",
            "ptyprocess                       0.7.0\n",
            "py-cpuinfo                       9.0.0\n",
            "py4j                             0.10.9.7\n",
            "pyarrow                          9.0.0\n",
            "pyasn1                           0.5.0\n",
            "pyasn1-modules                   0.3.0\n",
            "pycocotools                      2.0.6\n",
            "pycparser                        2.21\n",
            "pyct                             0.5.0\n",
            "pydantic                         1.10.11\n",
            "pydata-google-auth               1.8.1\n",
            "pydot                            1.4.2\n",
            "pydot-ng                         2.0.0\n",
            "pydotplus                        2.0.2\n",
            "PyDrive                          1.3.1\n",
            "pyerfa                           2.0.0.3\n",
            "pygame                           2.5.0\n",
            "Pygments                         2.14.0\n",
            "PyGObject                        3.36.0\n",
            "pymc                             5.1.2\n",
            "PyMeeus                          0.5.12\n",
            "pymystem3                        0.2.0\n",
            "PyOpenGL                         3.1.7\n",
            "pyparsing                        3.1.0\n",
            "pyproj                           3.6.0\n",
            "pyproject_hooks                  1.0.0\n",
            "pyrsistent                       0.19.3\n",
            "PySocks                          1.7.1\n",
            "pytensor                         2.10.1\n",
            "pytest                           7.2.2\n",
            "python-apt                       0.0.0\n",
            "python-dateutil                  2.8.2\n",
            "python-louvain                   0.16\n",
            "python-slugify                   8.0.1\n",
            "python-utils                     3.7.0\n",
            "pytz                             2022.7.1\n",
            "pyviz-comms                      2.3.2\n",
            "PyWavelets                       1.4.1\n",
            "PyYAML                           6.0\n",
            "pyzmq                            23.2.1\n",
            "qdldl                            0.1.7.post0\n",
            "qudida                           0.0.4\n",
            "regex                            2022.10.31\n",
            "requests                         2.27.1\n",
            "requests-oauthlib                1.3.1\n",
            "requests-unixsocket              0.2.0\n",
            "requirements-parser              0.5.0\n",
            "rich                             13.4.2\n",
            "rpy2                             3.5.5\n",
            "rsa                              4.9\n",
            "scikit-image                     0.19.3\n",
            "scikit-learn                     1.2.2\n",
            "scipy                            1.10.1\n",
            "scs                              3.2.3\n",
            "seaborn                          0.12.2\n",
            "Send2Trash                       1.8.2\n",
            "setuptools                       67.7.2\n",
            "shapely                          2.0.1\n",
            "six                              1.16.0\n",
            "sklearn-pandas                   2.2.0\n",
            "smart-open                       6.3.0\n",
            "sniffio                          1.3.0\n",
            "snowballstemmer                  2.2.0\n",
            "sortedcontainers                 2.4.0\n",
            "soundfile                        0.12.1\n",
            "soupsieve                        2.4.1\n",
            "soxr                             0.3.5\n",
            "spacy                            3.5.4\n",
            "spacy-legacy                     3.0.12\n",
            "spacy-loggers                    1.0.4\n",
            "Sphinx                           3.5.4\n",
            "sphinxcontrib-applehelp          1.0.4\n",
            "sphinxcontrib-devhelp            1.0.2\n",
            "sphinxcontrib-htmlhelp           2.0.1\n",
            "sphinxcontrib-jsmath             1.0.1\n",
            "sphinxcontrib-qthelp             1.0.3\n",
            "sphinxcontrib-serializinghtml    1.1.5\n",
            "SQLAlchemy                       2.0.18\n",
            "sqlparse                         0.4.4\n",
            "srsly                            2.4.6\n",
            "statsmodels                      0.13.5\n",
            "sympy                            1.11.1\n",
            "tables                           3.8.0\n",
            "tabulate                         0.8.10\n",
            "tblib                            2.0.0\n",
            "tenacity                         8.2.2\n",
            "tensorboard                      2.12.3\n",
            "tensorboard-data-server          0.7.1\n",
            "tensorflow                       2.12.0\n",
            "tensorflow-datasets              4.9.2\n",
            "tensorflow-estimator             2.12.0\n",
            "tensorflow-gcs-config            2.12.0\n",
            "tensorflow-hub                   0.13.0\n",
            "tensorflow-io-gcs-filesystem     0.32.0\n",
            "tensorflow-metadata              1.13.1\n",
            "tensorflow-probability           0.20.1\n",
            "tensorstore                      0.1.40\n",
            "termcolor                        2.3.0\n",
            "terminado                        0.17.1\n",
            "text-unidecode                   1.3\n",
            "textblob                         0.17.1\n",
            "tf-slim                          1.1.0\n",
            "thinc                            8.1.10\n",
            "threadpoolctl                    3.1.0\n",
            "tifffile                         2023.7.10\n",
            "tinycss2                         1.2.1\n",
            "toml                             0.10.2\n",
            "tomli                            2.0.1\n",
            "toolz                            0.12.0\n",
            "torch                            2.0.1+cu118\n",
            "torchaudio                       2.0.2+cu118\n",
            "torchdata                        0.6.1\n",
            "torchsummary                     1.5.1\n",
            "torchtext                        0.15.2\n",
            "torchvision                      0.15.2+cu118\n",
            "tornado                          6.3.1\n",
            "tqdm                             4.65.0\n",
            "traitlets                        5.7.1\n",
            "triton                           2.0.0\n",
            "tweepy                           4.13.0\n",
            "typer                            0.9.0\n",
            "types-setuptools                 68.0.0.1\n",
            "typing_extensions                4.7.1\n",
            "tzlocal                          5.0.1\n",
            "uritemplate                      4.1.1\n",
            "urllib3                          1.26.16\n",
            "vega-datasets                    0.9.0\n",
            "wasabi                           1.1.2\n",
            "wcwidth                          0.2.6\n",
            "webcolors                        1.13\n",
            "webencodings                     0.5.1\n",
            "websocket-client                 1.6.1\n",
            "Werkzeug                         2.3.6\n",
            "wheel                            0.40.0\n",
            "widgetsnbextension               3.6.4\n",
            "wordcloud                        1.8.2.2\n",
            "wrapt                            1.14.1\n",
            "xarray                           2022.12.0\n",
            "xarray-einstats                  0.6.0\n",
            "xgboost                          1.7.6\n",
            "xlrd                             2.0.1\n",
            "yarl                             1.9.2\n",
            "yellowbrick                      1.5\n",
            "yfinance                         0.2.22\n",
            "zict                             3.0.0\n",
            "zipp                             3.16.0\n"
          ]
        }
      ]
    },
    {
      "cell_type": "code",
      "source": [
        "# 내장 함수 <<<< 이미 import되어 따로 불러올 필요가 없는 함수\n",
        "\n",
        "# 예\n",
        "# input : 사용자 입력을 받는 함수\n",
        "# dir : 어떤 객체를 넘겨줬을 때 그 객체가 어떤 변수와 함수를 가지고 있는지 표시\n",
        "\n",
        "print(dir())\n",
        "import random # 외장 함수\n",
        "print(dir(random))\n",
        "import pickle\n",
        "print(dir(pickle))\n"
      ],
      "metadata": {
        "colab": {
          "base_uri": "https://localhost:8080/"
        },
        "id": "MXp1ADDCBLKJ",
        "outputId": "0fa4d4a9-d169-430b-8357-f93ccdfcd708"
      },
      "execution_count": null,
      "outputs": [
        {
          "output_type": "stream",
          "name": "stdout",
          "text": [
            "['In', 'Out', 'Thailand', 'ThailandPackage', 'Vietnam', 'VietnamPackage', '_', '__', '___', '__builtin__', '__builtins__', '__doc__', '__loader__', '__name__', '__package__', '__spec__', '_dh', '_exit_code', '_i', '_i1', '_i10', '_i11', '_i12', '_i13', '_i14', '_i15', '_i16', '_i17', '_i18', '_i19', '_i2', '_i20', '_i21', '_i22', '_i23', '_i24', '_i25', '_i26', '_i27', '_i28', '_i29', '_i3', '_i30', '_i31', '_i32', '_i33', '_i34', '_i35', '_i36', '_i37', '_i38', '_i39', '_i4', '_i40', '_i41', '_i42', '_i43', '_i44', '_i45', '_i46', '_i47', '_i48', '_i49', '_i5', '_i50', '_i51', '_i52', '_i6', '_i7', '_i8', '_i9', '_ih', '_ii', '_iii', '_oh', 'exit', 'file', 'get_ipython', 'inspect', 'module_code', 'module_directory', 'module_filename', 'os', 'pickle', 'quit', 'random', 'travel', 'trip_to']\n",
            "['BPF', 'LOG4', 'NV_MAGICCONST', 'RECIP_BPF', 'Random', 'SG_MAGICCONST', 'SystemRandom', 'TWOPI', '_ONE', '_Sequence', '_Set', '__all__', '__builtins__', '__cached__', '__doc__', '__file__', '__loader__', '__name__', '__package__', '__spec__', '_accumulate', '_acos', '_bisect', '_ceil', '_cos', '_e', '_exp', '_floor', '_index', '_inst', '_isfinite', '_log', '_os', '_pi', '_random', '_repeat', '_sha512', '_sin', '_sqrt', '_test', '_test_generator', '_urandom', '_warn', 'betavariate', 'choice', 'choices', 'expovariate', 'gammavariate', 'gauss', 'getrandbits', 'getstate', 'lognormvariate', 'normalvariate', 'paretovariate', 'randbytes', 'randint', 'random', 'randrange', 'sample', 'seed', 'setstate', 'shuffle', 'triangular', 'uniform', 'vonmisesvariate', 'weibullvariate']\n",
            "['ADDITEMS', 'APPEND', 'APPENDS', 'BINBYTES', 'BINBYTES8', 'BINFLOAT', 'BINGET', 'BININT', 'BININT1', 'BININT2', 'BINPERSID', 'BINPUT', 'BINSTRING', 'BINUNICODE', 'BINUNICODE8', 'BUILD', 'BYTEARRAY8', 'DEFAULT_PROTOCOL', 'DICT', 'DUP', 'EMPTY_DICT', 'EMPTY_LIST', 'EMPTY_SET', 'EMPTY_TUPLE', 'EXT1', 'EXT2', 'EXT4', 'FALSE', 'FLOAT', 'FRAME', 'FROZENSET', 'FunctionType', 'GET', 'GLOBAL', 'HIGHEST_PROTOCOL', 'INST', 'INT', 'LIST', 'LONG', 'LONG1', 'LONG4', 'LONG_BINGET', 'LONG_BINPUT', 'MARK', 'MEMOIZE', 'NEWFALSE', 'NEWOBJ', 'NEWOBJ_EX', 'NEWTRUE', 'NEXT_BUFFER', 'NONE', 'OBJ', 'PERSID', 'POP', 'POP_MARK', 'PROTO', 'PUT', 'PickleBuffer', 'PickleError', 'Pickler', 'PicklingError', 'PyStringMap', 'READONLY_BUFFER', 'REDUCE', 'SETITEM', 'SETITEMS', 'SHORT_BINBYTES', 'SHORT_BINSTRING', 'SHORT_BINUNICODE', 'STACK_GLOBAL', 'STOP', 'STRING', 'TRUE', 'TUPLE', 'TUPLE1', 'TUPLE2', 'TUPLE3', 'UNICODE', 'Unpickler', 'UnpicklingError', '_Framer', '_HAVE_PICKLE_BUFFER', '_Pickler', '_Stop', '_Unframer', '_Unpickler', '__all__', '__builtins__', '__cached__', '__doc__', '__file__', '__loader__', '__name__', '__package__', '__spec__', '_compat_pickle', '_dump', '_dumps', '_extension_cache', '_extension_registry', '_getattribute', '_inverted_registry', '_load', '_loads', '_test', '_tuplesize2code', 'bytes_types', 'codecs', 'compatible_formats', 'decode_long', 'dispatch_table', 'dump', 'dumps', 'encode_long', 'format_version', 'io', 'islice', 'load', 'loads', 'maxsize', 'pack', 'partial', 're', 'sys', 'unpack', 'whichmodule']\n"
          ]
        }
      ]
    },
    {
      "cell_type": "code",
      "source": [
        "# 리스트가 사용할 수 있는것들은 뭘까\n",
        "lst = [1,2,3]\n",
        "print(dir(lst))"
      ],
      "metadata": {
        "colab": {
          "base_uri": "https://localhost:8080/"
        },
        "id": "ntO2v9O_BLOO",
        "outputId": "88b76d2e-e4e7-4020-ae35-b5ef061fa0d1"
      },
      "execution_count": null,
      "outputs": [
        {
          "output_type": "stream",
          "name": "stdout",
          "text": [
            "['__add__', '__class__', '__class_getitem__', '__contains__', '__delattr__', '__delitem__', '__dir__', '__doc__', '__eq__', '__format__', '__ge__', '__getattribute__', '__getitem__', '__gt__', '__hash__', '__iadd__', '__imul__', '__init__', '__init_subclass__', '__iter__', '__le__', '__len__', '__lt__', '__mul__', '__ne__', '__new__', '__reduce__', '__reduce_ex__', '__repr__', '__reversed__', '__rmul__', '__setattr__', '__setitem__', '__sizeof__', '__str__', '__subclasshook__', 'append', 'clear', 'copy', 'count', 'extend', 'index', 'insert', 'pop', 'remove', 'reverse', 'sort']\n"
          ]
        }
      ]
    },
    {
      "cell_type": "code",
      "source": [
        "# 문자열이 사용할 수 있는것들은 무엇일까\n",
        "name = \"jim\"\n",
        "print(dir(name))"
      ],
      "metadata": {
        "colab": {
          "base_uri": "https://localhost:8080/"
        },
        "id": "D6tIoD8DBLSP",
        "outputId": "1a480886-ece8-4021-a525-a3c45baf9c9a"
      },
      "execution_count": null,
      "outputs": [
        {
          "output_type": "stream",
          "name": "stdout",
          "text": [
            "['__add__', '__class__', '__contains__', '__delattr__', '__dir__', '__doc__', '__eq__', '__format__', '__ge__', '__getattribute__', '__getitem__', '__getnewargs__', '__gt__', '__hash__', '__init__', '__init_subclass__', '__iter__', '__le__', '__len__', '__lt__', '__mod__', '__mul__', '__ne__', '__new__', '__reduce__', '__reduce_ex__', '__repr__', '__rmod__', '__rmul__', '__setattr__', '__sizeof__', '__str__', '__subclasshook__', 'capitalize', 'casefold', 'center', 'count', 'encode', 'endswith', 'expandtabs', 'find', 'format', 'format_map', 'index', 'isalnum', 'isalpha', 'isascii', 'isdecimal', 'isdigit', 'isidentifier', 'islower', 'isnumeric', 'isprintable', 'isspace', 'istitle', 'isupper', 'join', 'ljust', 'lower', 'lstrip', 'maketrans', 'partition', 'removeprefix', 'removesuffix', 'replace', 'rfind', 'rindex', 'rjust', 'rpartition', 'rsplit', 'rstrip', 'split', 'splitlines', 'startswith', 'strip', 'swapcase', 'title', 'translate', 'upper', 'zfill']\n"
          ]
        }
      ]
    },
    {
      "cell_type": "code",
      "source": [
        "# 외장함수 <<< 내장함수와는 달리, '직접 import' 해야만 하는 함수\n",
        "# 필요한 부분은 가져다 쓰면된다\n",
        "\n",
        "# glob : 경로 내의 폴더, 파일 목록 조회 (윈도우 dir)\n",
        "import glob\n",
        "print(glob.glob(\"*.py\")) # 확장자가 py 인 모든 파일"
      ],
      "metadata": {
        "colab": {
          "base_uri": "https://localhost:8080/"
        },
        "id": "0BvVAuGKBLWh",
        "outputId": "52103127-5dbc-47ab-9be1-db18baec1a48"
      },
      "execution_count": null,
      "outputs": [
        {
          "output_type": "stream",
          "name": "stdout",
          "text": [
            "[]\n"
          ]
        }
      ]
    },
    {
      "cell_type": "code",
      "source": [
        "# os : 운영체제에서 제공하는 기본 기능\n",
        "import os\n",
        "print(os.getcwd()) # 현재 디렉토리 표시\n",
        "\n",
        "# >>>> 코랩 환경에서 content 디렉토리에서 작업중이라는 것을 알 수 있구\n",
        "\n",
        "folder = \"sample_dir\"\n",
        "\n",
        "if os.path.exists(folder): # 폴더가 이미 존재하는지 확인\n",
        "  print(\"이미 존재하는 폴더입니다.\")\n",
        "  os.rmdir(folder)\n",
        "  print(\"이미 존재하는 폴더를 삭제했습니다\")\n",
        "else:\n",
        "  os.makedirs(folder) # 폴더를 직접 생성하는것\n",
        "  print(folder, \"폴더를 생성하였습니다.\")"
      ],
      "metadata": {
        "colab": {
          "base_uri": "https://localhost:8080/"
        },
        "id": "UXAMxUyfBLaS",
        "outputId": "e64e5ad3-2201-4b85-d4db-dee7df7d3654"
      },
      "execution_count": null,
      "outputs": [
        {
          "output_type": "stream",
          "name": "stdout",
          "text": [
            "/content\n",
            "이미 존재하는 폴더입니다.\n",
            "이미 존재하는 폴더를 삭제했습니다\n"
          ]
        }
      ]
    },
    {
      "cell_type": "code",
      "source": [
        "# time : 시간 y관련 함수들을 제공하는\n",
        "\n",
        "import time\n",
        "print(time.localtime())\n",
        "print(time.strftime(\"%Y-%m-%d %H:%M:%S\")) # 대문자 소문자는 지켜줘야함"
      ],
      "metadata": {
        "colab": {
          "base_uri": "https://localhost:8080/"
        },
        "id": "2fbnSa97BLeD",
        "outputId": "0bcfd877-6946-4c89-e424-689c1d69c996"
      },
      "execution_count": null,
      "outputs": [
        {
          "output_type": "stream",
          "name": "stdout",
          "text": [
            "time.struct_time(tm_year=2023, tm_mon=7, tm_mday=16, tm_hour=19, tm_min=15, tm_sec=0, tm_wday=6, tm_yday=197, tm_isdst=0)\n",
            "2023-07-16 19:15:00\n"
          ]
        }
      ]
    },
    {
      "cell_type": "code",
      "source": [
        "import datetime\n",
        "print(\"오늘 날짜는 \",datetime.date.today())\n",
        "\n",
        "# timedelta : 두 날짜 사이의 간격도 계산해 볼수 있다\n",
        "today = datetime.date.today() # 오늘 날짜 저장\n",
        "td = datetime.timedelta(days = 100) # 100일 저장\n",
        "print(\"우리가 만난지 100일은 \",today+td)"
      ],
      "metadata": {
        "colab": {
          "base_uri": "https://localhost:8080/"
        },
        "id": "ckfidXayBLiM",
        "outputId": "1b534e83-85c4-468b-f23b-5f49389f9797"
      },
      "execution_count": null,
      "outputs": [
        {
          "output_type": "stream",
          "name": "stdout",
          "text": [
            "오늘 날짜는  2023-07-16\n",
            "우리가 만난지 100일은  2023-10-24\n"
          ]
        }
      ]
    },
    {
      "cell_type": "code",
      "source": [],
      "metadata": {
        "id": "_yHz3ZnCBLlx"
      },
      "execution_count": null,
      "outputs": []
    },
    {
      "cell_type": "code",
      "source": [],
      "metadata": {
        "id": "U_au__WmBLpu"
      },
      "execution_count": null,
      "outputs": []
    },
    {
      "cell_type": "code",
      "source": [],
      "metadata": {
        "id": "_6J2pzAaBLtb"
      },
      "execution_count": null,
      "outputs": []
    }
  ]
}